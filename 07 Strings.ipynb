{
 "cells": [
  {
   "cell_type": "markdown",
   "metadata": {},
   "source": [
    "## String: String is sequence of characters treated as a single unit"
   ]
  },
  {
   "cell_type": "code",
   "execution_count": 70,
   "metadata": {},
   "outputs": [
    {
     "name": "stdout",
     "output_type": "stream",
     "text": [
      "<class 'str'>\n"
     ]
    },
    {
     "data": {
      "text/plain": [
       "str"
      ]
     },
     "execution_count": 70,
     "metadata": {},
     "output_type": "execute_result"
    }
   ],
   "source": [
    "s1=''\n",
    "s2='Hello'\n",
    "print(type(s1))\n",
    "\n",
    "type(s2)"
   ]
  },
  {
   "cell_type": "code",
   "execution_count": 75,
   "metadata": {},
   "outputs": [
    {
     "name": "stdout",
     "output_type": "stream",
     "text": [
      "6\n",
      "H\n",
      "T\n",
      "O\n"
     ]
    },
    {
     "data": {
      "text/plain": [
       "'Y'"
      ]
     },
     "execution_count": 75,
     "metadata": {},
     "output_type": "execute_result"
    }
   ],
   "source": [
    "a='PYTHON'\n",
    "print(len(a))\n",
    "print(min(a))\n",
    "print(a[2])\n",
    "print(a[-2])\n",
    "max(a)"
   ]
  },
  {
   "cell_type": "code",
   "execution_count": 24,
   "metadata": {},
   "outputs": [
    {
     "name": "stdout",
     "output_type": "stream",
     "text": [
      "India"
     ]
    },
    {
     "data": {
      "text/plain": [
       "'i'"
      ]
     },
     "execution_count": 24,
     "metadata": {},
     "output_type": "execute_result"
    }
   ],
   "source": [
    "s = 'India'\n",
    "for i in s:\n",
    "    print(i, end='')\n",
    "    \n",
    "s[-2]"
   ]
  },
  {
   "cell_type": "markdown",
   "metadata": {},
   "source": [
    "## IMMUTABLE strings"
   ]
  },
  {
   "cell_type": "code",
   "execution_count": 26,
   "metadata": {},
   "outputs": [],
   "source": [
    "# str1 = 'I Love python'\n",
    "# str1[0] = 'You'\n",
    "\n",
    "# str1"
   ]
  },
  {
   "cell_type": "markdown",
   "metadata": {},
   "source": [
    "### Note: Best way to change the string content"
   ]
  },
  {
   "cell_type": "code",
   "execution_count": 27,
   "metadata": {},
   "outputs": [
    {
     "data": {
      "text/plain": [
       "'You Love python'"
      ]
     },
     "execution_count": 27,
     "metadata": {},
     "output_type": "execute_result"
    }
   ],
   "source": [
    "str1 = 'I Love python'\n",
    "str2 = 'You'+str1[1:]\n",
    "\n",
    "str2\n"
   ]
  },
  {
   "cell_type": "markdown",
   "metadata": {},
   "source": [
    "### Note: String with same content has same id"
   ]
  },
  {
   "cell_type": "code",
   "execution_count": 30,
   "metadata": {},
   "outputs": [
    {
     "name": "stdout",
     "output_type": "stream",
     "text": [
      "2710102832432\n",
      "2710102832432\n"
     ]
    }
   ],
   "source": [
    "str1 = 'hi'\n",
    "str2 = 'hi'\n",
    "\n",
    "print(id(str1))\n",
    "print(id(str2))"
   ]
  },
  {
   "cell_type": "code",
   "execution_count": 9,
   "metadata": {},
   "outputs": [
    {
     "name": "stdout",
     "output_type": "stream",
     "text": [
      "Enter S1 string hi\n",
      "Enter S2 string hwkk\n",
      "h"
     ]
    }
   ],
   "source": [
    "s1 = input('Enter S1 string ')\n",
    "s2 =  input('Enter S2 string ')\n",
    "\n",
    "for i in s1:\n",
    "    if i in s2:\n",
    "        print(i, end='')"
   ]
  },
  {
   "cell_type": "code",
   "execution_count": 23,
   "metadata": {},
   "outputs": [
    {
     "name": "stdout",
     "output_type": "stream",
     "text": [
      "IOEYHN"
     ]
    }
   ],
   "source": [
    "S = 'ILOVEPYTHON'\n",
    "\n",
    "for ch in range(0, len(S), 2):\n",
    "    print(S[ch], end='')"
   ]
  },
  {
   "cell_type": "code",
   "execution_count": 82,
   "metadata": {},
   "outputs": [
    {
     "name": "stdout",
     "output_type": "stream",
     "text": [
      "I O E R G A M N "
     ]
    }
   ],
   "source": [
    "s='ILOVEPROGRAMMING'\n",
    "for chare in range(0,len(s),2):\n",
    "    print(s[chare], end=' ')"
   ]
  },
  {
   "cell_type": "code",
   "execution_count": 1,
   "metadata": {},
   "outputs": [
    {
     "name": "stdout",
     "output_type": "stream",
     "text": [
      "U Love Python\n"
     ]
    }
   ],
   "source": [
    "str1='I Love Python'\n",
    "str2='U'+str1[1:]\n",
    "print(str2)"
   ]
  },
  {
   "cell_type": "code",
   "execution_count": 2,
   "metadata": {},
   "outputs": [
    {
     "name": "stdout",
     "output_type": "stream",
     "text": [
      "1935511771824\n"
     ]
    },
    {
     "data": {
      "text/plain": [
       "1935511771824"
      ]
     },
     "execution_count": 2,
     "metadata": {},
     "output_type": "execute_result"
    }
   ],
   "source": [
    "str1='Hello'\n",
    "str2='Hello'\n",
    "print(id(str1))\n",
    "id(str2)\n"
   ]
  },
  {
   "cell_type": "markdown",
   "metadata": {},
   "source": [
    "## String Slicing"
   ]
  },
  {
   "cell_type": "code",
   "execution_count": 31,
   "metadata": {},
   "outputs": [
    {
     "name": "stdout",
     "output_type": "stream",
     "text": [
      "c Beng\n",
      "IISc Bengaluru\n",
      "urulagneB cSII\n",
      "urulagneB cSI\n",
      "IISc Bengalur\n",
      "IISc Bengaluru Malleshwar\n"
     ]
    },
    {
     "data": {
      "text/plain": [
       "'IISc BengaluruIISc BengaluruIISc Bengaluru'"
      ]
     },
     "execution_count": 31,
     "metadata": {},
     "output_type": "execute_result"
    }
   ],
   "source": [
    "s='IISc Bengaluru'\n",
    "print(s[3:9])\n",
    "print(s[:])\n",
    "print(s[::-1])\n",
    "print(s[-1:0:-1])\n",
    "print(s[:-1])\n",
    "\n",
    "s2=' Malleshwar'\n",
    "s4 = s + s2\n",
    "print(s4)\n",
    "s3 = s*3\n",
    "s3"
   ]
  },
  {
   "cell_type": "markdown",
   "metadata": {},
   "source": [
    "## String \"in\" and \"not in\""
   ]
  },
  {
   "cell_type": "code",
   "execution_count": 24,
   "metadata": {},
   "outputs": [
    {
     "name": "stdout",
     "output_type": "stream",
     "text": [
      "True\n"
     ]
    },
    {
     "data": {
      "text/plain": [
       "True"
      ]
     },
     "execution_count": 24,
     "metadata": {},
     "output_type": "execute_result"
    }
   ],
   "source": [
    "s4='Information technology Engineering'\n",
    "print('Information ' in s4)\n",
    "\n",
    "'Hello' not in s4"
   ]
  },
  {
   "cell_type": "code",
   "execution_count": 33,
   "metadata": {},
   "outputs": [
    {
     "name": "stdout",
     "output_type": "stream",
     "text": [
      "Greatet"
     ]
    },
    {
     "data": {
      "text/plain": [
       "'t'"
      ]
     },
     "execution_count": 33,
     "metadata": {},
     "output_type": "execute_result"
    }
   ],
   "source": [
    "word1='Greatest'\n",
    "word2='Great'\n",
    "for letter in word1:\n",
    "    if letter in word2:\n",
    "        print(letter, end=\"\")\n",
    "\n"
   ]
  },
  {
   "cell_type": "code",
   "execution_count": 44,
   "metadata": {},
   "outputs": [
    {
     "name": "stdout",
     "output_type": "stream",
     "text": [
      "True\n",
      "False\n",
      "False\n",
      "True\n"
     ]
    }
   ],
   "source": [
    "s1='ABC'\n",
    "s2='abc'\n",
    "print(s2>s1)\n",
    "\n",
    "s3=s2.upper()\n",
    "print(s1>s3)\n",
    "\n",
    "s4='AAB'\n",
    "s5='AAA'\n",
    "print(s4<s5)\n",
    "\n",
    "print(s4>=s5)"
   ]
  },
  {
   "cell_type": "markdown",
   "metadata": {},
   "source": [
    "## String .format() Method()\n",
    "### Syntax: template.format(p0, p1,.......k0=v0, k1=v1)"
   ]
  },
  {
   "cell_type": "code",
   "execution_count": 36,
   "metadata": {},
   "outputs": [
    {
     "data": {
      "text/plain": [
       "'4 plus 5 equals nine'"
      ]
     },
     "execution_count": 36,
     "metadata": {},
     "output_type": "execute_result"
    }
   ],
   "source": [
    "'{} plus {} equals {}'.format(4, 5, 'nine')"
   ]
  },
  {
   "cell_type": "code",
   "execution_count": 38,
   "metadata": {},
   "outputs": [
    {
     "data": {
      "text/plain": [
       "'my name is Kiran and I am a Python programmer '"
      ]
     },
     "execution_count": 38,
     "metadata": {},
     "output_type": "execute_result"
    }
   ],
   "source": [
    "'my name is {0} and I am a {1} programmer '.format('Kiran', 'Python')"
   ]
  },
  {
   "cell_type": "code",
   "execution_count": 43,
   "metadata": {},
   "outputs": [
    {
     "data": {
      "text/plain": [
       "'Amingad is Beautiful and Karadantu is famous'"
      ]
     },
     "execution_count": 43,
     "metadata": {},
     "output_type": "execute_result"
    }
   ],
   "source": [
    "'{city} is Beautiful and {famous} is famous'.format(city='Amingad', famous='Karadantu')"
   ]
  },
  {
   "cell_type": "code",
   "execution_count": 48,
   "metadata": {},
   "outputs": [
    {
     "name": "stdout",
     "output_type": "stream",
     "text": [
      "2 plus 5 equals Seven\n"
     ]
    },
    {
     "data": {
      "text/plain": [
       "'My Name is Prakash and surname is Bantanur'"
      ]
     },
     "execution_count": 48,
     "metadata": {},
     "output_type": "execute_result"
    }
   ],
   "source": [
    "print('{} plus {} equals {}'.format(2,5,'Seven'))\n",
    "'My Name is {} and surname is {}'.format('Prakash','Bantanur')"
   ]
  },
  {
   "cell_type": "markdown",
   "metadata": {},
   "source": [
    "## The split() method\n",
    "### split() method returns all the word in a string"
   ]
  },
  {
   "cell_type": "code",
   "execution_count": 55,
   "metadata": {},
   "outputs": [
    {
     "data": {
      "text/plain": [
       "['C', 'C#', 'Java', 'Python']"
      ]
     },
     "execution_count": 55,
     "metadata": {},
     "output_type": "execute_result"
    }
   ],
   "source": [
    "prglngs='C C# Java Python'\n",
    "prglngs.split()"
   ]
  },
  {
   "cell_type": "code",
   "execution_count": 24,
   "metadata": {},
   "outputs": [
    {
     "name": "stdout",
     "output_type": "stream",
     "text": [
      "['C', 'C#', 'sharp', 'java', 'j2EE', 'python']\n",
      "<class 'list'>\n",
      "C\n",
      "C#\n",
      "sharp\n",
      "java\n",
      "j2EE\n",
      "python\n",
      "<class 'str'>\n"
     ]
    }
   ],
   "source": [
    "prgmlngs = 'C,C#,sharp,java,j2EE,python'\n",
    "langs = prgmlngs.split(',')\n",
    "print(langs)\n",
    "print(type(langs))\n",
    "\n",
    "\n",
    "\n",
    "for l in langs:\n",
    "    print(l)\n",
    "print(type(l))"
   ]
  },
  {
   "cell_type": "markdown",
   "metadata": {},
   "source": [
    "### Note: split() the default delimiter is space"
   ]
  },
  {
   "cell_type": "code",
   "execution_count": 48,
   "metadata": {},
   "outputs": [
    {
     "name": "stdout",
     "output_type": "stream",
     "text": [
      "True\n",
      "True\n",
      "False\n",
      "False\n",
      "True\n",
      "True\n"
     ]
    }
   ],
   "source": [
    "s='1Python'\n",
    "print(s.isalnum())\n",
    "\n",
    "s1 = 'Python'\n",
    "print(s1.isalnum())\n",
    "\n",
    "s2='Python Programming'\n",
    "print(s2.isalnum())\n",
    "\n",
    "s3='1Python'\n",
    "print(s3.isalpha())\n",
    "\n",
    "s4='1458'\n",
    "print(s4.isdigit())\n",
    "\n",
    "s5='hello'\n",
    "print(s5.islower())"
   ]
  },
  {
   "cell_type": "code",
   "execution_count": 17,
   "metadata": {},
   "outputs": [
    {
     "name": "stdout",
     "output_type": "stream",
     "text": [
      "20\n",
      "-1\n",
      "44\n",
      "2\n"
     ]
    }
   ],
   "source": [
    "s1 = 'Python is a easiest language in programming language'\n",
    "print(s1.find('lang'))\n",
    "print(s1.find('langi'))\n",
    "print(s1.rfind('lang'))\n",
    "print(s1.count('o'))"
   ]
  },
  {
   "cell_type": "code",
   "execution_count": 52,
   "metadata": {},
   "outputs": [
    {
     "name": "stdout",
     "output_type": "stream",
     "text": [
      "12\n",
      "-1\n",
      "31\n",
      "34\n",
      "4\n",
      "2\n",
      "2\n"
     ]
    }
   ],
   "source": [
    "s4='Information technology Engineering'\n",
    "print(s4.find('tech'))\n",
    "print(s4.find('Java'))\n",
    "print(s4.rfind('i'))\n",
    "print(len(s4))\n",
    "print(s4.count('o'))\n",
    "\n",
    "test_str = \"GeeksforGeeks\"\n",
    "count = 0\n",
    "for i in test_str:\n",
    "    if i == 's':\n",
    "        count = count +1\n",
    "print(count)\n",
    "\n",
    "print(test_str.count('s'))"
   ]
  },
  {
   "cell_type": "code",
   "execution_count": 65,
   "metadata": {},
   "outputs": [
    {
     "name": "stdout",
     "output_type": "stream",
     "text": [
      "India is great\n",
      "india is great\n",
      "INDIA IS GREAT\n",
      "India Is Great\n",
      "iNDIA IS gREAT\n",
      "Karnataka is Great\n",
      "India is great\n"
     ]
    }
   ],
   "source": [
    "s5='India is Great'\n",
    "print(s5.capitalize())\n",
    "print(s5.lower())\n",
    "print(s5.upper())\n",
    "print(s5.title())\n",
    "print(s5.swapcase())\n",
    "print(s5.replace('India','Karnataka'))\n",
    "print(s5.capitalize())"
   ]
  },
  {
   "cell_type": "markdown",
   "metadata": {},
   "source": [
    "## Stripping unwanted strips from string"
   ]
  },
  {
   "cell_type": "code",
   "execution_count": 19,
   "metadata": {},
   "outputs": [
    {
     "name": "stdout",
     "output_type": "stream",
     "text": [
      " \t\tIt's Cool!\n",
      "It's Cool!\n",
      "---------------------\n",
      "Welcome\n",
      "\n",
      "\n",
      "Welcome\n",
      "----------------------\n",
      "\n",
      "\n",
      "hello\n",
      "\n",
      "\n",
      "hello\n"
     ]
    }
   ],
   "source": [
    "str1=' \\t\\tIt\\'s Cool!' #It removes white and Tab spaces\n",
    "print(str1)\n",
    "print(str1.lstrip())\n",
    "print('---------------------')\n",
    "\n",
    "str2='Welcome\\n\\n'\n",
    "print(str2)\n",
    "print(str2.rstrip())\n",
    "\n",
    "print('----------------------')\n",
    "str3='\\n\\nhello\\n\\n'\n",
    "print(str3)\n",
    "str4 = str3.rstrip()\n",
    "print(str4.lstrip())"
   ]
  },
  {
   "cell_type": "code",
   "execution_count": 81,
   "metadata": {},
   "outputs": [
    {
     "name": "stdout",
     "output_type": "stream",
     "text": [
      "     Microsoft WindowsOS      \n",
      "           Microsoft WindowsOS\n",
      "Microsoft WindowsOS           \n"
     ]
    }
   ],
   "source": [
    "str6='Microsoft WindowsOS'\n",
    "print(str6.center(30))\n",
    "print(str6.rjust(30))\n",
    "print(str6.ljust(30))"
   ]
  },
  {
   "cell_type": "code",
   "execution_count": 25,
   "metadata": {},
   "outputs": [
    {
     "data": {
      "text/plain": [
       "1"
      ]
     },
     "execution_count": 25,
     "metadata": {},
     "output_type": "execute_result"
    }
   ],
   "source": [
    "def counta(word):\n",
    "    return word.count('a')\n",
    "counta('helloa')"
   ]
  },
  {
   "cell_type": "code",
   "execution_count": 30,
   "metadata": {},
   "outputs": [
    {
     "data": {
      "text/plain": [
       "6"
      ]
     },
     "execution_count": 30,
     "metadata": {},
     "output_type": "execute_result"
    }
   ],
   "source": [
    "def numofoccu(word, letter):\n",
    "    count= 0\n",
    "    for i in word:\n",
    "        if i == letter:\n",
    "            count +=1\n",
    "    return count\n",
    "numofoccu('helloooooo', 'o')"
   ]
  },
  {
   "cell_type": "code",
   "execution_count": 32,
   "metadata": {},
   "outputs": [
    {
     "name": "stdout",
     "output_type": "stream",
     "text": [
      "Swapped sentence: hENGE nAVVU\n"
     ]
    }
   ],
   "source": [
    "def modify(word):\n",
    "    return word.swapcase()\n",
    "print('Swapped sentence:',modify('Henge Navvu'))"
   ]
  },
  {
   "cell_type": "code",
   "execution_count": 37,
   "metadata": {},
   "outputs": [
    {
     "data": {
      "text/plain": [
       "'d'"
      ]
     },
     "execution_count": 37,
     "metadata": {},
     "output_type": "execute_result"
    }
   ],
   "source": [
    "def findpos(word, pos):\n",
    "    return word[pos]\n",
    "findpos('word', 3)"
   ]
  },
  {
   "cell_type": "code",
   "execution_count": 42,
   "metadata": {},
   "outputs": [
    {
     "name": "stdout",
     "output_type": "stream",
     "text": [
      "heo python word"
     ]
    }
   ],
   "source": [
    "def elim_letter(word, letter):\n",
    "    for i in word:\n",
    "        if i == letter:\n",
    "            continue\n",
    "        print(i, end='')\n",
    "#     return i\n",
    "elim_letter('hello python world', 'l')"
   ]
  },
  {
   "cell_type": "markdown",
   "metadata": {},
   "source": [
    "## Important"
   ]
  },
  {
   "cell_type": "code",
   "execution_count": 43,
   "metadata": {},
   "outputs": [
    {
     "data": {
      "text/plain": [
       "{'a': 3, 'e': 1, 'i': 3, 'o': 1, 'u': 1}"
      ]
     },
     "execution_count": 43,
     "metadata": {},
     "output_type": "execute_result"
    }
   ],
   "source": [
    "def vowelcount(word):\n",
    "    word = word.lower()\n",
    "    return {v:word.count(v) for v in 'aeiou'}\n",
    "vowelcount('India is a Great country')"
   ]
  },
  {
   "cell_type": "code",
   "execution_count": 55,
   "metadata": {},
   "outputs": [
    {
     "data": {
      "text/plain": [
       "'hI hEllO AEIOU'"
      ]
     },
     "execution_count": 55,
     "metadata": {},
     "output_type": "execute_result"
    }
   ],
   "source": [
    "def vowelcapitalize(word):\n",
    "    new=''\n",
    "    for i in word:\n",
    "        if i=='a' or i=='e' or i=='i' or i=='o' or i=='u':\n",
    "            \n",
    "            new=new+i.upper()\n",
    "        else:\n",
    "            new=new+i\n",
    "    return new\n",
    "vowelcapitalize('hi hello aeiou')"
   ]
  },
  {
   "cell_type": "code",
   "execution_count": 59,
   "metadata": {},
   "outputs": [
    {
     "name": "stdout",
     "output_type": "stream",
     "text": [
      "kjhdfkhkjfhskfh"
     ]
    }
   ],
   "source": [
    "def removevowel(word):\n",
    "    for i in word:\n",
    "        if i=='a' or i=='e' or i=='i' or i=='o' or i=='u':\n",
    "            continue\n",
    "        print(i, end='')\n",
    "removevowel('kjhdfkahkjfahskfha')"
   ]
  },
  {
   "cell_type": "code",
   "execution_count": 61,
   "metadata": {},
   "outputs": [
    {
     "data": {
      "text/plain": [
       "True"
      ]
     },
     "execution_count": 61,
     "metadata": {},
     "output_type": "execute_result"
    }
   ],
   "source": [
    "def wordpalidrome(word1, word2):\n",
    "    word1=word1.lower()\n",
    "    word2=word2.lower()\n",
    "    if word1 == word2[::-1]:\n",
    "        return True\n",
    "    else:\n",
    "        return False\n",
    "wordpalidrome('hi', 'IH')"
   ]
  },
  {
   "cell_type": "code",
   "execution_count": 64,
   "metadata": {},
   "outputs": [
    {
     "data": {
      "text/plain": [
       "'h1h22h1h'"
      ]
     },
     "execution_count": 64,
     "metadata": {},
     "output_type": "execute_result"
    }
   ],
   "source": [
    "def mirrortext(w1, w2):\n",
    "    return w1+w2+w2[::-1]+w1[::-1]\n",
    "mirrortext('h1', 'h2')"
   ]
  },
  {
   "cell_type": "code",
   "execution_count": 1,
   "metadata": {},
   "outputs": [
    {
     "name": "stdout",
     "output_type": "stream",
     "text": [
      "abbbabb\n",
      "Number of 'b's are 5\n"
     ]
    }
   ],
   "source": [
    "def countB(word):\n",
    "    print(word)\n",
    "    return word.count('b')\n",
    "print(\"Number of 'b's are\",countB('abbbabb'))"
   ]
  },
  {
   "cell_type": "code",
   "execution_count": 17,
   "metadata": {},
   "outputs": [
    {
     "name": "stdout",
     "output_type": "stream",
     "text": [
      "ababba\n",
      "Letter occures in a word 3\n"
     ]
    }
   ],
   "source": [
    "def wordletter(word, letter):\n",
    "    print(word)\n",
    "    return word.count(letter)\n",
    "    \n",
    "print('Letter occures in a word',wordletter('ababba', 'b'))"
   ]
  },
  {
   "cell_type": "code",
   "execution_count": 53,
   "metadata": {},
   "outputs": [
    {
     "name": "stdout",
     "output_type": "stream",
     "text": [
      "adbjsdbskjd\n"
     ]
    },
    {
     "data": {
      "text/plain": [
       "1"
      ]
     },
     "execution_count": 53,
     "metadata": {},
     "output_type": "execute_result"
    }
   ],
   "source": [
    "def wordlet(word, letter):\n",
    "    print(word)\n",
    "    return word.count(letter)\n",
    "\n",
    "wordlet('adbjsdbskjd', 'k')"
   ]
  },
  {
   "cell_type": "code",
   "execution_count": 24,
   "metadata": {},
   "outputs": [
    {
     "name": "stdout",
     "output_type": "stream",
     "text": [
      "India\n",
      "Modified word is:  iNDIA\n"
     ]
    }
   ],
   "source": [
    "def modify(word):\n",
    "    print(word)\n",
    "    return word.swapcase()\n",
    "print('Modified word is: ',modify('India'))"
   ]
  },
  {
   "cell_type": "code",
   "execution_count": 29,
   "metadata": {},
   "outputs": [
    {
     "name": "stdout",
     "output_type": "stream",
     "text": [
      "India\n",
      "Character at position 2 is d\n"
     ]
    }
   ],
   "source": [
    "def getChar(word, char):\n",
    "    print(word)\n",
    "    print('Character at position',char,'is ',end='')\n",
    "    return word[char]\n",
    "print(getChar('India',2))"
   ]
  },
  {
   "cell_type": "code",
   "execution_count": 61,
   "metadata": {},
   "outputs": [
    {
     "name": "stdout",
     "output_type": "stream",
     "text": [
      "Character 2 in India is d\n"
     ]
    }
   ],
   "source": [
    "def getChar(word, char):\n",
    "    print('Character', char, 'in',word, 'is ', end='')\n",
    "    return word[char]\n",
    "print(getChar('India',2))"
   ]
  },
  {
   "cell_type": "code",
   "execution_count": 28,
   "metadata": {},
   "outputs": [
    {
     "name": "stdout",
     "output_type": "stream",
     "text": [
      "Addicted to Python\n",
      "Character at position 10 is t\n"
     ]
    }
   ],
   "source": [
    "def getChar(word, pos):\n",
    "    print(word)\n",
    "    print('Character at position',pos,'is ',end='')\n",
    "    counter=0\n",
    "    for i in word:\n",
    "        counter=counter+1\n",
    "        if counter==pos:\n",
    "            return i\n",
    "print(getChar('Addicted to Python',10))"
   ]
  },
  {
   "cell_type": "code",
   "execution_count": 30,
   "metadata": {},
   "outputs": [
    {
     "name": "stdout",
     "output_type": "stream",
     "text": [
      "PYTHON PROGRAMMING\n",
      "After removing the letter P\n",
      "YTHON ROGRAMMING\n"
     ]
    }
   ],
   "source": [
    "def eliminate(word, letter):\n",
    "    print(word)\n",
    "    print('After removing the letter',letter)\n",
    "    return word.replace(letter,'')\n",
    "print(eliminate('PYTHON PROGRAMMING', 'P'))"
   ]
  },
  {
   "cell_type": "code",
   "execution_count": 11,
   "metadata": {},
   "outputs": [
    {
     "name": "stdout",
     "output_type": "stream",
     "text": [
      "Python\n"
     ]
    },
    {
     "data": {
      "text/plain": [
       "0"
      ]
     },
     "execution_count": 11,
     "metadata": {},
     "output_type": "execute_result"
    }
   ],
   "source": [
    "def capVowel(word):\n",
    "    print(word)\n",
    "    word=word.lower()\n",
    "    for i in word:\n",
    "        return i.count(word) \n",
    "capVowel('Python')"
   ]
  },
  {
   "cell_type": "code",
   "execution_count": 19,
   "metadata": {},
   "outputs": [
    {
     "name": "stdout",
     "output_type": "stream",
     "text": [
      "String i love python\n",
      "After captitalize\n",
      "output string: I lOvE pythOn\n"
     ]
    }
   ],
   "source": [
    "def capVowels(word):\n",
    "    new=''\n",
    "    print('String',word)\n",
    "    print('After captitalize')\n",
    "    print('output string: ',end='')\n",
    "    for i in word:\n",
    "        if (i=='a' or i=='e' or i=='i' or i=='o' or i=='u'):\n",
    "            new=new+i.upper()\n",
    "        else:\n",
    "            new=new+i\n",
    "    return new\n",
    "print(capVowels('i love python'))"
   ]
  },
  {
   "cell_type": "code",
   "execution_count": 20,
   "metadata": {},
   "outputs": [
    {
     "name": "stdout",
     "output_type": "stream",
     "text": [
      "i love python\n",
      "output string:  lv pythn\n"
     ]
    }
   ],
   "source": [
    "def replacevowel(word):\n",
    "    new=''\n",
    "    print(word)\n",
    "    print('output string: ',end='')\n",
    "    for i in word:\n",
    "        if (i=='a' or i=='e' or i=='i' or i=='o' or i=='u'):\n",
    "            new=new+i.replace(i,'')\n",
    "        else:\n",
    "            new=new+i\n",
    "    return new\n",
    "print(replacevowel('i love python'))"
   ]
  },
  {
   "cell_type": "code",
   "execution_count": 23,
   "metadata": {},
   "outputs": [
    {
     "name": "stdout",
     "output_type": "stream",
     "text": [
      "Hello\n",
      "Hello\n",
      "False\n",
      "Hello\n",
      "olleH\n",
      "True\n"
     ]
    }
   ],
   "source": [
    "def isReverse(word1, word2):\n",
    "    print(word1)\n",
    "    print(word2)\n",
    "    if (word1==word2[::-1]):\n",
    "        return True\n",
    "    else:\n",
    "        return False\n",
    "print(isReverse('Hello', 'Hello'))\n",
    "print(isReverse('Hello', 'olleH'))"
   ]
  },
  {
   "cell_type": "code",
   "execution_count": 27,
   "metadata": {},
   "outputs": [
    {
     "name": "stdout",
     "output_type": "stream",
     "text": [
      "Python\n",
      "Strong\n",
      "String: Python Strong gnortS nohtyP\n"
     ]
    }
   ],
   "source": [
    "def isMirror(word1, word2):\n",
    "    print(word1)\n",
    "    print(word2)\n",
    "    print('String: ',end='')\n",
    "    return word1+' ' +word2+' '+word2[::-1]+' '+word1[::-1]\n",
    "print(isMirror('Python', 'Strong'))"
   ]
  },
  {
   "cell_type": "code",
   "execution_count": 31,
   "metadata": {},
   "outputs": [
    {
     "name": "stdout",
     "output_type": "stream",
     "text": [
      "Sum of 10 and 10 is 100\n"
     ]
    }
   ],
   "source": [
    "str1='Sum of {0:b} and {1:b} is {2:b}'.format(2,2,4)\n",
    "print(str1)"
   ]
  },
  {
   "cell_type": "markdown",
   "metadata": {},
   "source": [
    "## Excersize"
   ]
  },
  {
   "cell_type": "code",
   "execution_count": 69,
   "metadata": {},
   "outputs": [
    {
     "name": "stdout",
     "output_type": "stream",
     "text": [
      "1 "
     ]
    }
   ],
   "source": [
    "str1='ABBBCBB'\n",
    "print(str1.count('BB', 4),end=' ')\n",
    "# print(str1.count('BB',2),end='')"
   ]
  },
  {
   "cell_type": "code",
   "execution_count": 74,
   "metadata": {},
   "outputs": [
    {
     "name": "stdout",
     "output_type": "stream",
     "text": [
      "Jython is great\n"
     ]
    }
   ],
   "source": [
    "s1='Python is great'\n",
    "s1= 'J'+s1[1:]\n",
    "print(s1)"
   ]
  },
  {
   "cell_type": "code",
   "execution_count": 95,
   "metadata": {},
   "outputs": [
    {
     "data": {
      "text/plain": [
       "{'a': 2, 'e': 0, 'i': 0, 'o': 0, 'u': 0}"
      ]
     },
     "execution_count": 95,
     "metadata": {},
     "output_type": "execute_result"
    }
   ],
   "source": [
    "def startendvowel(word):\n",
    "    return {v:word.count(v) for v in 'aeiou'}\n",
    "startendvowel('hsjhdgajssdfghjaf')"
   ]
  },
  {
   "cell_type": "code",
   "execution_count": 81,
   "metadata": {},
   "outputs": [
    {
     "data": {
      "text/plain": [
       "'A'"
      ]
     },
     "execution_count": 81,
     "metadata": {},
     "output_type": "execute_result"
    }
   ],
   "source": [
    "chr(65)"
   ]
  },
  {
   "cell_type": "code",
   "execution_count": 92,
   "metadata": {},
   "outputs": [
    {
     "ename": "SyntaxError",
     "evalue": "unexpected EOF while parsing (<ipython-input-92-f842a8760746>, line 2)",
     "output_type": "error",
     "traceback": [
      "\u001b[1;36m  File \u001b[1;32m\"<ipython-input-92-f842a8760746>\"\u001b[1;36m, line \u001b[1;32m2\u001b[0m\n\u001b[1;33m    if s1.startswith('j') or s1.startswith('k'):\u001b[0m\n\u001b[1;37m                                                ^\u001b[0m\n\u001b[1;31mSyntaxError\u001b[0m\u001b[1;31m:\u001b[0m unexpected EOF while parsing\n"
     ]
    }
   ],
   "source": [
    "s1 = 'jhkdakdh'\n",
    "if s1.startswith('j') or s1.startswith('k'):"
   ]
  },
  {
   "cell_type": "code",
   "execution_count": 36,
   "metadata": {},
   "outputs": [
    {
     "name": "stdout",
     "output_type": "stream",
     "text": [
      "P r o g r a m m i n g "
     ]
    }
   ],
   "source": [
    "s='Programming'\n",
    "for char in s:\n",
    "    print(char, end=' ')"
   ]
  },
  {
   "cell_type": "code",
   "execution_count": 37,
   "metadata": {},
   "outputs": [
    {
     "name": "stdout",
     "output_type": "stream",
     "text": [
      "abcaaabc\n",
      "0\n"
     ]
    }
   ],
   "source": [
    "def countBC(word):\n",
    "    print(word)\n",
    "    count=0\n",
    "    for bc in word:\n",
    "        if (bc=='bc'):\n",
    "            count+=1\n",
    "    return count\n",
    "print(countBC('abcaaabc'))"
   ]
  },
  {
   "cell_type": "code",
   "execution_count": 45,
   "metadata": {},
   "outputs": [
    {
     "name": "stdout",
     "output_type": "stream",
     "text": [
      "9\n",
      "well done\n",
      "well done\n",
      "well done\n",
      "well done\n",
      "well done\n",
      "well done\n",
      "well done\n",
      "well done\n",
      "well done\n"
     ]
    }
   ],
   "source": [
    "def upperLower(word):\n",
    "    count=0\n",
    "    print(len(word))\n",
    "    \n",
    "    while count<len(word):\n",
    "        print(word)\n",
    "        count+=1\n",
    "upperLower('well done')"
   ]
  },
  {
   "cell_type": "code",
   "execution_count": 46,
   "metadata": {},
   "outputs": [
    {
     "name": "stdout",
     "output_type": "stream",
     "text": [
      "Hello\n",
      "olleH\n"
     ]
    }
   ],
   "source": [
    "def reverse(word):\n",
    "    print(word)\n",
    "    s1=word\n",
    "    s2=s1[::-1]\n",
    "    print(s2)\n",
    "reverse('Hello')"
   ]
  },
  {
   "cell_type": "code",
   "execution_count": 96,
   "metadata": {},
   "outputs": [
    {
     "data": {
      "text/plain": [
       "2"
      ]
     },
     "execution_count": 96,
     "metadata": {},
     "output_type": "execute_result"
    }
   ],
   "source": [
    "str1 = \"Welcome to USA. usa awesome, isn't it?\"\n",
    "str1 = str1.lower()\n",
    "str1.count('usa')"
   ]
  },
  {
   "cell_type": "code",
   "execution_count": 103,
   "metadata": {},
   "outputs": [
    {
     "name": "stdout",
     "output_type": "stream",
     "text": [
      "6.333333333333333\n"
     ]
    }
   ],
   "source": [
    "str1 = \"PYnative29@#8496\"\n",
    "count=0\n",
    "leng=0\n",
    "for num in str1:\n",
    "    if num.isdigit():\n",
    "        count = count+int(num)\n",
    "        leng+=1\n",
    "print(count/leng)"
   ]
  },
  {
   "cell_type": "code",
   "execution_count": 112,
   "metadata": {},
   "outputs": [
    {
     "data": {
      "text/plain": [
       "43"
      ]
     },
     "execution_count": 112,
     "metadata": {},
     "output_type": "execute_result"
    }
   ],
   "source": [
    "str1 = \"Emma is a data scientist who knows Python. Emma works at google.\"\n",
    "str1.rfind('Emma')"
   ]
  },
  {
   "cell_type": "code",
   "execution_count": 119,
   "metadata": {},
   "outputs": [
    {
     "data": {
      "text/plain": [
       "['Emma', 'is', 'a', 'data', 'scientist']"
      ]
     },
     "execution_count": 119,
     "metadata": {},
     "output_type": "execute_result"
    }
   ],
   "source": [
    "str1 = 'Emma-is-a-data-scientist'\n",
    "str1.split('-')"
   ]
  },
  {
   "cell_type": "code",
   "execution_count": 123,
   "metadata": {},
   "outputs": [
    {
     "data": {
      "text/plain": [
       "False"
      ]
     },
     "execution_count": 123,
     "metadata": {},
     "output_type": "execute_result"
    }
   ],
   "source": [
    "str1 = \"/*Jon is @developer & musician\"\n",
    "# for i in str1:\n",
    "#     if i.isalpha():\n",
    "#         print(i, end='')\n",
    "\n",
    "str1.isalpha()"
   ]
  },
  {
   "cell_type": "code",
   "execution_count": 146,
   "metadata": {},
   "outputs": [
    {
     "data": {
      "text/plain": [
       "True"
      ]
     },
     "execution_count": 146,
     "metadata": {},
     "output_type": "execute_result"
    }
   ],
   "source": [
    "str1 = 'ekjhaksjdhkasjho'\n",
    "\n",
    "str1[-1].lower() in 'aeiou' and str1[0].lower() in 'aeiou'\n"
   ]
  },
  {
   "cell_type": "code",
   "execution_count": 151,
   "metadata": {},
   "outputs": [
    {
     "ename": "SyntaxError",
     "evalue": "unexpected EOF while parsing (<ipython-input-151-46dceb84c60c>, line 6)",
     "output_type": "error",
     "traceback": [
      "\u001b[1;36m  File \u001b[1;32m\"<ipython-input-151-46dceb84c60c>\"\u001b[1;36m, line \u001b[1;32m6\u001b[0m\n\u001b[1;33m    if i.isupper() is True:\u001b[0m\n\u001b[1;37m                           ^\u001b[0m\n\u001b[1;31mSyntaxError\u001b[0m\u001b[1;31m:\u001b[0m unexpected EOF while parsing\n"
     ]
    }
   ],
   "source": [
    "str1 = 'Hello'\n",
    "\n",
    "low = 0\n",
    "high= 0 \n",
    "for i in str1:\n",
    "    i.isupper()"
   ]
  },
  {
   "cell_type": "code",
   "execution_count": 155,
   "metadata": {},
   "outputs": [
    {
     "data": {
      "text/plain": [
       "'2 5 1 0'"
      ]
     },
     "execution_count": 155,
     "metadata": {},
     "output_type": "execute_result"
    }
   ],
   "source": [
    "str1 = 'I am 25 years and 10 months old'\n",
    "\n",
    "res = ' '.join([v for v in str1 if v.isdigit()])\n",
    "res"
   ]
  },
  {
   "cell_type": "code",
   "execution_count": 59,
   "metadata": {},
   "outputs": [
    {
     "name": "stdout",
     "output_type": "stream",
     "text": [
      "emma25\n",
      "Expert30\n"
     ]
    }
   ],
   "source": [
    "str1 = \"emma25 is Data scientist and AI Expert30\"\n",
    "m = str1.split()\n",
    "for i in m :\n",
    "    for j in i:\n",
    "        if(j.isalpha()):\n",
    "            continue\n",
    "        elif(j.isdigit()):\n",
    "            print(i)\n",
    "            break"
   ]
  },
  {
   "cell_type": "code",
   "execution_count": 53,
   "metadata": {},
   "outputs": [
    {
     "name": "stdout",
     "output_type": "stream",
     "text": [
      "854654654\n"
     ]
    }
   ],
   "source": [
    "str1 = \"emma25 is Data scientist and AI Expert30 22   43 4.1 5j 8 854654654\"\n",
    "\n",
    "str2=[i for i in str1.split() if i.isdigit()]\n",
    "for i in str2:\n",
    "    if int(i)>99999:\n",
    "        print(i)\n"
   ]
  },
  {
   "cell_type": "code",
   "execution_count": 82,
   "metadata": {},
   "outputs": [
    {
     "name": "stdout",
     "output_type": "stream",
     "text": [
      "emma25 is Data scientist and AI Expert30 22   43 4.1 5j 8 854654654\n",
      "['emma25', 'is', 'Data', 'scientist', 'and', 'AI', 'Expert30', '22', '43', '4.1', '5j', '8', '854654654']\n"
     ]
    },
    {
     "data": {
      "text/plain": [
       "[]"
      ]
     },
     "execution_count": 82,
     "metadata": {},
     "output_type": "execute_result"
    }
   ],
   "source": [
    "str1 = \"emma25 is Data scientist and AI Expert30 22   43 4.1 5j 8 854654654\"\n",
    "\n",
    "str2=list(str1.split())\n",
    "\n",
    "print(str1)\n",
    "print(str2)\n",
    "\n",
    "\n",
    "str3=[i for i in str2 if type(i)==float]\n",
    "str3\n",
    "\n"
   ]
  },
  {
   "cell_type": "code",
   "execution_count": 71,
   "metadata": {},
   "outputs": [
    {
     "name": "stdout",
     "output_type": "stream",
     "text": [
      "22.0\n",
      "<class 'float'>\n",
      "43.0\n",
      "<class 'float'>\n",
      "4.1\n",
      "<class 'float'>\n",
      "8.0\n",
      "<class 'float'>\n",
      "854654654.0\n",
      "<class 'float'>\n"
     ]
    }
   ],
   "source": [
    "str1 = \"emma25 is Data scientist and AI Expert30 22   43 4.1 5j 8 854654654\"\n",
    "\n",
    "emp = []\n",
    "\n",
    "for i in str1.split():\n",
    "    try:\n",
    "        emp.append(float(i))\n",
    "    except ValueError:\n",
    "        pass\n",
    "for j in emp:\n",
    "    print(j)\n",
    "    print(type(j))"
   ]
  },
  {
   "cell_type": "code",
   "execution_count": 107,
   "metadata": {},
   "outputs": [
    {
     "name": "stdout",
     "output_type": "stream",
     "text": [
      "22\n",
      "43\n",
      "8\n",
      "854654654\n",
      "4.1\n",
      "5.66\n",
      "5.2\n"
     ]
    }
   ],
   "source": [
    "str1 = \"emma25 is Data scientist and AI Expert30 22   43 4.1 5j 8 854654654 5.66 5.2\"\n",
    "\n",
    "str3=[i for i in str1.split() if i.isnumeric()]\n",
    "\n",
    "for i in str3:\n",
    "    print(i)\n",
    "    i=int(i)\n",
    "#     print(type(i))\n",
    "    \n",
    "import re\n",
    "\n",
    "x=re.findall(\"\\d+\\.\\d+\",str1)\n",
    "new_lst = [float(i) for i in x]\n",
    "for j in new_lst:\n",
    "    print(j)\n",
    "#     print(type(j))\n",
    "    \n",
    "\n",
    "\n",
    "\n"
   ]
  },
  {
   "cell_type": "code",
   "execution_count": 108,
   "metadata": {},
   "outputs": [
    {
     "ename": "SyntaxError",
     "evalue": "invalid syntax (<ipython-input-108-6e1abad3e661>, line 5)",
     "output_type": "error",
     "traceback": [
      "\u001b[1;36m  File \u001b[1;32m\"<ipython-input-108-6e1abad3e661>\"\u001b[1;36m, line \u001b[1;32m5\u001b[0m\n\u001b[1;33m    str3=[i for i in str1.split() if i.isnumeric() else re.findall(\"\\d+\\.\\d+\",str1)]\u001b[0m\n\u001b[1;37m                                                   ^\u001b[0m\n\u001b[1;31mSyntaxError\u001b[0m\u001b[1;31m:\u001b[0m invalid syntax\n"
     ]
    }
   ],
   "source": [
    "import re\n",
    "\n",
    "str1 = \"emma25 is Data scientist and AI Expert30 22   43 4.1 5j 8 854654654 5.66 5.2\"\n",
    "\n",
    "str3=[i for i in str1.split() if i.isnumeric() else re.findall(\"\\d+\\.\\d+\",str1)]\n",
    "str3\n",
    "\n",
    "# for i in str3:\n",
    "#     print(i)\n",
    "#     i=int(i)\n",
    "# #     print(type(i))\n",
    "    \n",
    "\n",
    "\n",
    "# x=\n",
    "# new_lst = [float(i) for i in x]\n",
    "# for j in new_lst:\n",
    "#     print(j)"
   ]
  },
  {
   "cell_type": "code",
   "execution_count": 2,
   "metadata": {},
   "outputs": [
    {
     "name": "stdout",
     "output_type": "stream",
     "text": [
      "[1.5, 2.3, 4.4, 5.4, 1.5, 5.1, 1]\n"
     ]
    },
    {
     "data": {
      "text/plain": [
       "[1.5, 2.3, 4.4, 5.4, 'b', 1.5, 5.1, 'b', 1]"
      ]
     },
     "execution_count": 2,
     "metadata": {},
     "output_type": "execute_result"
    }
   ],
   "source": [
    "X = [1.5, 2.3, 4.4, 5.4, 'n', 1.5, 5.1, 'a', 1]     # Original list\n",
    "\n",
    "# Extract non-strings from X to new list\n",
    "X_non_str = [el for el in X if not isinstance(el, str)]  # When using only 'if', put 'for' in the beginning\n",
    "print(X_non_str)\n",
    "\n",
    "# Change all strings in X to 'b', preserve everything else as is\n",
    "X_str_changed = ['b' if isinstance(el, str) else el for el in X]  # When using 'if' and 'else', put 'for' in the end\n",
    "X_str_changed"
   ]
  },
  {
   "cell_type": "code",
   "execution_count": 3,
   "metadata": {},
   "outputs": [
    {
     "name": "stdout",
     "output_type": "stream",
     "text": [
      "Prakash is name my "
     ]
    }
   ],
   "source": [
    "s='my name is Prakash'\n",
    "s = s.split()[::-1]\n",
    "for i in s:\n",
    "    print(i,end=' ')"
   ]
  }
 ],
 "metadata": {
  "kernelspec": {
   "display_name": "Python 3.10.0 64-bit",
   "language": "python",
   "name": "python3"
  },
  "language_info": {
   "codemirror_mode": {
    "name": "ipython",
    "version": 3
   },
   "file_extension": ".py",
   "mimetype": "text/x-python",
   "name": "python",
   "nbconvert_exporter": "python",
   "pygments_lexer": "ipython3",
   "version": "3.10.0"
  },
  "vscode": {
   "interpreter": {
    "hash": "b010794ecdab781c819b1d4b9c2b6f73309eb508e0daf641861518438ffe6e23"
   }
  }
 },
 "nbformat": 4,
 "nbformat_minor": 4
}
