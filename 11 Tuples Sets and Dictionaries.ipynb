{
 "cells": [
  {
   "cell_type": "markdown",
   "metadata": {},
   "source": [
    "## Tuples:\n",
    "### It's IMMUTABLE, can't add or del any elements"
   ]
  },
  {
   "cell_type": "code",
   "execution_count": 4,
   "metadata": {},
   "outputs": [
    {
     "name": "stdout",
     "output_type": "stream",
     "text": [
      "()\n",
      "(2, 4, 'a')\n",
      "('a', 'b', 'd', 1)\n"
     ]
    }
   ],
   "source": [
    "T1 = ()\n",
    "print(T1) # Empty tuple\n",
    "\n",
    "T2 = (2, 4, 'a')  #Hetrogeneous\n",
    "print(T2)\n",
    "\n",
    "T3 = 'a', 'b','d', 1\n",
    "print(T3)"
   ]
  },
  {
   "cell_type": "markdown",
   "metadata": {},
   "source": [
    "#### Single entity tuple\n",
    "#### Note: Single value parenthesis is not a tuple"
   ]
  },
  {
   "cell_type": "code",
   "execution_count": 9,
   "metadata": {},
   "outputs": [
    {
     "name": "stdout",
     "output_type": "stream",
     "text": [
      "('a',)\n",
      "ST type is <class 'tuple'>\n",
      "(1,)\n",
      "ST2 type is <class 'tuple'>\n",
      "1\n",
      "ST1 type is <class 'int'>\n",
      "('a',)\n",
      "STN type is <class 'str'>\n"
     ]
    }
   ],
   "source": [
    "ST = ('a',)\n",
    "print(ST)\n",
    "print('ST type is',type(ST))\n",
    "\n",
    "ST2 = (1, )\n",
    "print(ST2)\n",
    "print('ST2 type is',type(ST2))\n",
    "\n",
    "ST1 = (1)\n",
    "print(ST1)\n",
    "print('ST1 type is',type(ST1))\n",
    "\n",
    "STN = ('a')\n",
    "print(ST)\n",
    "print('STN type is',type(STN))\n"
   ]
  },
  {
   "cell_type": "code",
   "execution_count": 10,
   "metadata": {},
   "outputs": [
    {
     "name": "stdout",
     "output_type": "stream",
     "text": [
      "()\n",
      "('C', 'R', 'I', 'C', 'K', 'E', 'T')\n"
     ]
    }
   ],
   "source": [
    "t1=tuple()\n",
    "print(t1)\n",
    "\n",
    "t2 = tuple('CRICKET')\n",
    "print(t2)"
   ]
  },
  {
   "cell_type": "markdown",
   "metadata": {},
   "source": [
    "### Inbuilt functions of tuple"
   ]
  },
  {
   "cell_type": "code",
   "execution_count": 21,
   "metadata": {},
   "outputs": [
    {
     "name": "stdout",
     "output_type": "stream",
     "text": [
      "Length of T1: 6\n",
      "Max of T1: s\n",
      "Min of T1: T\n",
      "Index of the i in T1: 4\n",
      "Count the i in T1: 1\n",
      "Sum of all elements in T2 tuple: 14\n"
     ]
    }
   ],
   "source": [
    "t1 = 'Tennis'\n",
    "\n",
    "print('Length of T1:',len(t1))\n",
    "print('Max of T1:',max(t1))\n",
    "print('Min of T1:',min(t1))\n",
    "print('Index of the i in T1:',t1.index('i'))\n",
    "print('Count the i in T1:',t1.count('i'))\n",
    "\n",
    "T2 = (2, 4, 8)\n",
    "print('Sum of all elements in T2 tuple:',sum(T2))\n",
    "\n"
   ]
  },
  {
   "cell_type": "markdown",
   "metadata": {},
   "source": [
    "### Indexing and slicing"
   ]
  },
  {
   "cell_type": "code",
   "execution_count": 33,
   "metadata": {},
   "outputs": [
    {
     "name": "stdout",
     "output_type": "stream",
     "text": [
      "9\n",
      "z\n",
      "t\n",
      "\n",
      "------Slicing--------\n",
      "('p', 'y', 't')\n",
      "(8,)\n",
      "('y', 't', 9, 'z')\n"
     ]
    }
   ],
   "source": [
    "t3 = ('p', 'y', 't', 9, 'z', 8)\n",
    "print(t3[3])\n",
    "print(t3[4])\n",
    "print(t3[-4])\n",
    "print()\n",
    "\n",
    "print('------Slicing--------')\n",
    "print(t3[:3])\n",
    "print(t3[-1:])\n",
    "print(t3[1:-1])"
   ]
  },
  {
   "cell_type": "markdown",
   "metadata": {},
   "source": [
    "### Operations on tuples"
   ]
  },
  {
   "cell_type": "code",
   "execution_count": 39,
   "metadata": {},
   "outputs": [
    {
     "name": "stdout",
     "output_type": "stream",
     "text": [
      "(1, 'a', 1, 'a', 't', 6)\n",
      "(2, 4, 2, 4, 2, 4)\n"
     ]
    }
   ],
   "source": [
    "t1 = (1, 'a')\n",
    "t2 = ('t', 6)\n",
    "\n",
    "print(t1+t1+t2)\n",
    "\n",
    "t3=(2, 4)\n",
    "t4=(1, 9)\n",
    "print(t3*3)"
   ]
  },
  {
   "cell_type": "code",
   "execution_count": 45,
   "metadata": {},
   "outputs": [
    {
     "name": "stdout",
     "output_type": "stream",
     "text": [
      "(1, 2, 3)\n",
      "(1, 2, 'python')\n"
     ]
    }
   ],
   "source": [
    "def create_tuple(*args):\n",
    "    print(args)\n",
    "    \n",
    "create_tuple(1, 2, 3)\n",
    "create_tuple(1, 2, 'python')"
   ]
  },
  {
   "cell_type": "code",
   "execution_count": 48,
   "metadata": {},
   "outputs": [
    {
     "name": "stdout",
     "output_type": "stream",
     "text": [
      "117\n"
     ]
    }
   ],
   "source": [
    "def sum_tuple(*args):\n",
    "    s=0\n",
    "    for i in args:\n",
    "        s=s+i\n",
    "    print(s)\n",
    "    \n",
    "sum_tuple(10, 20, 87)"
   ]
  },
  {
   "cell_type": "markdown",
   "metadata": {},
   "source": [
    "### Creating tuple using List"
   ]
  },
  {
   "cell_type": "code",
   "execution_count": 49,
   "metadata": {},
   "outputs": [
    {
     "name": "stdout",
     "output_type": "stream",
     "text": [
      "[1, 2, 5]\n",
      "<class 'list'>\n",
      "(1, 2, 5)\n",
      "<class 'tuple'>\n"
     ]
    }
   ],
   "source": [
    "L1 = [1, 2, 5]\n",
    "print(L1)\n",
    "print(type(L1))\n",
    "\n",
    "T1=tuple(L1)\n",
    "print(T1)\n",
    "print(type(T1))\n"
   ]
  },
  {
   "cell_type": "markdown",
   "metadata": {},
   "source": [
    "### Sorting tuple : Need to convert to list and sort thyen revert back to tuple"
   ]
  },
  {
   "cell_type": "code",
   "execution_count": 52,
   "metadata": {},
   "outputs": [
    {
     "data": {
      "text/plain": [
       "(2, 4, 5, 7, 8, 9, 44)"
      ]
     },
     "execution_count": 52,
     "metadata": {},
     "output_type": "execute_result"
    }
   ],
   "source": [
    "t1 = (4, 7, 8, 5, 44, 2, 9)\n",
    "l1=list(t1)\n",
    "l1.sort()\n",
    "t1=tuple(l1)\n",
    "t1"
   ]
  },
  {
   "cell_type": "markdown",
   "metadata": {},
   "source": [
    "## Transverse tuples from a list"
   ]
  },
  {
   "cell_type": "code",
   "execution_count": 57,
   "metadata": {},
   "outputs": [
    {
     "name": "stdout",
     "output_type": "stream",
     "text": [
      "<class 'list'>\n",
      "1 Amit\n",
      "2 Bharat\n",
      "3 Chandan\n"
     ]
    }
   ],
   "source": [
    "L1 = [(1, 'Amit'), (2, 'Bharat'), (3, 'Chandan')]\n",
    "print(type(L1))\n",
    "\n",
    "for usn, name in L1:\n",
    "    print(usn, name)\n",
    "#     print(type(i))\n",
    "#     print(type(j))    "
   ]
  },
  {
   "cell_type": "markdown",
   "metadata": {},
   "source": [
    "## The zip() function"
   ]
  },
  {
   "cell_type": "code",
   "execution_count": 67,
   "metadata": {},
   "outputs": [
    {
     "name": "stdout",
     "output_type": "stream",
     "text": [
      "((1, 'Arun'), (3, 'Balu'), (4, 'Chetan'))\n",
      "\n",
      "----------we can zip as LIST also-------------\n",
      "[('Arun', 1), ('Balu', 3), ('Chetan', 4)]\n"
     ]
    }
   ],
   "source": [
    "a1 = [1, 3, 4]\n",
    "a2 = ['Arun', 'Balu', 'Chetan']\n",
    "\n",
    "print(tuple(zip(a1, a2)))\n",
    "print()\n",
    "\n",
    "print('----------we can zip as LIST also-------------')\n",
    "print(list(zip(a2, a1)))\n"
   ]
  },
  {
   "cell_type": "code",
   "execution_count": 71,
   "metadata": {},
   "outputs": [
    {
     "name": "stdout",
     "output_type": "stream",
     "text": [
      "(('MacBook', 100000), ('Asus', 58000), ('HP', 60000))\n",
      "\n",
      "----------we can zip as LIST also-------------\n",
      "[(100000, 'MacBook'), (58000, 'Asus'), (60000, 'HP')]\n"
     ]
    }
   ],
   "source": [
    "a1 = ('MacBook', 'Asus', 'HP')\n",
    "a2 = (100000, 58000, 60000)\n",
    "\n",
    "print(tuple(zip(a1, a2)))\n",
    "print()\n",
    "\n",
    "print('----------we can zip as LIST also-------------')\n",
    "print(list(zip(a2, a1)))"
   ]
  },
  {
   "cell_type": "markdown",
   "metadata": {},
   "source": [
    "### the zip() with diff lengths"
   ]
  },
  {
   "cell_type": "code",
   "execution_count": 72,
   "metadata": {},
   "outputs": [
    {
     "data": {
      "text/plain": [
       "[('a', 1), ('b', 2)]"
      ]
     },
     "execution_count": 72,
     "metadata": {},
     "output_type": "execute_result"
    }
   ],
   "source": [
    "b1='abcdef'\n",
    "b2 = 1,2\n",
    "\n",
    "list(zip(b1,b2))"
   ]
  },
  {
   "cell_type": "code",
   "execution_count": 75,
   "metadata": {},
   "outputs": [
    {
     "name": "stdout",
     "output_type": "stream",
     "text": [
      "255 Black\n",
      "100 Gray\n",
      "0 white\n"
     ]
    }
   ],
   "source": [
    "L1 = ['Black', 'Gray', 'white']\n",
    "L2 = [255, 100, 0 ]\n",
    "\n",
    "for code, color in zip(L2, L1):\n",
    "    print(code, color)"
   ]
  },
  {
   "cell_type": "markdown",
   "metadata": {},
   "source": [
    "## Inverse zip(): zip(*)"
   ]
  },
  {
   "cell_type": "code",
   "execution_count": 77,
   "metadata": {},
   "outputs": [
    {
     "name": "stdout",
     "output_type": "stream",
     "text": [
      "India\n",
      "Dehali\n"
     ]
    }
   ],
   "source": [
    "def print_all(country, capital):\n",
    "    print(country)\n",
    "    print(capital)\n",
    "    \n",
    "args=('India','Dehali')\n",
    "print_all(*args)"
   ]
  },
  {
   "cell_type": "code",
   "execution_count": 78,
   "metadata": {},
   "outputs": [
    {
     "name": "stdout",
     "output_type": "stream",
     "text": [
      "(100000, 58000, 60000)\n",
      "('MacBook', 'Asus', 'HP')\n"
     ]
    }
   ],
   "source": [
    "x = [(100000, 'MacBook'), (58000, 'Asus'), (60000, 'HP')]\n",
    "price, laptop = zip(*x)\n",
    "print(price)\n",
    "print(laptop)"
   ]
  },
  {
   "cell_type": "code",
   "execution_count": 80,
   "metadata": {},
   "outputs": [
    {
     "name": "stdout",
     "output_type": "stream",
     "text": [
      "Even numbers are: (1, 3, 5)\n",
      "Odd numbers are: (2, 4, 6)\n"
     ]
    }
   ],
   "source": [
    "evenodd = [(1, 2), (3, 4), (5, 6)]\n",
    "odd, even = zip(*evenodd)\n",
    "print('Even numbers are:',odd)\n",
    "print('Odd numbers are:',even)"
   ]
  },
  {
   "cell_type": "code",
   "execution_count": 84,
   "metadata": {},
   "outputs": [
    {
     "name": "stdout",
     "output_type": "stream",
     "text": [
      "(1, 4, 3, 4, 7, 2)\n",
      "(1, 4, 3, 4, 7, 2)\n",
      "(1, 4, 3, 4, 7, 2)\n"
     ]
    }
   ],
   "source": [
    "t1= (1, 4, 3, 4, 7, 2)\n",
    "\n",
    "for i in t1:\n",
    "    if t1.index(i)%2==0:\n",
    "        print(t1) "
   ]
  },
  {
   "cell_type": "markdown",
   "metadata": {},
   "source": [
    "# Set:\n",
    "## Unordered collection of unique elements without duplicates, MUTABLE"
   ]
  },
  {
   "cell_type": "code",
   "execution_count": 112,
   "metadata": {},
   "outputs": [
    {
     "name": "stdout",
     "output_type": "stream",
     "text": [
      "set()\n",
      "{1, 'a', 4, 5}\n",
      "{1, 2, 5, 'd'}\n",
      "{'f', 1, 'a', 4}\n"
     ]
    }
   ],
   "source": [
    "# s = {}  # its NOT empty set\n",
    "# print(s)\n",
    "# print(type(s))\n",
    "\n",
    "s1 = set() # it's empty set\n",
    "print(s1)\n",
    "\n",
    "s2 = {'a', 1, 4, 5}\n",
    "print(s2)\n",
    "\n",
    "#Creating from list\n",
    "s3 = [1, 2, 5, 'd']\n",
    "s4=set(s3)\n",
    "print(s4)\n",
    "\n",
    "# Creating from tuple\n",
    "s5 = ('a', 1, 4, 'f')\n",
    "s6 = set(s5)\n",
    "print(s6)"
   ]
  },
  {
   "cell_type": "markdown",
   "metadata": {},
   "source": [
    "## in and not in operation"
   ]
  },
  {
   "cell_type": "code",
   "execution_count": 89,
   "metadata": {},
   "outputs": [
    {
     "name": "stdout",
     "output_type": "stream",
     "text": [
      "True\n",
      "True\n",
      "False\n",
      "True\n"
     ]
    }
   ],
   "source": [
    "s3 = {3, 6, 'a'}\n",
    "\n",
    "print(6 in s3)\n",
    "print('a' in s3)\n",
    "print('d' in s3)\n",
    "print('d' not in s3)\n"
   ]
  },
  {
   "cell_type": "markdown",
   "metadata": {},
   "source": [
    "### Set methods\n",
    "#### add() method"
   ]
  },
  {
   "cell_type": "code",
   "execution_count": 90,
   "metadata": {},
   "outputs": [
    {
     "data": {
      "text/plain": [
       "{3, 6, 66, 87, 'a', 'newAdd', 'python'}"
      ]
     },
     "execution_count": 90,
     "metadata": {},
     "output_type": "execute_result"
    }
   ],
   "source": [
    "s6 = {'python', 66, 87, 3, 6, 'a'}\n",
    "s6.add('newAdd')\n",
    "s6"
   ]
  },
  {
   "cell_type": "markdown",
   "metadata": {},
   "source": [
    "#### clear()"
   ]
  },
  {
   "cell_type": "code",
   "execution_count": 92,
   "metadata": {},
   "outputs": [
    {
     "data": {
      "text/plain": [
       "{}"
      ]
     },
     "execution_count": 92,
     "metadata": {},
     "output_type": "execute_result"
    }
   ],
   "source": [
    "s6 = {'python', 66, 87, 3, 6, 'a'}\n",
    "s6.clear()\n",
    "s"
   ]
  },
  {
   "cell_type": "markdown",
   "metadata": {},
   "source": [
    "#### remove"
   ]
  },
  {
   "cell_type": "code",
   "execution_count": 94,
   "metadata": {},
   "outputs": [
    {
     "data": {
      "text/plain": [
       "{3, 6, 66, 87, 'a', 'newAdd'}"
      ]
     },
     "execution_count": 94,
     "metadata": {},
     "output_type": "execute_result"
    }
   ],
   "source": [
    "s7 = {3, 6, 66, 87, 'a', 'newAdd', 'python'}\n",
    "s7.remove('python')\n",
    "s7"
   ]
  },
  {
   "cell_type": "code",
   "execution_count": 96,
   "metadata": {},
   "outputs": [
    {
     "data": {
      "text/plain": [
       "True"
      ]
     },
     "execution_count": 96,
     "metadata": {},
     "output_type": "execute_result"
    }
   ],
   "source": [
    "s1 = {3, 6, 66, 87, 'a', 'newAdd', 'python'}\n",
    "s2 = {'python', 66, 87, 3, 6, 'a'}\n",
    "s2.issubset(s1)     # it checks all the elements of s2 are in s1"
   ]
  },
  {
   "cell_type": "code",
   "execution_count": 98,
   "metadata": {},
   "outputs": [
    {
     "data": {
      "text/plain": [
       "True"
      ]
     },
     "execution_count": 98,
     "metadata": {},
     "output_type": "execute_result"
    }
   ],
   "source": [
    "s1 = {3, 6, 66, 87, 'a', 'newAdd', 'python'}\n",
    "s2 = {'python', 66, 87, 3, 6, 'a'}\n",
    "s1.issuperset(s2)"
   ]
  },
  {
   "cell_type": "markdown",
   "metadata": {},
   "source": [
    "#### union(): S1|S2"
   ]
  },
  {
   "cell_type": "code",
   "execution_count": 100,
   "metadata": {},
   "outputs": [
    {
     "name": "stdout",
     "output_type": "stream",
     "text": [
      "{1, 3, 99, 6, 7, 'Python', 'a', 'i'}\n",
      "{1, 3, 99, 6, 7, 'Python', 'a', 'i'}\n"
     ]
    }
   ],
   "source": [
    "s1 = {1, 3, 6, 'a'}\n",
    "s2 = {99, 7, 'Python', 6, 3, 'i'}\n",
    "\n",
    "print(s1.union(s2))\n",
    "print(s1|s2)"
   ]
  },
  {
   "cell_type": "code",
   "execution_count": 101,
   "metadata": {},
   "outputs": [
    {
     "name": "stdout",
     "output_type": "stream",
     "text": [
      "{1, 3, 99, 6, 7, 'Python', 'a', 'i'}\n"
     ]
    }
   ],
   "source": [
    "print(s1|s2)"
   ]
  },
  {
   "cell_type": "markdown",
   "metadata": {},
   "source": [
    "#### intersection(): S1&S2"
   ]
  },
  {
   "cell_type": "markdown",
   "metadata": {},
   "source": [
    "s1 = {1, 3, 6, 'a'}\n",
    "s2 = {99, 7, 'Python', 6, 3, 'i'}\n",
    "\n",
    "s1.intersection(s2)"
   ]
  },
  {
   "cell_type": "markdown",
   "metadata": {},
   "source": [
    "#### diffirence(): S1-S2"
   ]
  },
  {
   "cell_type": "code",
   "execution_count": 105,
   "metadata": {},
   "outputs": [
    {
     "name": "stdout",
     "output_type": "stream",
     "text": [
      "{9, 6}\n",
      "{9, 6}\n"
     ]
    }
   ],
   "source": [
    "s3 = {3, 6, 8, 9}\n",
    "s4 = {3, 1, 8, 4}\n",
    "\n",
    "print(s3.difference(s4))\n",
    "print(s3-s4)"
   ]
  },
  {
   "cell_type": "markdown",
   "metadata": {},
   "source": [
    "#### symmetric_difference(): S1^S2"
   ]
  },
  {
   "cell_type": "code",
   "execution_count": 106,
   "metadata": {},
   "outputs": [
    {
     "name": "stdout",
     "output_type": "stream",
     "text": [
      "{1, 4, 6, 9}\n",
      "{1, 4, 6, 9}\n"
     ]
    }
   ],
   "source": [
    "s3 = {3, 6, 8, 9}\n",
    "s4 = {3, 1, 8, 4}\n",
    "\n",
    "print(s3.symmetric_difference(s4))\n",
    "print(s3^s4)"
   ]
  },
  {
   "cell_type": "markdown",
   "metadata": {},
   "source": [
    "# Dictionaries: key value pairs\n",
    "\n",
    "### Note:\n",
    "### Key can be any type\n",
    "### Dict do not contain any duplicate keys"
   ]
  },
  {
   "attachments": {
    "image.png": {
     "image/png": "[encoded data removed]"
    }
   },
   "cell_type": "markdown",
   "metadata": {},
   "source": [
    "![image.png](attachment:image.png)"
   ]
  },
  {
   "cell_type": "code",
   "execution_count": 119,
   "metadata": {},
   "outputs": [
    {
     "name": "stdout",
     "output_type": "stream",
     "text": [
      "{'Amit': 9686, 'Arun': [5475, 'a']}\n",
      "{2: 'many', 1: 'Hi', 'low': 4}\n"
     ]
    }
   ],
   "source": [
    "phonebook = {'Amit':9686, \"Arun\":[5475, 'a']}\n",
    "print(phonebook)\n",
    "\n",
    "d1 = {2:'many', 1:'Hi', 2:'How', 'low':4, 2:'many'}\n",
    "print(d1)"
   ]
  },
  {
   "cell_type": "code",
   "execution_count": 113,
   "metadata": {},
   "outputs": [
    {
     "name": "stdout",
     "output_type": "stream",
     "text": [
      "<class 'dict'>\n"
     ]
    },
    {
     "data": {
      "text/plain": [
       "{}"
      ]
     },
     "execution_count": 113,
     "metadata": {},
     "output_type": "execute_result"
    }
   ],
   "source": [
    "d1 = {}   # Creating empty dict\n",
    "print(type(d1))\n",
    "d1"
   ]
  },
  {
   "cell_type": "markdown",
   "metadata": {},
   "source": [
    "### Different types of creating a dict"
   ]
  },
  {
   "cell_type": "code",
   "execution_count": 124,
   "metadata": {},
   "outputs": [
    {
     "name": "stdout",
     "output_type": "stream",
     "text": [
      "{1: 'Hi', 2: 'How', 'low': 4}\n",
      "{'Name': 'Sachin', 'Age': 30}\n",
      "{'Name': 'Hardik', 'Age': 40}\n"
     ]
    },
    {
     "data": {
      "text/plain": [
       "{'Name': 'Veeru', 'Age': 40}"
      ]
     },
     "execution_count": 124,
     "metadata": {},
     "output_type": "execute_result"
    }
   ],
   "source": [
    "d1 = { 1:'Hi', 2:'How', 'low':4}\n",
    "print(d1)\n",
    "\n",
    "d2 = {}\n",
    "d2['Name']='Sachin'\n",
    "d2['Age']=30\n",
    "print(d2)\n",
    "\n",
    "d3 = dict(Name='Hardik', Age=40)\n",
    "print(d3)\n",
    "\n",
    "dict([('Name','Veeru'), ('Age',40)])"
   ]
  },
  {
   "cell_type": "markdown",
   "metadata": {},
   "source": [
    "## Adding and replacing values:\n",
    "#### If key already exists it will overwrite the value"
   ]
  },
  {
   "cell_type": "code",
   "execution_count": 127,
   "metadata": {},
   "outputs": [
    {
     "name": "stdout",
     "output_type": "stream",
     "text": [
      "{'Name': 'Arun', 'Age': 42}\n",
      "{'Name': 'Arun', 'Age': 50}\n"
     ]
    }
   ],
   "source": [
    "d1 = { 'Name':'Arun', 'Age':42}\n",
    "print(d1)\n",
    "\n",
    "d1['Age']=50\n",
    "print(d1)\n"
   ]
  },
  {
   "cell_type": "markdown",
   "metadata": {},
   "source": [
    "### Retrieving"
   ]
  },
  {
   "cell_type": "code",
   "execution_count": 128,
   "metadata": {},
   "outputs": [
    {
     "data": {
      "text/plain": [
       "'Arun'"
      ]
     },
     "execution_count": 128,
     "metadata": {},
     "output_type": "execute_result"
    }
   ],
   "source": [
    "d1 = { 'Name':'Arun', 'Age':42}\n",
    "d1['Name']"
   ]
  },
  {
   "cell_type": "markdown",
   "metadata": {},
   "source": [
    "## deleting items"
   ]
  },
  {
   "cell_type": "code",
   "execution_count": 132,
   "metadata": {},
   "outputs": [
    {
     "data": {
      "text/plain": [
       "{'Age': 30}"
      ]
     },
     "execution_count": 132,
     "metadata": {},
     "output_type": "execute_result"
    }
   ],
   "source": [
    "d2 = {'Name': 'Sachin', 'Age': 30}\n",
    "del d2['Name']\n",
    "d2"
   ]
  },
  {
   "cell_type": "markdown",
   "metadata": {},
   "source": [
    "### comparing dicts == or !="
   ]
  },
  {
   "cell_type": "code",
   "execution_count": 134,
   "metadata": {},
   "outputs": [
    {
     "name": "stdout",
     "output_type": "stream",
     "text": [
      "False\n",
      "True\n"
     ]
    }
   ],
   "source": [
    "d1 = {'Name': 'Arun', 'Age': 42}\n",
    "d2 = {'Name': 'Arun', 'Age': 50}\n",
    "\n",
    "print(d1==d2)\n",
    "print(d1!=d2)\n"
   ]
  },
  {
   "cell_type": "markdown",
   "metadata": {},
   "source": [
    "## Dict methods\n",
    "### keys()"
   ]
  },
  {
   "cell_type": "code",
   "execution_count": 137,
   "metadata": {},
   "outputs": [
    {
     "name": "stdout",
     "output_type": "stream",
     "text": [
      "dict_keys(['Name', 'Age', 'sub', 'div', 'City'])\n",
      "dict_values(['Arun', 50, 'Kannada', 'A', 'Amingad'])\n",
      "dict_items([('Name', 'Arun'), ('Age', 50), ('sub', 'Kannada'), ('div', 'A'), ('City', 'Amingad')])\n"
     ]
    }
   ],
   "source": [
    "d2 = {'Name': 'Arun', 'Age': 50, 'sub':'Kannada', 'div':'A', 'City':'Amingad'}\n",
    "print(d2.keys())\n",
    "print(d2.values())\n",
    "print(d2.items())\n",
    "\n"
   ]
  },
  {
   "cell_type": "code",
   "execution_count": 139,
   "metadata": {},
   "outputs": [
    {
     "name": "stdout",
     "output_type": "stream",
     "text": [
      "Arun\n"
     ]
    },
    {
     "data": {
      "text/plain": [
       "{'Age': 50, 'sub': 'Kannada', 'div': 'A', 'City': 'Amingad'}"
      ]
     },
     "execution_count": 139,
     "metadata": {},
     "output_type": "execute_result"
    }
   ],
   "source": [
    "d2 = {'Name': 'Arun', 'Age': 50, 'sub':'Kannada', 'div':'A', 'City':'Amingad'}\n",
    "print(d2.pop('Name'))\n",
    "d2"
   ]
  },
  {
   "cell_type": "code",
   "execution_count": 141,
   "metadata": {},
   "outputs": [
    {
     "name": "stdout",
     "output_type": "stream",
     "text": [
      "Keys:  A\n",
      "Keys:  C\n",
      "Keys:  B\n"
     ]
    }
   ],
   "source": [
    "grades = {'Grami':'A', 'Ravi':'C', 'Vishwa': 'B'}\n",
    "for key in grades:\n",
    "    print('Keys: ',grades[key])"
   ]
  },
  {
   "cell_type": "code",
   "execution_count": 145,
   "metadata": {},
   "outputs": [
    {
     "name": "stdout",
     "output_type": "stream",
     "text": [
      "Grami A\n",
      "Ravi C\n",
      "Vishwa B\n"
     ]
    }
   ],
   "source": [
    "grades = {'Grami':'A', 'Ravi':'C', 'Vishwa': 'B'}\n",
    "for key, value in grades.items():\n",
    "    print(key, value)"
   ]
  },
  {
   "cell_type": "markdown",
   "metadata": {},
   "source": [
    "### Nested dictionaries"
   ]
  },
  {
   "cell_type": "code",
   "execution_count": 146,
   "metadata": {},
   "outputs": [
    {
     "data": {
      "text/plain": [
       "2542"
      ]
     },
     "execution_count": 146,
     "metadata": {},
     "output_type": "execute_result"
    }
   ],
   "source": [
    "players = {'Sachin':{'ODI':2542, 'Test':5145}, 'Virat':{'ODI':547, 'Test':514}}\n",
    "players['Sachin']['ODI']"
   ]
  },
  {
   "cell_type": "code",
   "execution_count": 151,
   "metadata": {},
   "outputs": [
    {
     "name": "stdout",
     "output_type": "stream",
     "text": [
      "Player: Sachin\n",
      "ODI Score 2542\n",
      "Test Score 5145\n",
      "\n",
      "Player: Virat\n",
      "ODI Score 547\n",
      "Test Score 514\n",
      "\n"
     ]
    }
   ],
   "source": [
    "players = {'Sachin':{'ODI':2542, 'Test':5145}, 'Virat':{'ODI':547, 'Test':514}}\n",
    "\n",
    "for name, score in players.items():\n",
    "    print('Player:',name)\n",
    "    print('ODI Score',score[\"ODI\"])\n",
    "    print('Test Score',score[\"Test\"])\n",
    "    print()"
   ]
  },
  {
   "cell_type": "code",
   "execution_count": 154,
   "metadata": {},
   "outputs": [
    {
     "data": {
      "text/plain": [
       "{'A': 1, 'p': 2, 'l': 1, 'e': 1, 'a': 1}"
      ]
     },
     "execution_count": 154,
     "metadata": {},
     "output_type": "execute_result"
    }
   ],
   "source": [
    "def histogram(s):\n",
    "    d1={}\n",
    "    for c in s:\n",
    "        if c not in d1:\n",
    "            d1[c]=1\n",
    "        else:\n",
    "            d1[c]+=1\n",
    "    return d1\n",
    "histogram('Applea')\n",
    "        "
   ]
  },
  {
   "cell_type": "code",
   "execution_count": 157,
   "metadata": {},
   "outputs": [
    {
     "name": "stdout",
     "output_type": "stream",
     "text": [
      "Squares of number: {0: 0, 1: 1, 2: 4, 3: 9, 4: 16, 5: 25}\n"
     ]
    }
   ],
   "source": [
    "def sqrt():\n",
    "    d={}\n",
    "    for i in range(6):\n",
    "        d[i]=i**2\n",
    "    return d\n",
    "print('Squares of number:',sqrt())"
   ]
  },
  {
   "cell_type": "code",
   "execution_count": 158,
   "metadata": {},
   "outputs": [
    {
     "data": {
      "text/plain": [
       "{'Positive': 3, 'Negative': 1}"
      ]
     },
     "execution_count": 158,
     "metadata": {},
     "output_type": "execute_result"
    }
   ],
   "source": [
    "def pos_neg(n):\n",
    "    d1=dict()\n",
    "    d1['Positive']=0\n",
    "    d1['Negative']=0\n",
    "    for i in n:\n",
    "        if i>0:\n",
    "            d1['Positive']+=1\n",
    "        else:\n",
    "            d1['Negative']+=1\n",
    "    return d1\n",
    "\n",
    "pos_neg([1, 3, -2,1])"
   ]
  },
  {
   "cell_type": "code",
   "execution_count": 159,
   "metadata": {},
   "outputs": [
    {
     "name": "stdout",
     "output_type": "stream",
     "text": [
      "Enter the sring:kjhsrkfhrgkjdfbhkjdbhldbjdvjlgf\n"
     ]
    },
    {
     "data": {
      "text/plain": [
       "{'k': 4,\n",
       " 'j': 5,\n",
       " 'h': 4,\n",
       " 's': 1,\n",
       " 'r': 2,\n",
       " 'f': 3,\n",
       " 'g': 2,\n",
       " 'd': 4,\n",
       " 'b': 3,\n",
       " 'l': 2,\n",
       " 'v': 1}"
      ]
     },
     "execution_count": 159,
     "metadata": {},
     "output_type": "execute_result"
    }
   ],
   "source": [
    "def freq(n):\n",
    "    d=dict()\n",
    "    for i in n:\n",
    "        if i not in d:\n",
    "            d[i]=1\n",
    "        else:\n",
    "            d[i]+=1\n",
    "    return d\n",
    "\n",
    "\n",
    "n=input('Enter the sring: ')\n",
    "freq(n)"
   ]
  },
  {
   "cell_type": "code",
   "execution_count": 160,
   "metadata": {},
   "outputs": [
    {
     "name": "stdout",
     "output_type": "stream",
     "text": [
      "Task 1:-\n",
      "\n",
      "key_value {2: 56, 1: 2, 5: 12, 4: 24, 6: 18, 3: 323}\n",
      "1 2 3 4 5 6 "
     ]
    }
   ],
   "source": [
    "# Function calling\n",
    "def dictionairy():\n",
    "\t# Declare hash function\n",
    "\tkey_value = {}\n",
    "\n",
    "# Initializing value\n",
    "\tkey_value[2] = 56\n",
    "\tkey_value[1] = 2\n",
    "\tkey_value[5] = 12\n",
    "\tkey_value[4] = 24\n",
    "\tkey_value[6] = 18\n",
    "\tkey_value[3] = 323\n",
    "\n",
    "\tprint(\"Task 1:-\\n\")\n",
    "\n",
    "\tprint(\"key_value\", key_value)\n",
    "\n",
    "\t# iterkeys() returns an iterator over the\n",
    "\t# dictionary’s keys.\n",
    "\tfor i in sorted(key_value.keys()):\n",
    "\t\tprint(i, end=\" \")\n",
    "\n",
    "\n",
    "def main():\n",
    "\t# function calling\n",
    "\tdictionairy()\n",
    "\n",
    "\n",
    "# Main function calling\n",
    "if __name__ == \"__main__\":\n",
    "\tmain()\n"
   ]
  },
  {
   "cell_type": "code",
   "execution_count": 163,
   "metadata": {},
   "outputs": [
    {
     "name": "stdout",
     "output_type": "stream",
     "text": [
      "1 2\n",
      "2 56\n",
      "3 323\n",
      "4 24\n",
      "5 12\n",
      "6 18\n"
     ]
    }
   ],
   "source": [
    "def sorteddict(n):\n",
    "    for i, j in sorted(n.items()):\n",
    "        print(i, j)\n",
    "        \n",
    "n={2: 56, 1: 2, 5: 12, 4: 24, 6: 18, 3: 323}        \n",
    "        \n",
    "sorteddict(n)"
   ]
  },
  {
   "cell_type": "code",
   "execution_count": 167,
   "metadata": {},
   "outputs": [
    {
     "name": "stdout",
     "output_type": "stream",
     "text": [
      "{'ravi': '10', 'rajnish': '9', 'sanjeev': '15', 'yash': '2', 'suraj': '32'}\n",
      "rajnish 9\n",
      "ravi 10\n",
      "sanjeev 15\n",
      "suraj 32\n",
      "yash 2\n"
     ]
    }
   ],
   "source": [
    "def sortagain():\n",
    "    key_value=dict()\n",
    "    key_value['ravi'] = '10'       \n",
    "    key_value['rajnish'] = '9'\n",
    "    key_value['sanjeev'] = '15'\n",
    "    key_value['yash'] = '2'\n",
    "    key_value['suraj'] = '32'\n",
    "    \n",
    "    print(key_value)\n",
    "    \n",
    "    for name, num in sorted(key_value.items()):\n",
    "        print(name, num)\n",
    "    \n",
    "sortagain()\n"
   ]
  },
  {
   "cell_type": "code",
   "execution_count": 191,
   "metadata": {},
   "outputs": [
    {
     "name": "stdout",
     "output_type": "stream",
     "text": [
      "Sorted by Keys: \n",
      "(1, 2) (2, 56) (3, 323) (4, 24) (5, 12) (6, 18) \n",
      "Sorted by Values:\n",
      "[(1, 2), (5, 12), (6, 18), (4, 24), (2, 56), (3, 323)]\n"
     ]
    }
   ],
   "source": [
    "def sorting():\n",
    "    \n",
    "    key_value = {}\n",
    " \n",
    "\n",
    "    key_value[2] = 56\n",
    "    key_value[1] = 2\n",
    "    key_value[5] = 12\n",
    "    key_value[4] = 24\n",
    "    key_value[6] = 18\n",
    "    key_value[3] = 323\n",
    "    \n",
    "    print('Sorted by Keys: ')\n",
    "    for i in sorted(key_value.keys()):\n",
    "        print((i, key_value[i]), end=' ')\n",
    "        \n",
    "    print('\\nSorted by Values:')\n",
    "#     for j in sorted(key_value.values()):\n",
    "#         print((j), end=' ')\n",
    "    print(sorted(key_value.items(), key=lambda kv:(kv[1], kv[0])))\n",
    "\n",
    "        \n",
    "sorting()"
   ]
  },
  {
   "cell_type": "code",
   "execution_count": 195,
   "metadata": {},
   "outputs": [
    {
     "name": "stdout",
     "output_type": "stream",
     "text": [
      "[('yash', 2), ('rajnish', 9), ('ravi', 10), ('sanjeev', 15), ('suraj', 32)]\n"
     ]
    }
   ],
   "source": [
    "def value_sort():\n",
    "    key_value=dict()\n",
    "    key_value['ravi'] = 10       \n",
    "    key_value['rajnish'] = 9\n",
    "    key_value['sanjeev'] = 15\n",
    "    key_value['yash'] = 2\n",
    "    key_value['suraj'] = 32\n",
    "    \n",
    "    print(sorted(key_value.items(), key=lambda kv:(kv[1], kv[0])))\n",
    "    \n",
    "#     k = (sorted(key_value.items(), key=lambda kv:(kv[1], kv[0])))\n",
    "    \n",
    "#     for i in k:\n",
    "#         print(i)\n",
    "    \n",
    "value_sort()"
   ]
  },
  {
   "cell_type": "markdown",
   "metadata": {},
   "source": [
    "## More on Dictionaries"
   ]
  },
  {
   "cell_type": "code",
   "execution_count": 71,
   "metadata": {},
   "outputs": [
    {
     "name": "stdout",
     "output_type": "stream",
     "text": [
      "Amd\n",
      "22\n"
     ]
    }
   ],
   "source": [
    "# NO duplicate keys are not allowed\n",
    "\n",
    "dict = {'Anup':22, 'Akash':28, \"Adesh\":25, 24:'Amingad', 'Bharat':25, 24:'Amd'}\n",
    "print(dict[24])\n",
    "print(dict['Anup'])"
   ]
  },
  {
   "cell_type": "markdown",
   "metadata": {},
   "source": [
    "## Updating the dict"
   ]
  },
  {
   "cell_type": "code",
   "execution_count": 7,
   "metadata": {},
   "outputs": [
    {
     "data": {
      "text/plain": [
       "{'Anup': 22, 'Akash': 28, 'Adesh': 25, 24: 'Amd', 'Bharat': 25, 'Bhavani': 32}"
      ]
     },
     "execution_count": 7,
     "metadata": {},
     "output_type": "execute_result"
    }
   ],
   "source": [
    "dict = {'Anup':22, 'Akash':28, \"Adesh\":25, 24:'Amingad', 'Bharat':25, 24:'Amd'}\n",
    "dict.update({'Bhavani':32})\n",
    "dict"
   ]
  },
  {
   "cell_type": "code",
   "execution_count": 8,
   "metadata": {},
   "outputs": [
    {
     "data": {
      "text/plain": [
       "dict_keys(['Anup', 'Akash', 'Adesh', 24, 'Bharat', 'Bhavani'])"
      ]
     },
     "execution_count": 8,
     "metadata": {},
     "output_type": "execute_result"
    }
   ],
   "source": [
    "dict.keys()"
   ]
  },
  {
   "cell_type": "code",
   "execution_count": 9,
   "metadata": {},
   "outputs": [
    {
     "data": {
      "text/plain": [
       "dict_values([22, 28, 25, 'Amd', 25, 32])"
      ]
     },
     "execution_count": 9,
     "metadata": {},
     "output_type": "execute_result"
    }
   ],
   "source": [
    "dict.values()"
   ]
  },
  {
   "cell_type": "code",
   "execution_count": 20,
   "metadata": {},
   "outputs": [
    {
     "name": "stdout",
     "output_type": "stream",
     "text": [
      "28\n",
      "32\n"
     ]
    }
   ],
   "source": [
    "dict = {'Anup':22, 'Akash':28, \"Adesh\":25, 'Bharat':25, 'Bhavani':32}\n",
    "for age in dict.values():\n",
    "    if age>25:\n",
    "        print(age)"
   ]
  },
  {
   "cell_type": "code",
   "execution_count": 25,
   "metadata": {},
   "outputs": [
    {
     "data": {
      "text/plain": [
       "[('Anup', 22), ('Akash', 28), ('Bharat', 25), ('Bhavani', 32)]"
      ]
     },
     "execution_count": 25,
     "metadata": {},
     "output_type": "execute_result"
    }
   ],
   "source": [
    "dict = {'Anup':22, 'Akash':28, \"Adesh\":25, 'Bharat':25, 'Bhavani':32}\n",
    "del dict['Adesh']\n",
    "list(dict.items())"
   ]
  },
  {
   "cell_type": "code",
   "execution_count": 22,
   "metadata": {},
   "outputs": [
    {
     "name": "stdout",
     "output_type": "stream",
     "text": [
      "Students Name: [('Tim', 18), ('Charlie', 12), ('Tiffany', 22), ('Robert', 25)]\n"
     ]
    }
   ],
   "source": [
    "Dict = {'Tim': 18,'Charlie':12,'Tiffany':22,'Robert':25}\n",
    "print(\"Students Name: %s\" % list(Dict.items()))"
   ]
  },
  {
   "cell_type": "code",
   "execution_count": 28,
   "metadata": {},
   "outputs": [
    {
     "name": "stdout",
     "output_type": "stream",
     "text": [
      "False\n",
      "False\n",
      "dict_values([24, 20, 25, 21, 30])\n",
      "False\n",
      "False\n"
     ]
    }
   ],
   "source": [
    "dict = {'Anup':22, 'Akash':28, \"Adesh\":25, 'Bharat':25, 'Bhavani':32}\n",
    "boys = {'Anirud':24, 'Anish':20, \"Avinash\":25, 'Bhandu':21, 'Bhargav':30}\n",
    "\n",
    "\n",
    "for age in boys.values():\n",
    "    if age in dict.values():\n",
    "        print(boys.values())\n",
    "        \n",
    "    else:\n",
    "        print('False')"
   ]
  },
  {
   "cell_type": "code",
   "execution_count": 27,
   "metadata": {},
   "outputs": [
    {
     "name": "stdout",
     "output_type": "stream",
     "text": [
      "True\n",
      "True\n",
      "True\n"
     ]
    }
   ],
   "source": [
    "Dict = {'Tim': 18,'Charlie':12,'Tiffany':22,'Robert':25}\n",
    "Boys = {'Tim': 18,'Charlie':12,'Robert':25}\n",
    "Girls = {'Tiffany':22}\n",
    "for key in list(Boys.keys()):\n",
    "    if key in list(Dict.keys()):\n",
    "        print(True)\n",
    "    else:       \n",
    "        print(False)"
   ]
  },
  {
   "cell_type": "code",
   "execution_count": 30,
   "metadata": {},
   "outputs": [
    {
     "name": "stdout",
     "output_type": "stream",
     "text": [
      "Amit:90\n",
      "Charlie:12\n",
      "Robert:25\n",
      "Tiffany:22\n",
      "Tim:18\n"
     ]
    }
   ],
   "source": [
    "Dict = {'Tim': 18,'Charlie':12,'Tiffany':22,'Robert':25, 'Amit':90}\n",
    "Boys = {'Tim': 18,'Charlie':12,'Robert':25}\n",
    "Girls = {'Tiffany':22}\n",
    "Students = list(Dict.keys())\n",
    "Students.sort()\n",
    "for S in Students:\n",
    "      print(\":\".join((S,str(Dict[S]))))"
   ]
  },
  {
   "cell_type": "code",
   "execution_count": 63,
   "metadata": {},
   "outputs": [
    {
     "name": "stdout",
     "output_type": "stream",
     "text": [
      "Amit:90\n",
      "Charlie:12\n",
      "Robert:25\n",
      "Tiffany:22\n",
      "Tim:18\n"
     ]
    }
   ],
   "source": [
    "Dict = {'Tim': 18,'Charlie':12,'Tiffany':22,'Robert':25, 'Amit':90}\n",
    "std = list(Dict.keys())\n",
    "std.sort()\n",
    "for s in std:\n",
    "    print(':'.join((s,str(Dict[s]))))"
   ]
  },
  {
   "cell_type": "code",
   "execution_count": 62,
   "metadata": {},
   "outputs": [
    {
     "data": {
      "text/plain": [
       "['Amit', 'Charlie', 'Robert', 'Tiffany', 'Tim']"
      ]
     },
     "execution_count": 62,
     "metadata": {},
     "output_type": "execute_result"
    }
   ],
   "source": [
    "Dict = {'Tim': 18,'Charlie':12,'Tiffany':22,'Robert':25, 'Amit':90}\n",
    "len(dict)\n",
    "stds = list(Dict.keys())\n",
    "stds.sort()\n",
    "stds"
   ]
  },
  {
   "cell_type": "code",
   "execution_count": 33,
   "metadata": {},
   "outputs": [
    {
     "name": "stdout",
     "output_type": "stream",
     "text": [
      "variable Type: <class 'dict'>\n"
     ]
    }
   ],
   "source": [
    "Dict = {'Tim': 18,'Charlie':12,'Tiffany':22,'Robert':25}\n",
    "print(\"variable Type: %s\" %type (Dict))"
   ]
  },
  {
   "cell_type": "code",
   "execution_count": 38,
   "metadata": {},
   "outputs": [
    {
     "name": "stdout",
     "output_type": "stream",
     "text": [
      "printable string: {'Tim': 18, 'Charlie': 12, 'Tiffany': 22, 'Robert': 25}\n"
     ]
    }
   ],
   "source": [
    "Dict = {'Tim': 18,'Charlie':12,'Tiffany':22,'Robert':25}\n",
    "print(\"printable string:\", str (Dict))"
   ]
  },
  {
   "cell_type": "markdown",
   "metadata": {},
   "source": [
    "## Merging the dictionaries"
   ]
  },
  {
   "cell_type": "code",
   "execution_count": 44,
   "metadata": {},
   "outputs": [
    {
     "data": {
      "text/plain": [
       "[('Tim', 18),\n",
       " ('Charlie', 12),\n",
       " ('Tiffany', 22),\n",
       " ('Robert', 25),\n",
       " ('Anup', 22),\n",
       " ('Akash', 28),\n",
       " ('Adesh', 25),\n",
       " ('Bharat', 25),\n",
       " ('Bhavani', 32)]"
      ]
     },
     "execution_count": 44,
     "metadata": {},
     "output_type": "execute_result"
    }
   ],
   "source": [
    "Dict1 = {'Tim': 18,'Charlie':12,'Tiffany':22,'Robert':25}\n",
    "Dict2 = {'Anup':22, 'Akash':28, \"Adesh\":25, 'Bharat':25, 'Bhavani':32}\n",
    "Dict1.update(Dict2)\n",
    "list(Dict1.items())"
   ]
  },
  {
   "cell_type": "code",
   "execution_count": 45,
   "metadata": {},
   "outputs": [
    {
     "name": "stdout",
     "output_type": "stream",
     "text": [
      "{'username': 'XYZ', 'email': 'xyz@gmail.com', 'location': 'Mumbai', 'firstName': 'Nick', 'lastName': 'Price'}\n"
     ]
    }
   ],
   "source": [
    "my_dict1 = {\"username\": \"XYZ\", \"email\": \"xyz@gmail.com\", \"location\":\"Mumbai\"}\n",
    "\n",
    "my_dict2 = {\"firstName\" : \"Nick\", \"lastName\": \"Price\"}\n",
    "\n",
    "my_dict =  {**my_dict1, **my_dict2} \n",
    "\n",
    "print(my_dict)"
   ]
  },
  {
   "cell_type": "markdown",
   "metadata": {},
   "source": [
    "## Dict membership test"
   ]
  },
  {
   "cell_type": "code",
   "execution_count": 46,
   "metadata": {},
   "outputs": [
    {
     "name": "stdout",
     "output_type": "stream",
     "text": [
      "True\n",
      "True\n",
      "False\n"
     ]
    }
   ],
   "source": [
    "my_dict = {\"username\": \"XYZ\", \"email\": \"xyz@gmail.com\", \"location\":\"Mumbai\"}\n",
    "print(\"email\" in my_dict)\n",
    "print(\"location\" in my_dict)\n",
    "print(\"test\" in my_dict)"
   ]
  },
  {
   "cell_type": "code",
   "execution_count": 70,
   "metadata": {},
   "outputs": [
    {
     "data": {
      "text/plain": [
       "['Akanksha', 'Anup', 'Rupa']"
      ]
     },
     "execution_count": 70,
     "metadata": {},
     "output_type": "execute_result"
    }
   ],
   "source": [
    "d1 = {'Anup': 23, \"Akanksha\":43}\n",
    "d2 = {'Rupa':33}\n",
    "# d3 = {**d1, **d2}\n",
    "# d3.sort()\n",
    "# d3\n",
    "d1.update(d2)\n",
    "srt = list(d1.keys())\n",
    "srt.sort()\n",
    "srt"
   ]
  },
  {
   "cell_type": "markdown",
   "metadata": {},
   "source": [
    "## Appending dict"
   ]
  },
  {
   "cell_type": "code",
   "execution_count": 74,
   "metadata": {},
   "outputs": [
    {
     "data": {
      "text/plain": [
       "{'Name': ['Adesh'], 'City': ['Amaravati'], 'Age': [20]}"
      ]
     },
     "execution_count": 74,
     "metadata": {},
     "output_type": "execute_result"
    }
   ],
   "source": [
    "dict = {'Name':[], 'City':[], 'Age':[]}\n",
    "\n",
    "dict['Name'].append('Adesh')\n",
    "dict['City'].append('Amaravati')\n",
    "dict['Age'].append(20)\n",
    "\n",
    "dict"
   ]
  },
  {
   "cell_type": "markdown",
   "metadata": {},
   "source": [
    "## Accessing the elements of the dict"
   ]
  },
  {
   "cell_type": "code",
   "execution_count": 77,
   "metadata": {},
   "outputs": [
    {
     "name": "stdout",
     "output_type": "stream",
     "text": [
      "XYZ\n"
     ]
    }
   ],
   "source": [
    "my_dict = {\"username\": \"XYZ\", \"email\": \"xyz@gmail.com\", \"location\":\"Mumbai\"}\n",
    "\n",
    "print(my_dict['username'])"
   ]
  },
  {
   "cell_type": "markdown",
   "metadata": {},
   "source": [
    "## Deleting the elements\n",
    "### del method"
   ]
  },
  {
   "cell_type": "code",
   "execution_count": 79,
   "metadata": {},
   "outputs": [
    {
     "name": "stdout",
     "output_type": "stream",
     "text": [
      "{'email': 'xyz@gmail.com', 'location': 'Bengaluru', 'Area': 'Vijaynagar'}\n"
     ]
    }
   ],
   "source": [
    "my_dict = {\"username\": \"XYZ\", \"email\": \"xyz@gmail.com\", \"location\":\"Bengaluru\", 'Area':'Vijaynagar'}\n",
    "\n",
    "del my_dict['username']\n",
    "print(my_dict)"
   ]
  },
  {
   "cell_type": "markdown",
   "metadata": {},
   "source": [
    "### pop() method"
   ]
  },
  {
   "cell_type": "code",
   "execution_count": 81,
   "metadata": {},
   "outputs": [
    {
     "data": {
      "text/plain": [
       "{'username': 'XYZ', 'email': 'xyz@gmail.com', 'Area': 'Vijaynagar'}"
      ]
     },
     "execution_count": 81,
     "metadata": {},
     "output_type": "execute_result"
    }
   ],
   "source": [
    "my_dict = {\"username\": \"XYZ\", \"email\": \"xyz@gmail.com\", \"location\":\"Bengaluru\", 'Area':'Vijaynagar'}\n",
    "\n",
    "my_dict.pop('location')\n",
    "my_dict"
   ]
  },
  {
   "cell_type": "markdown",
   "metadata": {},
   "source": [
    "## Adding elements"
   ]
  },
  {
   "cell_type": "code",
   "execution_count": 82,
   "metadata": {},
   "outputs": [
    {
     "data": {
      "text/plain": [
       "{'username': 'XYZ',\n",
       " 'email': 'xyz@gmail.com',\n",
       " 'location': 'Bengaluru',\n",
       " 'Area': 'Vijaynagar',\n",
       " 'Name': 'Veeru'}"
      ]
     },
     "execution_count": 82,
     "metadata": {},
     "output_type": "execute_result"
    }
   ],
   "source": [
    "my_dict = {\"username\": \"XYZ\", \"email\": \"xyz@gmail.com\", \"location\":\"Bengaluru\", 'Area':'Vijaynagar'}\n",
    "my_dict.update({'Name': 'Veeru'})\n",
    "my_dict"
   ]
  },
  {
   "cell_type": "code",
   "execution_count": 84,
   "metadata": {},
   "outputs": [
    {
     "data": {
      "text/plain": [
       "{'username': 'XYZ',\n",
       " 'email': 'xyz@gmail.com',\n",
       " 'location': 'Bengaluru',\n",
       " 'Area': 'Vijaynagar',\n",
       " 'Name': 'Ravi'}"
      ]
     },
     "execution_count": 84,
     "metadata": {},
     "output_type": "execute_result"
    }
   ],
   "source": [
    "my_dict = {\"username\": \"XYZ\", \"email\": \"xyz@gmail.com\", \"location\":\"Bengaluru\", 'Area':'Vijaynagar'}\n",
    "my_dict['Name'] = 'Ravi'\n",
    "my_dict"
   ]
  },
  {
   "cell_type": "code",
   "execution_count": null,
   "metadata": {},
   "outputs": [],
   "source": []
  },
  {
   "cell_type": "code",
   "execution_count": null,
   "metadata": {},
   "outputs": [],
   "source": []
  }
 ],
 "metadata": {
  "kernelspec": {
   "display_name": "Python 3",
   "language": "python",
   "name": "python3"
  },
  "language_info": {
   "codemirror_mode": {
    "name": "ipython",
    "version": 3
   },
   "file_extension": ".py",
   "mimetype": "text/x-python",
   "name": "python",
   "nbconvert_exporter": "python",
   "pygments_lexer": "ipython3",
   "version": "3.8.3"
  }
 },
 "nbformat": 4,
 "nbformat_minor": 4
}
