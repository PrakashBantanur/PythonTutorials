{
 "cells": [
  {
   "cell_type": "markdown",
   "metadata": {},
   "source": [
    "## why Function?\n",
    "### Divide a big program to small modules and repeatedly call these modules\n",
    "\n",
    "#### Syntax: \n",
    "#### def name_of_function(Parameter):"
   ]
  },
  {
   "cell_type": "code",
   "execution_count": 1,
   "metadata": {},
   "outputs": [
    {
     "name": "stdout",
     "output_type": "stream",
     "text": [
      "Enter to function section!...\n"
     ]
    }
   ],
   "source": [
    "def display():\n",
    "    print('Enter to function section!...')\n",
    "\n",
    "display()"
   ]
  },
  {
   "cell_type": "code",
   "execution_count": 4,
   "metadata": {},
   "outputs": [
    {
     "name": "stdout",
     "output_type": "stream",
     "text": [
      "Enter your name: ganga\n",
      "Dear ganga, welcome to new journey!...\n"
     ]
    }
   ],
   "source": [
    "def welcome():\n",
    "    name = input('Enter your name: ')\n",
    "    print('Dear '+name+', welcome to new journey!...')\n",
    "welcome()"
   ]
  },
  {
   "cell_type": "code",
   "execution_count": 9,
   "metadata": {},
   "outputs": [
    {
     "name": "stdout",
     "output_type": "stream",
     "text": [
      "24\n",
      "336\n"
     ]
    }
   ],
   "source": [
    "def mul(x, y):\n",
    "    total = 1\n",
    "    for i in range(x, y+1):\n",
    "        total = total*i\n",
    "    print(total)\n",
    "mul(1,4)\n",
    "mul(6,8)"
   ]
  },
  {
   "cell_type": "code",
   "execution_count": 5,
   "metadata": {},
   "outputs": [
    {
     "name": "stdout",
     "output_type": "stream",
     "text": [
      "Enter your Name: Prakash\n",
      "Dear Prakash , Please welcome to Python Programming\n"
     ]
    }
   ],
   "source": [
    "def print_msg():\n",
    "    str1=input('Enter your Name: ')\n",
    "    print('Dear',str1,', Please welcome to Python Programming')\n",
    "print_msg()"
   ]
  },
  {
   "cell_type": "code",
   "execution_count": 13,
   "metadata": {},
   "outputs": [
    {
     "name": "stdout",
     "output_type": "stream",
     "text": [
      "Sum of the 1 to 25 is 325\n",
      "Sum of the 50 to 75 is 1625\n"
     ]
    }
   ],
   "source": [
    "\n",
    "def addition(x, y):\n",
    "    s=0\n",
    "    for i in range(x,y+1):\n",
    "        s=s+i\n",
    "    print('Sum of the',x,'to',y,'is',s)\n",
    "addition(1,25)\n",
    "addition(50,75)\n"
   ]
  },
  {
   "cell_type": "markdown",
   "metadata": {},
   "source": [
    "## Parameter and arguments\n",
    "### Parameters are used to give inputs to a function. if we call the function, the values are also passed to function"
   ]
  },
  {
   "cell_type": "code",
   "execution_count": 13,
   "metadata": {},
   "outputs": [
    {
     "name": "stdout",
     "output_type": "stream",
     "text": [
      "5 is maximum\n"
     ]
    }
   ],
   "source": [
    "def maximum(num1, num2):\n",
    "    if num1>num2:\n",
    "        print(num1,'is maximum')\n",
    "    else:\n",
    "        print(num2,'is maximum')\n",
    "maximum(5, 5)"
   ]
  },
  {
   "cell_type": "code",
   "execution_count": 16,
   "metadata": {},
   "outputs": [
    {
     "name": "stdout",
     "output_type": "stream",
     "text": [
      "120\n"
     ]
    }
   ],
   "source": [
    "def factorial(n):\n",
    "    fact = 1\n",
    "    for i in range(1, n+1):\n",
    "        fact = fact * i\n",
    "    print(fact)\n",
    "    \n",
    "factorial(5)"
   ]
  },
  {
   "cell_type": "markdown",
   "metadata": {},
   "source": [
    "### Positional Arguments:\n",
    "#### The parameters are assigned by defealt according to thier position"
   ]
  },
  {
   "cell_type": "code",
   "execution_count": 19,
   "metadata": {},
   "outputs": [
    {
     "name": "stdout",
     "output_type": "stream",
     "text": [
      "my name is Pavan and my age is: 31\n",
      "my name is 31 and my age is: Arun\n"
     ]
    }
   ],
   "source": [
    "def Display(name, age):\n",
    "    print('my name is',name,'and my age is:',age)\n",
    "    \n",
    "Display('Pavan', 31)\n",
    "Display(31, 'Arun')"
   ]
  },
  {
   "cell_type": "code",
   "execution_count": 21,
   "metadata": {},
   "outputs": [],
   "source": [
    "# def Display(name, age):\n",
    "#     print('my name is',name,'and my age is:',age)\n",
    "    \n",
    "# Display('Pavan')"
   ]
  },
  {
   "cell_type": "markdown",
   "metadata": {},
   "source": [
    "### Note: Python will show an error when an incorrect number of arguments are passed to function call. "
   ]
  },
  {
   "cell_type": "code",
   "execution_count": 35,
   "metadata": {},
   "outputs": [
    {
     "name": "stdout",
     "output_type": "stream",
     "text": [
      "Addition 5\n",
      "Substraction -3\n",
      "Multiplication 4\n"
     ]
    }
   ],
   "source": [
    "def ops(x, y):\n",
    "    print('Addition', x+y)\n",
    "    print('Substraction', x-y)\n",
    "    print('Multiplication', x*y)\n",
    "\n",
    "\n",
    "ops(1, 4)"
   ]
  },
  {
   "cell_type": "code",
   "execution_count": 16,
   "metadata": {},
   "outputs": [
    {
     "name": "stdout",
     "output_type": "stream",
     "text": [
      "Num1:  5\n",
      "Num2:  8\n",
      "8 is greater than 5\n",
      "Num1:  11\n",
      "Num2:  5\n",
      "11 is greater than 5\n",
      "Num1:  5\n",
      "Num2:  5\n",
      "Both numbers are Equal\n"
     ]
    }
   ],
   "source": [
    "def printMax(num1,num2):\n",
    "    print('Num1: ',num1)\n",
    "    print('Num2: ',num2)\n",
    "    \n",
    "    if num1>num2:\n",
    "        print(num1,'is greater than',num2)\n",
    "    elif num2>num1:\n",
    "        print(num2,'is greater than',num1)\n",
    "    else:\n",
    "        print('Both numbers are Equal')\n",
    "printMax(5,8)\n",
    "printMax(11,5)\n",
    "printMax(5,5)"
   ]
  },
  {
   "cell_type": "code",
   "execution_count": 4,
   "metadata": {},
   "outputs": [
    {
     "name": "stdout",
     "output_type": "stream",
     "text": [
      "24\n",
      "31\n",
      "34\n"
     ]
    }
   ],
   "source": [
    "def maxi(x, y, z):\n",
    "#     maxim = x if x>y and x>z else y if y>z else z\n",
    "#     return maxim\n",
    "    return x if x>y and x>z else y if y>z else z\n",
    "\n",
    "\n",
    "print(maxi(1, 24, 3))\n",
    "print(maxi(31, 2, 1))\n",
    "print(maxi(1, 34, 2))"
   ]
  },
  {
   "cell_type": "code",
   "execution_count": 17,
   "metadata": {},
   "outputs": [
    {
     "name": "stdout",
     "output_type": "stream",
     "text": [
      "Enter the number: 5\n",
      "Facrorial of 5 is 120\n"
     ]
    }
   ],
   "source": [
    "num=int(input('Enter the number: '))\n",
    "def factorial(num):\n",
    "    fact=1\n",
    "    for i in range(1, num+1):\n",
    "        fact=fact*i\n",
    "    print('Facrorial of',num,'is',fact)\n",
    "factorial(num)"
   ]
  },
  {
   "cell_type": "markdown",
   "metadata": {},
   "source": [
    "### Keyword arguments:\n",
    "\n",
    "#### Name_of_funaction(key1 = value1, key2=value2......)"
   ]
  },
  {
   "cell_type": "code",
   "execution_count": 26,
   "metadata": {},
   "outputs": [
    {
     "name": "stdout",
     "output_type": "stream",
     "text": [
      "my name is Balu and my age is: 61\n"
     ]
    }
   ],
   "source": [
    "def Display(name, age):\n",
    "    print('my name is',name,'and my age is:',age)\n",
    "Display(age=61, name='Balu')"
   ]
  },
  {
   "cell_type": "markdown",
   "metadata": {},
   "source": [
    "## Parameters with default values"
   ]
  },
  {
   "cell_type": "code",
   "execution_count": 31,
   "metadata": {},
   "outputs": [
    {
     "name": "stdout",
     "output_type": "stream",
     "text": [
      "Hi Akash , Welcome to on boarding...\n",
      "Hi Victor how are you\n",
      "Hi Ravi , Welcome to on boarding...\n"
     ]
    }
   ],
   "source": [
    "def greet(name, msg=', Welcome to on boarding...'):\n",
    "    print('Hi',name,msg)\n",
    "greet('Akash')\n",
    "greet('Victor','how are you')\n",
    "greet('Ravi')"
   ]
  },
  {
   "cell_type": "code",
   "execution_count": 33,
   "metadata": {},
   "outputs": [
    {
     "name": "stdout",
     "output_type": "stream",
     "text": [
      "Radius: 1\n",
      "Area of the circle: 3.142\n",
      "Radius: 2\n",
      "Area of the circle: 12.568\n"
     ]
    }
   ],
   "source": [
    "def area_of_the_circle(pi=3.142, radius=1):\n",
    "    print('Radius:',radius)\n",
    "    print('Area of the circle:',pi*radius**2)\n",
    "area_of_the_circle()\n",
    "area_of_the_circle(radius=2)"
   ]
  },
  {
   "cell_type": "code",
   "execution_count": 23,
   "metadata": {},
   "outputs": [
    {
     "name": "stdout",
     "output_type": "stream",
     "text": [
      "Area of the circle is 3.14 with a Radius of 1\n",
      "Area of the circle is 12.57 with a Radius of 2\n",
      "Area of the circle is 4.00 with a Radius of 1\n"
     ]
    }
   ],
   "source": [
    "def area_of_circle(pi=3.142, r=1):\n",
    "    area=pi*r**2\n",
    "    print(\"Area of the circle is\",format(area,'0.2f'),'with a Radius of',r)\n",
    "area_of_circle()\n",
    "area_of_circle(r=2)\n",
    "area_of_circle(pi=4)"
   ]
  },
  {
   "cell_type": "code",
   "execution_count": 26,
   "metadata": {},
   "outputs": [
    {
     "name": "stdout",
     "output_type": "stream",
     "text": [
      "a = 15 b = 9 c = 20\n",
      "a = 15 b = 10 c = 20\n"
     ]
    }
   ],
   "source": [
    "def disp(a, b=9, c=20):\n",
    "    print('a =',a, 'b =',b, 'c =',c)\n",
    "disp(15)\n",
    "disp(b=10, a=15)\n"
   ]
  },
  {
   "cell_type": "markdown",
   "metadata": {},
   "source": [
    "## Local and Global scope of a variable\n",
    "### Local: Varibales that exist in local scope\n",
    "### Global: Varibales that exist in Global scope"
   ]
  },
  {
   "cell_type": "code",
   "execution_count": 34,
   "metadata": {},
   "outputs": [
    {
     "name": "stdout",
     "output_type": "stream",
     "text": [
      "Local var: 20\n",
      "Global Var: 10\n"
     ]
    }
   ],
   "source": [
    "p = 10\n",
    "\n",
    "def demo():\n",
    "    q = 20\n",
    "    print('Local var:',q)\n",
    "    print('Global Var:',p)\n",
    "demo()"
   ]
  },
  {
   "cell_type": "markdown",
   "metadata": {},
   "source": [
    "## Note: Local varibals are CAN'T be used in Global scope"
   ]
  },
  {
   "cell_type": "markdown",
   "metadata": {},
   "source": [
    "## Reading Global variables from local scope"
   ]
  },
  {
   "cell_type": "code",
   "execution_count": 37,
   "metadata": {},
   "outputs": [
    {
     "name": "stdout",
     "output_type": "stream",
     "text": [
      "I love python\n"
     ]
    }
   ],
   "source": [
    "def Demo():\n",
    "    print(s)\n",
    "    \n",
    "s = 'I love python'\n",
    "Demo()"
   ]
  },
  {
   "cell_type": "markdown",
   "metadata": {},
   "source": [
    "## Global and local variables with same names"
   ]
  },
  {
   "cell_type": "code",
   "execution_count": 38,
   "metadata": {},
   "outputs": [
    {
     "name": "stdout",
     "output_type": "stream",
     "text": [
      "I love programming\n",
      "I like Python\n"
     ]
    }
   ],
   "source": [
    "def trail():\n",
    "    s = 'I love programming'\n",
    "    print(s)\n",
    "s = 'I like Python'\n",
    "trail()\n",
    "print(s)"
   ]
  },
  {
   "cell_type": "markdown",
   "metadata": {},
   "source": [
    "## The return statement\n",
    "### return is used to return the value from the function"
   ]
  },
  {
   "cell_type": "code",
   "execution_count": 42,
   "metadata": {},
   "outputs": [
    {
     "name": "stdout",
     "output_type": "stream",
     "text": [
      "12\n"
     ]
    }
   ],
   "source": [
    "def maximum(a, b):\n",
    "    if a>b:\n",
    "        return a\n",
    "    elif b>a:\n",
    "        return b\n",
    "    else:\n",
    "        return \"both are same numbers\"\n",
    "print(maximum(2, 12))"
   ]
  },
  {
   "cell_type": "code",
   "execution_count": 45,
   "metadata": {},
   "outputs": [
    {
     "name": "stdout",
     "output_type": "stream",
     "text": [
      "Enter the x1 Value:4\n",
      "Enter the x2 Value:2\n",
      "Enter the y1 Value:4\n",
      "Enter the y2 Value:2\n",
      "Distance: 2.83\n"
     ]
    }
   ],
   "source": [
    "def cal_dist():\n",
    "    x1 = int(input('Enter the x1 Value:'))\n",
    "    x2 = int(input('Enter the x2 Value:'))    \n",
    "    y1 = int(input('Enter the y1 Value:'))    \n",
    "    y2 = int(input('Enter the y2 Value:'))\n",
    "    \n",
    "    z = ((x1-x2)**2+(y1-y2)**2)**0.5\n",
    "    return z\n",
    "print('Distance:',format(cal_dist(), '.2f'))"
   ]
  },
  {
   "cell_type": "code",
   "execution_count": 50,
   "metadata": {},
   "outputs": [
    {
     "name": "stdout",
     "output_type": "stream",
     "text": [
      "Area of the circle:  28.28\n"
     ]
    }
   ],
   "source": [
    "def area_of_the_circle(r):\n",
    "    if r<0:\n",
    "        return \"Radius should be non zero and cannot be negative value\"\n",
    "    else:\n",
    "        return 3.142*(r**2)\n",
    "print('Area of the circle: ',format(area_of_the_circle(3),'0.2f'))"
   ]
  },
  {
   "cell_type": "markdown",
   "metadata": {},
   "source": [
    "## Returning multiple values:"
   ]
  },
  {
   "cell_type": "code",
   "execution_count": 52,
   "metadata": {},
   "outputs": [
    {
     "name": "stdout",
     "output_type": "stream",
     "text": [
      "Arithmatic operations:  (13, 9, 22, 5.5)\n"
     ]
    }
   ],
   "source": [
    "def calc(num1, num2):\n",
    "    return num1+num2, num1-num2, num1*num2, num1/num2\n",
    "\n",
    "print('Arithmatic operations: ', calc(11, 2))"
   ]
  },
  {
   "cell_type": "markdown",
   "metadata": {},
   "source": [
    "## Assign returned multiple values to variables"
   ]
  },
  {
   "cell_type": "code",
   "execution_count": 59,
   "metadata": {},
   "outputs": [
    {
     "name": "stdout",
     "output_type": "stream",
     "text": [
      "Enter the input: 4\n",
      "4 's Square is 16.00 and Cube is 64.00\n"
     ]
    }
   ],
   "source": [
    "def sqr_cube():\n",
    "    global n1\n",
    "    n1 = int(input('Enter the input: '))\n",
    "    return n1**2, n1**3\n",
    "square, cube = sqr_cube()\n",
    "print(n1,'\\'s', 'Square is',format(square,'.2f'),'and Cube is',format(cube,'.2f'))"
   ]
  },
  {
   "cell_type": "markdown",
   "metadata": {},
   "source": [
    "## Recursive Function\n",
    "### Situation where a function need to invoke itself, that function is repetitively called by itself. \n",
    "### Exam: factorial n*(n-1)!"
   ]
  },
  {
   "cell_type": "code",
   "execution_count": 66,
   "metadata": {},
   "outputs": [
    {
     "data": {
      "text/plain": [
       "120"
      ]
     },
     "execution_count": 66,
     "metadata": {},
     "output_type": "execute_result"
    }
   ],
   "source": [
    "def factorial(n):\n",
    "#     n = int(input('Enter the num: '))\n",
    "    if n == 0:\n",
    "        return 1\n",
    "    return n*factorial(n-1)\n",
    "factorial(5)"
   ]
  },
  {
   "cell_type": "code",
   "execution_count": 68,
   "metadata": {},
   "outputs": [
    {
     "data": {
      "text/plain": [
       "34"
      ]
     },
     "execution_count": 68,
     "metadata": {},
     "output_type": "execute_result"
    }
   ],
   "source": [
    "def fibbonaci(n):\n",
    "    if n==0:\n",
    "        return 1\n",
    "    if n==1:\n",
    "        return 1\n",
    "    return fibbonaci(n-1)+fibbonaci(n-2)\n",
    "fibbonaci(8)"
   ]
  },
  {
   "cell_type": "markdown",
   "metadata": {},
   "source": [
    "## The Lambda function ( Anonymous)\n",
    "### Name = lambda(Variables):code\n",
    "\n",
    "Note: \n",
    "It does not contain \"return\" statements\n",
    "It contains single expression as a body"
   ]
  },
  {
   "cell_type": "code",
   "execution_count": 69,
   "metadata": {},
   "outputs": [
    {
     "name": "stdout",
     "output_type": "stream",
     "text": [
      "27\n",
      "27\n"
     ]
    }
   ],
   "source": [
    "def cube(n):\n",
    "    return n**3\n",
    "\n",
    "cubelambda = lambda x: x**3\n",
    "\n",
    "print(cube(3))\n",
    "print(cubelambda(3))"
   ]
  },
  {
   "cell_type": "code",
   "execution_count": 62,
   "metadata": {},
   "outputs": [
    {
     "name": "stdout",
     "output_type": "stream",
     "text": [
      "I Love Python\n",
      "I Love Programming\n",
      "I Love PythonProgramming\n"
     ]
    }
   ],
   "source": [
    "S='I Love Programming'     #Global Variable\n",
    "\n",
    "def display():\n",
    "    S='I Love Python'     #Local Variable\n",
    "    print(S)\n",
    "\n",
    "T='I Love PythonProgramming'     #Global Variable\n",
    "\n",
    "display()\n",
    "print(S)\n",
    "print(T)"
   ]
  },
  {
   "cell_type": "code",
   "execution_count": 1,
   "metadata": {},
   "outputs": [
    {
     "name": "stdout",
     "output_type": "stream",
     "text": [
      "Value inside the function:  30\n",
      "Value outside the function:  30\n"
     ]
    }
   ],
   "source": [
    "a=20\n",
    "def display():\n",
    "    global a\n",
    "    a=30\n",
    "    print('Value inside the function: ',a)\n",
    "display()\n",
    "print('Value outside the function: ',a)"
   ]
  },
  {
   "cell_type": "code",
   "execution_count": 26,
   "metadata": {},
   "outputs": [
    {
     "name": "stdout",
     "output_type": "stream",
     "text": [
      "2 is minimum number\n"
     ]
    }
   ],
   "source": [
    "def minimum(x,y):\n",
    "    if x<y:\n",
    "        return x\n",
    "    elif y<x:\n",
    "        return y\n",
    "    else:\n",
    "        print('Both numbers are Equal')\n",
    "print(minimum(2,5),'is minimum number')\n",
    "#print('Smallest number is: ',minimum(2,5))"
   ]
  },
  {
   "cell_type": "code",
   "execution_count": 23,
   "metadata": {},
   "outputs": [
    {
     "name": "stdout",
     "output_type": "stream",
     "text": [
      "X1 = 4\n",
      "X2 = 2\n",
      "Y1 = 4\n",
      "Y2 = 2\n",
      "Distance:  2.8284271247461903\n",
      "X1 = 4\n",
      "X2 = 2\n",
      "Y1 = 4\n",
      "Y2 = 2\n",
      "Distance:  2.83\n",
      "X1 = 4\n",
      "X2 = 2\n",
      "Y1 = 4\n",
      "Y2 = 2\n"
     ]
    },
    {
     "data": {
      "text/plain": [
       "'2.83'"
      ]
     },
     "execution_count": 23,
     "metadata": {},
     "output_type": "execute_result"
    }
   ],
   "source": [
    "import math\n",
    "def distance_calc(x1,x2,y1,y2):\n",
    "    print('X1 =',x1)\n",
    "    print('X2 =',x2)\n",
    "    print('Y1 =',y1)\n",
    "    print('Y2 =',y2)\n",
    "    dx=(x1-x2)**2\n",
    "    dy=(y1-y2)**2\n",
    "    z=math.pow(dx+dy, 0.5)\n",
    "    return z\n",
    "print('Distance: ',distance_calc(4,2,4,2))\n",
    "print('Distance: ',format(distance_calc(4,2,4,2),\"0.2f\"))\n",
    "format(distance_calc(4,2,4,2),\"0.2f\")\n"
   ]
  },
  {
   "cell_type": "code",
   "execution_count": 31,
   "metadata": {},
   "outputs": [
    {
     "name": "stdout",
     "output_type": "stream",
     "text": [
      "Area is 12.57\n"
     ]
    }
   ],
   "source": [
    "def area_of_circle(radius):\n",
    "    if radius<0:\n",
    "        return 'Enter non-zero radius'\n",
    "    else:\n",
    "        return 3.142*radius**2\n",
    "print('Area is',format(area_of_circle(2),'0.2f'))"
   ]
  },
  {
   "cell_type": "code",
   "execution_count": 36,
   "metadata": {},
   "outputs": [
    {
     "name": "stdout",
     "output_type": "stream",
     "text": [
      "Addition 5 Subtraction -1\n"
     ]
    }
   ],
   "source": [
    "def arith(x,y):\n",
    "    return x+y, x-y\n",
    "\n",
    "add, sub=arith(2,3)\n",
    "print('Addition', add, 'Subtraction',sub)"
   ]
  },
  {
   "cell_type": "markdown",
   "metadata": {},
   "source": [
    "## Excersize"
   ]
  },
  {
   "cell_type": "code",
   "execution_count": 1,
   "metadata": {},
   "outputs": [
    {
     "data": {
      "text/plain": [
       "27"
      ]
     },
     "execution_count": 1,
     "metadata": {},
     "output_type": "execute_result"
    }
   ],
   "source": [
    "def eval_quad(a, b, c, x):\n",
    "    return a*x**2+b*x+c\n",
    "eval_quad(1, 2, 3, 4)"
   ]
  },
  {
   "cell_type": "code",
   "execution_count": 4,
   "metadata": {},
   "outputs": [
    {
     "name": "stdout",
     "output_type": "stream",
     "text": [
      "Enter the number: 2.5\n",
      "Enter non zero number: 0.5\n"
     ]
    },
    {
     "data": {
      "text/plain": [
       "'1.58'"
      ]
     },
     "execution_count": 4,
     "metadata": {},
     "output_type": "execute_result"
    }
   ],
   "source": [
    "def expo():\n",
    "    base = eval(input('Enter Base number: '))\n",
    "    exp = eval(input('Enter non zero exponent number: '))\n",
    "    return format((base**exp), '0.2f')\n",
    "\n",
    "expo()"
   ]
  },
  {
   "cell_type": "code",
   "execution_count": 10,
   "metadata": {},
   "outputs": [
    {
     "name": "stdout",
     "output_type": "stream",
     "text": [
      "Enter four the number: 1234\n"
     ]
    },
    {
     "data": {
      "text/plain": [
       "10"
      ]
     },
     "execution_count": 10,
     "metadata": {},
     "output_type": "execute_result"
    }
   ],
   "source": [
    "def digit_sum():\n",
    "    digits = int(input('Enter four the number: '))\n",
    "    d1 = digits%10\n",
    "    r1 = digits//10\n",
    "    d2 = r1%10\n",
    "    r2 = r1//10\n",
    "    d3 = r2%10\n",
    "    r3 = r2//10\n",
    "    d4 = r3%10\n",
    "    return d1+d2+d3+d4\n",
    "digit_sum()"
   ]
  },
  {
   "cell_type": "code",
   "execution_count": 14,
   "metadata": {},
   "outputs": [
    {
     "name": "stdout",
     "output_type": "stream",
     "text": [
      "Enter positive integer value: 56\n",
      "1\n",
      "2\n",
      "4\n",
      "7\n",
      "8\n",
      "14\n",
      "28\n",
      "56\n"
     ]
    }
   ],
   "source": [
    "def factors():\n",
    "    fact = int(input('Enter positive integer value: '))\n",
    "    for i in range(1, fact+1):\n",
    "        if fact%i == 0:\n",
    "            print(i)\n",
    "            \n",
    "factors()"
   ]
  },
  {
   "cell_type": "code",
   "execution_count": 14,
   "metadata": {},
   "outputs": [
    {
     "data": {
      "text/plain": [
       "16"
      ]
     },
     "execution_count": 14,
     "metadata": {},
     "output_type": "execute_result"
    }
   ],
   "source": [
    "def Demo(p=20, q=40):\n",
    "    return p+q\n",
    "Demo(q=10, p=6)"
   ]
  },
  {
   "cell_type": "code",
   "execution_count": 3,
   "metadata": {},
   "outputs": [
    {
     "name": "stdout",
     "output_type": "stream",
     "text": [
      "30\n"
     ]
    }
   ],
   "source": [
    "x=20\n",
    "def f():\n",
    "    global x\n",
    "    x=x+10\n",
    "    print(x)\n",
    "f()"
   ]
  },
  {
   "cell_type": "code",
   "execution_count": 5,
   "metadata": {},
   "outputs": [
    {
     "name": "stdout",
     "output_type": "stream",
     "text": [
      "10\n",
      "11\n"
     ]
    }
   ],
   "source": [
    "def test():\n",
    "    return 10\n",
    "x=11\n",
    "print(test())\n",
    "print(x)"
   ]
  },
  {
   "cell_type": "code",
   "execution_count": 11,
   "metadata": {},
   "outputs": [
    {
     "name": "stdout",
     "output_type": "stream",
     "text": [
      "A\n"
     ]
    }
   ],
   "source": [
    "def test():\n",
    "    global x\n",
    "    x='A'\n",
    "#x='Z'\n",
    "#test()\n",
    "print(x)"
   ]
  },
  {
   "cell_type": "code",
   "execution_count": 13,
   "metadata": {},
   "outputs": [
    {
     "name": "stdout",
     "output_type": "stream",
     "text": [
      "100\n"
     ]
    }
   ],
   "source": [
    "def test(x):\n",
    "    x=200\n",
    "x=100\n",
    "test(x)\n",
    "print(x)"
   ]
  },
  {
   "cell_type": "code",
   "execution_count": 14,
   "metadata": {},
   "outputs": [
    {
     "name": "stdout",
     "output_type": "stream",
     "text": [
      "None\n"
     ]
    }
   ],
   "source": [
    "def test(x):\n",
    "    p=90\n",
    "p=50\n",
    "print(test(p))"
   ]
  },
  {
   "cell_type": "code",
   "execution_count": 17,
   "metadata": {},
   "outputs": [
    {
     "name": "stdout",
     "output_type": "stream",
     "text": [
      "15\n"
     ]
    }
   ],
   "source": [
    "def exp_1(z):\n",
    "    z=z+5\n",
    "    def exp_2(z):\n",
    "        print('Hello')\n",
    "        return z\n",
    "    return z\n",
    "value=10\n",
    "print(exp_1(value))"
   ]
  },
  {
   "cell_type": "code",
   "execution_count": 21,
   "metadata": {},
   "outputs": [
    {
     "name": "stdout",
     "output_type": "stream",
     "text": [
      "8\n"
     ]
    }
   ],
   "source": [
    "def exp_1():\n",
    "    global x\n",
    "    x=x-5\n",
    "    def exp_2():\n",
    "        global x\n",
    "        return x+3\n",
    "    return exp_2()\n",
    "    \n",
    "x=10\n",
    "print(exp_1())"
   ]
  },
  {
   "cell_type": "code",
   "execution_count": 28,
   "metadata": {},
   "outputs": [
    {
     "name": "stdout",
     "output_type": "stream",
     "text": [
      "(5, 20)\n",
      "20 5\n"
     ]
    }
   ],
   "source": [
    "def mul(num1, num2):\n",
    "    num2 =num1*num2\n",
    "    return num1,num2\n",
    "print(mul(5,4))\n",
    "num2, num1= mul(5,4)\n",
    "print(num1, num2)"
   ]
  },
  {
   "cell_type": "code",
   "execution_count": 43,
   "metadata": {},
   "outputs": [
    {
     "name": "stdout",
     "output_type": "stream",
     "text": [
      "Designation:  manager Salary:  50000\n",
      "Designation:  30000 Salary:  Prg\n"
     ]
    }
   ],
   "source": [
    "def dis(Desig, Salary):\n",
    "    print('Designation: ',Desig,'Salary: ',Salary)\n",
    "dis('manager',50000)\n",
    "dis(30000,'Prg')"
   ]
  },
  {
   "cell_type": "code",
   "execution_count": 55,
   "metadata": {},
   "outputs": [
    {
     "name": "stdout",
     "output_type": "stream",
     "text": [
      "4.59479341998814\n"
     ]
    }
   ],
   "source": [
    "import math\n",
    "def cal_exp(base, exp):\n",
    "    if exp<=0:\n",
    "        return 'Please Enter non zero Exponential number'\n",
    "    else:\n",
    "        return math.pow(base,exp)\n",
    "print(cal_exp(2,2.2))\n",
    "#print('Result is:',format(cal_exp(2,2),'0.2f'))"
   ]
  },
  {
   "cell_type": "code",
   "execution_count": 65,
   "metadata": {},
   "outputs": [
    {
     "name": "stdout",
     "output_type": "stream",
     "text": [
      "12\n"
     ]
    }
   ],
   "source": [
    "def gcd_num(a,b):\n",
    "    for i in range (a+b,2,-1):\n",
    "        if i%a==0 and i%b==0:\n",
    "            return i\n",
    "print(gcd_num(2,12))"
   ]
  },
  {
   "cell_type": "code",
   "execution_count": 68,
   "metadata": {},
   "outputs": [
    {
     "name": "stdout",
     "output_type": "stream",
     "text": [
      "(4, 0, 0, 1)\n"
     ]
    }
   ],
   "source": [
    "def reverse(num):\n",
    "    q1=num%10\n",
    "    r1=num//10\n",
    "    q2=r1%10\n",
    "    r2=r1//10\n",
    "    q3=r2%10\n",
    "    r3=r2//10\n",
    "    q4=r3%10\n",
    "    return q1,q2,q3,q4\n",
    "print(reverse(1004))"
   ]
  },
  {
   "cell_type": "code",
   "execution_count": null,
   "metadata": {},
   "outputs": [],
   "source": []
  }
 ],
 "metadata": {
  "kernelspec": {
   "display_name": "Python 3",
   "language": "python",
   "name": "python3"
  },
  "language_info": {
   "codemirror_mode": {
    "name": "ipython",
    "version": 3
   },
   "file_extension": ".py",
   "mimetype": "text/x-python",
   "name": "python",
   "nbconvert_exporter": "python",
   "pygments_lexer": "ipython3",
   "version": "3.8.3"
  }
 },
 "nbformat": 4,
 "nbformat_minor": 4
}
