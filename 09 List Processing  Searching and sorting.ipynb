{
 "cells": [
  {
   "cell_type": "code",
   "execution_count": 4,
   "metadata": {},
   "outputs": [
    {
     "name": "stdout",
     "output_type": "stream",
     "text": [
      "9 is found at position 5\n"
     ]
    },
    {
     "data": {
      "text/plain": [
       "5"
      ]
     },
     "execution_count": 4,
     "metadata": {},
     "output_type": "execute_result"
    }
   ],
   "source": [
    "def linear_search(list1, key):\n",
    "    for i in range(len(list1)):\n",
    "        if(list1[i]==key):\n",
    "            print(key, 'is found at position',i)\n",
    "            return i\n",
    "#             break\n",
    "    return -1\n",
    "\n",
    "linear_search([1, 2, 6, 5, 4, 9], 9)"
   ]
  },
  {
   "cell_type": "code",
   "execution_count": null,
   "metadata": {},
   "outputs": [],
   "source": []
  }
 ],
 "metadata": {
  "kernelspec": {
   "display_name": "Python 3.10.0 64-bit",
   "language": "python",
   "name": "python3"
  },
  "language_info": {
   "codemirror_mode": {
    "name": "ipython",
    "version": 3
   },
   "file_extension": ".py",
   "mimetype": "text/x-python",
   "name": "python",
   "nbconvert_exporter": "python",
   "pygments_lexer": "ipython3",
   "version": "3.10.0"
  },
  "vscode": {
   "interpreter": {
    "hash": "b010794ecdab781c819b1d4b9c2b6f73309eb508e0daf641861518438ffe6e23"
   }
  }
 },
 "nbformat": 4,
 "nbformat_minor": 4
}
