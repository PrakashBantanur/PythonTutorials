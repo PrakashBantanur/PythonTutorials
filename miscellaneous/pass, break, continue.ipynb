{
 "cells": [
  {
   "cell_type": "code",
   "execution_count": 18,
   "metadata": {},
   "outputs": [
    {
     "name": "stdout",
     "output_type": "stream",
     "text": [
      "Prakash\n",
      "Bantanur\n"
     ]
    }
   ],
   "source": [
    "l = 'prakash bantanur'\n",
    "p = l.split(' ')\n",
    "# print(l)\n",
    "# l.capitalize()\n",
    "p\n",
    "for name in p:\n",
    "#     name.capitalize()\n",
    "    print(name.capitalize())\n",
    "\n",
    "\n",
    "\n"
   ]
  },
  {
   "cell_type": "code",
   "execution_count": 7,
   "metadata": {},
   "outputs": [
    {
     "name": "stdout",
     "output_type": "stream",
     "text": [
      "Siya\n",
      "Tiya\n",
      "Guru\n",
      "Guru found\n"
     ]
    }
   ],
   "source": [
    "my_list = ['Siya', 'Tiya', 'Guru', 'Daksh', 'Riya', 'Guru'] \n",
    "\n",
    "for i in range(len(my_list)):\n",
    "    print(my_list[i])\n",
    "    if my_list[i]=='Guru':\n",
    "        print('Guru found')\n",
    "        break"
   ]
  },
  {
   "cell_type": "code",
   "execution_count": 9,
   "metadata": {},
   "outputs": [
    {
     "name": "stdout",
     "output_type": "stream",
     "text": [
      "1\n",
      "2\n",
      "3\n",
      "4\n",
      "6\n",
      "7\n",
      "8\n",
      "9\n",
      "11\n",
      "12\n",
      "13\n",
      "14\n"
     ]
    }
   ],
   "source": [
    "for i in range(15):\n",
    "    if i%5==0:\n",
    "        continue\n",
    "    print(i)"
   ]
  },
  {
   "cell_type": "code",
   "execution_count": 11,
   "metadata": {},
   "outputs": [
    {
     "name": "stdout",
     "output_type": "stream",
     "text": [
      "t\n",
      "e\n",
      "s\n",
      "Pass executed\n",
      "r\n",
      "t\n"
     ]
    }
   ],
   "source": [
    "for i in 'tesrt': \n",
    "    if i == 'r': \n",
    "        print('Pass executed') \n",
    "        pass\n",
    "    print(i)"
   ]
  },
  {
   "cell_type": "code",
   "execution_count": null,
   "metadata": {},
   "outputs": [],
   "source": []
  }
 ],
 "metadata": {
  "kernelspec": {
   "display_name": "Python 3",
   "language": "python",
   "name": "python3"
  },
  "language_info": {
   "codemirror_mode": {
    "name": "ipython",
    "version": 3
   },
   "file_extension": ".py",
   "mimetype": "text/x-python",
   "name": "python",
   "nbconvert_exporter": "python",
   "pygments_lexer": "ipython3",
   "version": "3.8.3"
  }
 },
 "nbformat": 4,
 "nbformat_minor": 4
}
