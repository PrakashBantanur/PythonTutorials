{
 "cells": [
  {
   "cell_type": "markdown",
   "metadata": {},
   "source": [
    "# Numbers"
   ]
  },
  {
   "cell_type": "code",
   "execution_count": 4,
   "metadata": {},
   "outputs": [
    {
     "name": "stdout",
     "output_type": "stream",
     "text": [
      "9\n",
      "1\n",
      "20\n",
      "1.25\n"
     ]
    }
   ],
   "source": [
    "print(4+5)\n",
    "print(5-4)\n",
    "print(5*4)\n",
    "print(5/4)"
   ]
  },
  {
   "cell_type": "markdown",
   "metadata": {},
   "source": [
    "# Variables"
   ]
  },
  {
   "cell_type": "code",
   "execution_count": 2,
   "metadata": {},
   "outputs": [
    {
     "name": "stdout",
     "output_type": "stream",
     "text": [
      "my name is Akash\n"
     ]
    }
   ],
   "source": [
    "name = 'Akash'\n",
    "print('my name is ' + name)"
   ]
  },
  {
   "cell_type": "code",
   "execution_count": 13,
   "metadata": {},
   "outputs": [
    {
     "name": "stdout",
     "output_type": "stream",
     "text": [
      "my age is 22\n"
     ]
    }
   ],
   "source": [
    "\n",
    "# age = input('Enter the age:')\n",
    "# age = 22\n",
    "age = str(22)\n",
    "print('my age is ' + age)"
   ]
  },
  {
   "cell_type": "code",
   "execution_count": 14,
   "metadata": {},
   "outputs": [
    {
     "name": "stdout",
     "output_type": "stream",
     "text": [
      "my age is 22\n"
     ]
    }
   ],
   "source": [
    "age = 22\n",
    "print('my age is ' + str(age))"
   ]
  },
  {
   "cell_type": "markdown",
   "metadata": {},
   "source": [
    "# Lists"
   ]
  },
  {
   "cell_type": "code",
   "execution_count": 16,
   "metadata": {},
   "outputs": [],
   "source": [
    "student1 = 'Akash'\n",
    "student2 = 'Adesh'\n",
    "student3 = 'Arun'\n",
    "student4 = 'Anup'"
   ]
  },
  {
   "cell_type": "code",
   "execution_count": 17,
   "metadata": {},
   "outputs": [
    {
     "name": "stdout",
     "output_type": "stream",
     "text": [
      "Akash\n"
     ]
    }
   ],
   "source": [
    "print(student1)"
   ]
  },
  {
   "cell_type": "code",
   "execution_count": 19,
   "metadata": {},
   "outputs": [],
   "source": [
    "students = ['Akash', 'Adesh', 'Arun', 'Anup']\n",
    "marks = [20, 51, 62, 12]"
   ]
  },
  {
   "cell_type": "code",
   "execution_count": 21,
   "metadata": {},
   "outputs": [
    {
     "name": "stdout",
     "output_type": "stream",
     "text": [
      "Arun\n"
     ]
    }
   ],
   "source": [
    "print(students[2])"
   ]
  },
  {
   "cell_type": "code",
   "execution_count": 25,
   "metadata": {},
   "outputs": [
    {
     "name": "stdout",
     "output_type": "stream",
     "text": [
      "Adesh & Anup\n"
     ]
    }
   ],
   "source": [
    "print(students[1]+' & '+students[3])"
   ]
  },
  {
   "cell_type": "code",
   "execution_count": 26,
   "metadata": {},
   "outputs": [
    {
     "name": "stdout",
     "output_type": "stream",
     "text": [
      "4\n"
     ]
    }
   ],
   "source": [
    "print(len(students))"
   ]
  },
  {
   "cell_type": "code",
   "execution_count": 27,
   "metadata": {},
   "outputs": [],
   "source": [
    "students.append('Akshay')"
   ]
  },
  {
   "cell_type": "code",
   "execution_count": 28,
   "metadata": {},
   "outputs": [
    {
     "name": "stdout",
     "output_type": "stream",
     "text": [
      "['Akash', 'Adesh', 'Arun', 'Anup', 'Akshay']\n"
     ]
    }
   ],
   "source": [
    "print(students)"
   ]
  },
  {
   "cell_type": "code",
   "execution_count": 29,
   "metadata": {},
   "outputs": [
    {
     "name": "stdout",
     "output_type": "stream",
     "text": [
      "5\n"
     ]
    }
   ],
   "source": [
    "print(len(students))"
   ]
  },
  {
   "cell_type": "code",
   "execution_count": 30,
   "metadata": {},
   "outputs": [
    {
     "name": "stdout",
     "output_type": "stream",
     "text": [
      "4\n"
     ]
    }
   ],
   "source": [
    "print(len(marks))"
   ]
  },
  {
   "cell_type": "code",
   "execution_count": 31,
   "metadata": {},
   "outputs": [
    {
     "name": "stdout",
     "output_type": "stream",
     "text": [
      "36.25\n"
     ]
    }
   ],
   "source": [
    "print((marks[0]+marks[1]+marks[2]+marks[3])/len(marks))"
   ]
  },
  {
   "cell_type": "code",
   "execution_count": 38,
   "metadata": {},
   "outputs": [
    {
     "name": "stdout",
     "output_type": "stream",
     "text": [
      "[1, 4, 9, 16]\n",
      "[4, 16]\n"
     ]
    }
   ],
   "source": [
    "list1=[i**2 for i in range(1, 5)]\n",
    "print(list1)\n",
    "\n",
    "list2=[i**2 for i in range(1, 5) if i%2==0]\n",
    "print(list2)"
   ]
  },
  {
   "cell_type": "markdown",
   "metadata": {},
   "source": [
    "## pop function"
   ]
  },
  {
   "cell_type": "code",
   "execution_count": 55,
   "metadata": {},
   "outputs": [
    {
     "name": "stdout",
     "output_type": "stream",
     "text": [
      "Sumesh\n",
      "['Akash', 'Anup', 'Ajay', 'Bharat', 'Bhavya', 'Bhavani', 'Shivani', 'Ramesh']\n"
     ]
    }
   ],
   "source": [
    "names_list = ['Akash', 'Anup', 'Ajay', 'Bharat', 'Bhavya', 'Bhavani', 'Shivani', 'Ramesh', 'Sumesh']\n",
    "p = names_list.pop()\n",
    "print(p)\n",
    "print(names_list)\n",
    "\n",
    "\n",
    "while len(new_list[i])%2==0:\n",
    "    print(new_list[i])\n",
    "    \n",
    "\n",
    "#     print(new_list[i])\n",
    "\n",
    "# for i in range(len(names_list)):\n",
    "#     new_list = [names for names in names_list ]\n",
    "#     print(new_list)\n",
    "\n",
    "\n"
   ]
  },
  {
   "cell_type": "markdown",
   "metadata": {},
   "source": [
    "# string to int"
   ]
  },
  {
   "cell_type": "code",
   "execution_count": 57,
   "metadata": {},
   "outputs": [
    {
     "name": "stdout",
     "output_type": "stream",
     "text": [
      "45\n",
      "9\n"
     ]
    }
   ],
   "source": [
    "# string to int\n",
    "\n",
    "a = '4'\n",
    "b = '5'\n",
    "\n",
    "print(a+b)  #  See the difference\n",
    "print(int(a)+int(b))"
   ]
  },
  {
   "cell_type": "markdown",
   "metadata": {},
   "source": [
    "# string to floating number"
   ]
  },
  {
   "cell_type": "code",
   "execution_count": 59,
   "metadata": {},
   "outputs": [
    {
     "name": "stdout",
     "output_type": "stream",
     "text": [
      "4.65.1\n",
      "9.7\n"
     ]
    }
   ],
   "source": [
    "# string to float\n",
    "\n",
    "a = '4.6'\n",
    "b = '5.1'\n",
    "\n",
    "print(a+b)\n",
    "print(float(a)+float(b))\n"
   ]
  },
  {
   "cell_type": "markdown",
   "metadata": {},
   "source": [
    "# Int to string"
   ]
  },
  {
   "cell_type": "code",
   "execution_count": 60,
   "metadata": {},
   "outputs": [
    {
     "name": "stdout",
     "output_type": "stream",
     "text": [
      "Iam 30\n"
     ]
    }
   ],
   "source": [
    "# int to string\n",
    "\n",
    "age =30\n",
    "print('Iam ' + str(age))"
   ]
  },
  {
   "cell_type": "markdown",
   "metadata": {},
   "source": [
    "# list to string"
   ]
  },
  {
   "cell_type": "code",
   "execution_count": 13,
   "metadata": {},
   "outputs": [
    {
     "name": "stdout",
     "output_type": "stream",
     "text": [
      "Akash Anup Ajay Bharat Bhavya Bhavani Shivani Ramesh\n",
      "Akash=Anup=Ajay=Bharat=Bhavya=Bhavani=Shivani=Ramesh\n",
      "Team has total 8 members, they are ['Akash', 'Anup', 'Ajay', 'Bharat', 'Bhavya', 'Bhavani', 'Shivani', 'Ramesh']\n"
     ]
    }
   ],
   "source": [
    "# list to string\n",
    "\n",
    "names = ['Akash', 'Anup', 'Ajay', 'Bharat', 'Bhavya', 'Bhavani', 'Shivani', 'Ramesh']\n",
    "\n",
    "l_to_s = ' '.join(names)\n",
    "l_to_s2 = '='.join(names)\n",
    "\n",
    "print(l_to_s)\n",
    "print(l_to_s2)\n",
    "print('Team has total ' + str(len(names)) + ' members, they are ' + str(names))"
   ]
  },
  {
   "cell_type": "markdown",
   "metadata": {},
   "source": [
    "# string to list"
   ]
  },
  {
   "cell_type": "code",
   "execution_count": 8,
   "metadata": {},
   "outputs": [
    {
     "name": "stdout",
     "output_type": "stream",
     "text": [
      "['I', 'am', 'proud', 'to', 'be', 'a', 'Kannadiga']\n",
      "['Akash', 'Anup', 'Ajay', 'Bharat', 'Bhavya', 'Bhavani', 'Shivani', 'Ramesh']\n",
      "7\n"
     ]
    }
   ],
   "source": [
    "# string to list\n",
    "\n",
    "strng = 'I am proud to be a Kannadiga'\n",
    "newstr = 'Akash=Anup=Ajay=Bharat=Bhavya=Bhavani=Shivani=Ramesh'\n",
    "\n",
    "s_to_l = strng.split(' ')\n",
    "s_to_l2 = newstr.split('=')\n",
    "\n",
    "print(s_to_l)\n",
    "print(s_to_l2)\n",
    "\n",
    "print(len(s_to_l))"
   ]
  },
  {
   "cell_type": "code",
   "execution_count": 21,
   "metadata": {},
   "outputs": [
    {
     "name": "stdout",
     "output_type": "stream",
     "text": [
      "['I', 'am', 'from', 'Amingad']\n",
      "4\n",
      "I am from Amingad\n",
      "Number of words on above sentence are: 4\n"
     ]
    }
   ],
   "source": [
    "i = 'I am from Amingad'\n",
    "lst = i.split(' ')\n",
    "print(lst)\n",
    "print(len(i.split(' ')))\n",
    "print(i)\n",
    "print('Number of words on above sentence are: '+str(len(i.split(' '))))"
   ]
  },
  {
   "cell_type": "markdown",
   "metadata": {},
   "source": [
    "# Exercise"
   ]
  },
  {
   "cell_type": "markdown",
   "metadata": {},
   "source": [
    "## 1"
   ]
  },
  {
   "cell_type": "code",
   "execution_count": 52,
   "metadata": {},
   "outputs": [
    {
     "name": "stdout",
     "output_type": "stream",
     "text": [
      "['akash', 'gmail.com']\n",
      "gmail.com\n",
      "['akash']\n",
      "================OR===================\n",
      "anup\n"
     ]
    }
   ],
   "source": [
    "emails = 'akash@gmail.com'\n",
    "\n",
    "split = emails.split('@')\n",
    "print(split)\n",
    "l=split.pop()\n",
    "print(l)\n",
    "print(split)\n",
    "\n",
    "# a = ['Akash', 'Anup']\n",
    "# l = a.pop()\n",
    "# print(l)\n",
    "# print(a)\n",
    "\n",
    "print('================OR===================')\n",
    "\n",
    "eml = 'anup@yahoo.com'\n",
    "print(eml.split('@')[0])"
   ]
  },
  {
   "cell_type": "code",
   "execution_count": 27,
   "metadata": {},
   "outputs": [
    {
     "name": "stdout",
     "output_type": "stream",
     "text": [
      "['akash', 'gmail.com,anup', 'yahoo.com']\n"
     ]
    }
   ],
   "source": [
    "emails = ['akash@gmail.com', 'anup@yahoo.com']\n",
    "lst = ','.join(emails)\n",
    "print(lst.split('@'))"
   ]
  },
  {
   "cell_type": "markdown",
   "metadata": {},
   "source": [
    "## 2"
   ]
  },
  {
   "cell_type": "code",
   "execution_count": 53,
   "metadata": {},
   "outputs": [
    {
     "name": "stdout",
     "output_type": "stream",
     "text": [
      "psb\n",
      "==================OR=================\n",
      "psb\n"
     ]
    }
   ],
   "source": [
    "emls = 'infosys@psb.com'\n",
    "l = emls.split('@')[1]\n",
    "print(l.split('.')[0])\n",
    "\n",
    "print('==================OR=================')\n",
    "\n",
    "print(emls.split('@')[1].split('.')[0])"
   ]
  },
  {
   "cell_type": "markdown",
   "metadata": {},
   "source": [
    "## 3"
   ]
  },
  {
   "cell_type": "code",
   "execution_count": 59,
   "metadata": {},
   "outputs": [
    {
     "name": "stdout",
     "output_type": "stream",
     "text": [
      "['akash@gmail.com', 'anup@yahoo.com', 'seema@ms.com']\n",
      "Number of clients: 3\n"
     ]
    }
   ],
   "source": [
    "email1 = 'akash@gmail.com'\n",
    "email2 = 'anup@yahoo.com'\n",
    "email3 = 'seema@ms.com'\n",
    "\n",
    "clients = []\n",
    "\n",
    "clients.append(email1)\n",
    "clients.append(email2)\n",
    "clients.append(email3)\n",
    "\n",
    "print(clients)\n",
    "print('Number of clients: '+str(len(clients)))\n"
   ]
  },
  {
   "cell_type": "markdown",
   "metadata": {},
   "source": [
    "## 4 "
   ]
  },
  {
   "cell_type": "code",
   "execution_count": 60,
   "metadata": {},
   "outputs": [
    {
     "name": "stdout",
     "output_type": "stream",
     "text": [
      "Bhavya@gmail.com\n"
     ]
    }
   ],
   "source": [
    "newmail = ['Bhavya', 'gmail.com']\n",
    "print('@'.join(newmail))"
   ]
  },
  {
   "cell_type": "code",
   "execution_count": null,
   "metadata": {},
   "outputs": [],
   "source": []
  }
 ],
 "metadata": {
  "kernelspec": {
   "display_name": "Python 3",
   "language": "python",
   "name": "python3"
  },
  "language_info": {
   "codemirror_mode": {
    "name": "ipython",
    "version": 3
   },
   "file_extension": ".py",
   "mimetype": "text/x-python",
   "name": "python",
   "nbconvert_exporter": "python",
   "pygments_lexer": "ipython3",
   "version": "3.8.3"
  }
 },
 "nbformat": 4,
 "nbformat_minor": 4
}
