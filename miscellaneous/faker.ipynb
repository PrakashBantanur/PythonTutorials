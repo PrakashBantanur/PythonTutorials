{
 "cells": [
  {
   "cell_type": "code",
   "execution_count": 2,
   "metadata": {},
   "outputs": [
    {
     "name": "stdout",
     "output_type": "stream",
     "text": [
      "Requirement already satisfied: faker in c:\\users\\psb\\anaconda3\\lib\\site-packages (8.2.1)\n",
      "Requirement already satisfied: python-dateutil>=2.4 in c:\\users\\psb\\anaconda3\\lib\\site-packages (from faker) (2.8.1)\n",
      "Requirement already satisfied: text-unidecode==1.3 in c:\\users\\psb\\anaconda3\\lib\\site-packages (from faker) (1.3)\n",
      "Requirement already satisfied: six>=1.5 in c:\\users\\psb\\anaconda3\\lib\\site-packages (from python-dateutil>=2.4->faker) (1.15.0)\n",
      "Note: you may need to restart the kernel to use updated packages.\n"
     ]
    }
   ],
   "source": [
    "#pip install faker"
   ]
  },
  {
   "cell_type": "code",
   "execution_count": 4,
   "metadata": {},
   "outputs": [],
   "source": [
    "from faker import Faker\n",
    "fake = Faker()"
   ]
  },
  {
   "cell_type": "code",
   "execution_count": 14,
   "metadata": {},
   "outputs": [],
   "source": [
    "name = fake.name()\n",
    "color = fake.color_name()\n",
    "city = fake.city()\n",
    "job = fake.job()"
   ]
  },
  {
   "cell_type": "code",
   "execution_count": 16,
   "metadata": {},
   "outputs": [
    {
     "name": "stdout",
     "output_type": "stream",
     "text": [
      "Her name is April Carey. she lives in East Brycemouth. Her fevorite color is PaleVioletRed. She works as a Energy engineer.\n"
     ]
    }
   ],
   "source": [
    "print('Her name is {}. she lives in {}. Her fevorite color is {}. She works as a {}.'. format(name, city,color, job))"
   ]
  },
  {
   "cell_type": "code",
   "execution_count": 25,
   "metadata": {},
   "outputs": [
    {
     "name": "stdout",
     "output_type": "stream",
     "text": [
      "Enter the meter reading in watts: 51\n",
      "Your this month KEB bill is of rupees 296.25\n"
     ]
    }
   ],
   "source": [
    "amount = 0\n",
    "num = eval(input('Enter the meter reading in watts: '))\n",
    "\n",
    "if num <=30:\n",
    "    amount = amount + num * 3.37\n",
    "    \n",
    "elif num>30 & num <=100:\n",
    "    basic = 30\n",
    "    amount = amount + basic * 3.37\n",
    "    secondslab = num - basic\n",
    "    amount = amount  + secondslab * 5.9\n",
    "    amount2 = amount\n",
    "    \n",
    "elif num>100:\n",
    "    trdslab = num - 100\n",
    "    amount = amount2  + trdslab * 7.9\n",
    "    \n",
    "total = amount + (amount * 0.05) + 60\n",
    "    \n",
    "print('Your this month KEB bill is of rupees', total)\n"
   ]
  },
  {
   "cell_type": "code",
   "execution_count": 2,
   "metadata": {},
   "outputs": [],
   "source": [
    "# from zipfile import ZipFile\n",
    "# ZipFile(\"C:\\\\Users\\\\PSB\\\\MachineLearnings\\\\pandas_for_everyone-master.zip\").extractall(\"C:\\\\Users\\\\PSB\\\\MachineLearnings\\\\\")"
   ]
  },
  {
   "cell_type": "code",
   "execution_count": 1,
   "metadata": {},
   "outputs": [
    {
     "data": {
      "text/plain": [
       "'C:\\\\Users\\\\PSB\\\\MachineLearnings'"
      ]
     },
     "execution_count": 1,
     "metadata": {},
     "output_type": "execute_result"
    }
   ],
   "source": [
    "pwd"
   ]
  },
  {
   "cell_type": "code",
   "execution_count": 1,
   "metadata": {},
   "outputs": [
    {
     "name": "stdout",
     "output_type": "stream",
     "text": [
      "['G', 'e', 'e', 'k', 's']\n"
     ]
    }
   ],
   "source": [
    "list1 = []\n",
    "\n",
    "for character in 'Geeks':\n",
    "    list1.append(character)\n",
    "    \n",
    "print(list1)"
   ]
  },
  {
   "cell_type": "code",
   "execution_count": 2,
   "metadata": {},
   "outputs": [
    {
     "name": "stdout",
     "output_type": "stream",
     "text": [
      "['g', 'e', 'e', 'k']\n"
     ]
    }
   ],
   "source": [
    "list2 = [char for char in 'geek']\n",
    "print(list2)"
   ]
  },
  {
   "cell_type": "code",
   "execution_count": 3,
   "metadata": {},
   "outputs": [
    {
     "name": "stdout",
     "output_type": "stream",
     "text": [
      "[4, 16, 36, 64, 100]\n"
     ]
    }
   ],
   "source": [
    "squares = [i**2 for i in range(1, 11) if i%2==0]\n",
    "print(squares)"
   ]
  },
  {
   "cell_type": "code",
   "execution_count": 6,
   "metadata": {},
   "outputs": [
    {
     "name": "stdout",
     "output_type": "stream",
     "text": [
      "[4, 16, 36, 64, 100]\n"
     ]
    }
   ],
   "source": [
    "sqr = []\n",
    "for i in range(1, 11):\n",
    "    if i%2 == 0:\n",
    "        sqr.append(i**2)\n",
    "        \n",
    "print(sqr)"
   ]
  },
  {
   "cell_type": "code",
   "execution_count": 7,
   "metadata": {},
   "outputs": [
    {
     "name": "stdout",
     "output_type": "stream",
     "text": [
      "['skeeG', 'rof', 'skeeG']\n"
     ]
    }
   ],
   "source": [
    "# Reverse each string in tuple\n",
    "List = [char[::-1] for char in ('Geeks', 'for', 'Geeks')]\n",
    " \n",
    "# Display list\n",
    "print(List)"
   ]
  },
  {
   "cell_type": "code",
   "execution_count": 13,
   "metadata": {},
   "outputs": [
    {
     "name": "stdout",
     "output_type": "stream",
     "text": [
      "[1, 2, 3, 'a', 'c', 1, 8, 'a', 'd']\n",
      "False\n",
      "True\n",
      "1\n",
      "8\n",
      "4\n"
     ]
    }
   ],
   "source": [
    "list1=[1, 2, 3, 'a', 'c']\n",
    "list2=[1, 8, 'a', 'd']\n",
    "\n",
    "list =list1 + list2\n",
    "print(list)\n",
    "\n",
    "print(4 in list1)\n",
    "print(4 not in list1)\n",
    "\n",
    "list3 =[1, 5 , 8, 7]\n",
    "print(min(list3))\n",
    "print(max(list3))\n",
    "print(len(list3))"
   ]
  },
  {
   "cell_type": "code",
   "execution_count": 19,
   "metadata": {},
   "outputs": [
    {
     "name": "stdout",
     "output_type": "stream",
     "text": [
      "[1, 9, 25, 49, 81, 121, 169]\n",
      "[1, 2, 4, 5, 7, 8, 10, 11, 13, 14]\n",
      "None\n"
     ]
    }
   ],
   "source": [
    "list1=[i**2 for i in range(1, 15) if i%2]\n",
    "list2=[i for i in range(1, 15) if i%3]\n",
    "\n",
    "l1=list1\n",
    "l2=list2\n",
    "\n",
    "\n",
    "print(list1)\n",
    "print(list2)\n",
    "\n",
    "\n",
    "print(l1.append(4))\n"
   ]
  },
  {
   "cell_type": "code",
   "execution_count": null,
   "metadata": {},
   "outputs": [],
   "source": []
  },
  {
   "cell_type": "code",
   "execution_count": null,
   "metadata": {},
   "outputs": [],
   "source": []
  }
 ],
 "metadata": {
  "kernelspec": {
   "display_name": "Python 3",
   "language": "python",
   "name": "python3"
  },
  "language_info": {
   "codemirror_mode": {
    "name": "ipython",
    "version": 3
   },
   "file_extension": ".py",
   "mimetype": "text/x-python",
   "name": "python",
   "nbconvert_exporter": "python",
   "pygments_lexer": "ipython3",
   "version": "3.8.3"
  }
 },
 "nbformat": 4,
 "nbformat_minor": 4
}
