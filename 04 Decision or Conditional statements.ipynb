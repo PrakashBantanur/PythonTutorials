{
 "cells": [
  {
   "cell_type": "markdown",
   "metadata": {},
   "source": [
    "## Decision statements: programmer decides which statement is to be executed based on a condition, use conditions are similer to Boolean expressions"
   ]
  },
  {
   "cell_type": "code",
   "execution_count": 1,
   "metadata": {},
   "outputs": [
    {
     "data": {
      "text/plain": [
       "True"
      ]
     },
     "execution_count": 1,
     "metadata": {},
     "output_type": "execute_result"
    }
   ],
   "source": [
    "True"
   ]
  },
  {
   "cell_type": "code",
   "execution_count": 3,
   "metadata": {},
   "outputs": [
    {
     "data": {
      "text/plain": [
       "False"
      ]
     },
     "execution_count": 3,
     "metadata": {},
     "output_type": "execute_result"
    }
   ],
   "source": [
    "False"
   ]
  },
  {
   "cell_type": "code",
   "execution_count": 4,
   "metadata": {},
   "outputs": [
    {
     "data": {
      "text/plain": [
       "bool"
      ]
     },
     "execution_count": 4,
     "metadata": {},
     "output_type": "execute_result"
    }
   ],
   "source": [
    "type(True)"
   ]
  },
  {
   "cell_type": "code",
   "execution_count": 5,
   "metadata": {},
   "outputs": [
    {
     "data": {
      "text/plain": [
       "False"
      ]
     },
     "execution_count": 5,
     "metadata": {},
     "output_type": "execute_result"
    }
   ],
   "source": [
    "not True"
   ]
  },
  {
   "cell_type": "code",
   "execution_count": 6,
   "metadata": {},
   "outputs": [
    {
     "data": {
      "text/plain": [
       "True"
      ]
     },
     "execution_count": 6,
     "metadata": {},
     "output_type": "execute_result"
    }
   ],
   "source": [
    "True and True"
   ]
  },
  {
   "cell_type": "code",
   "execution_count": 8,
   "metadata": {},
   "outputs": [
    {
     "data": {
      "text/plain": [
       "False"
      ]
     },
     "execution_count": 8,
     "metadata": {},
     "output_type": "execute_result"
    }
   ],
   "source": [
    "True and False"
   ]
  },
  {
   "cell_type": "code",
   "execution_count": 9,
   "metadata": {},
   "outputs": [
    {
     "data": {
      "text/plain": [
       "True"
      ]
     },
     "execution_count": 9,
     "metadata": {},
     "output_type": "execute_result"
    }
   ],
   "source": [
    "True or False"
   ]
  },
  {
   "cell_type": "markdown",
   "metadata": {},
   "source": [
    "## not operator"
   ]
  },
  {
   "cell_type": "code",
   "execution_count": 10,
   "metadata": {},
   "outputs": [
    {
     "data": {
      "text/plain": [
       "5"
      ]
     },
     "execution_count": 10,
     "metadata": {},
     "output_type": "execute_result"
    }
   ],
   "source": [
    "5"
   ]
  },
  {
   "cell_type": "code",
   "execution_count": 11,
   "metadata": {},
   "outputs": [
    {
     "data": {
      "text/plain": [
       "False"
      ]
     },
     "execution_count": 11,
     "metadata": {},
     "output_type": "execute_result"
    }
   ],
   "source": [
    "not 5"
   ]
  },
  {
   "cell_type": "code",
   "execution_count": 12,
   "metadata": {},
   "outputs": [
    {
     "data": {
      "text/plain": [
       "True"
      ]
     },
     "execution_count": 12,
     "metadata": {},
     "output_type": "execute_result"
    }
   ],
   "source": [
    "not 0"
   ]
  },
  {
   "cell_type": "code",
   "execution_count": 13,
   "metadata": {},
   "outputs": [
    {
     "data": {
      "text/plain": [
       "True"
      ]
     },
     "execution_count": 13,
     "metadata": {},
     "output_type": "execute_result"
    }
   ],
   "source": [
    "not 0.0"
   ]
  },
  {
   "cell_type": "markdown",
   "metadata": {},
   "source": [
    "## Boolean operator"
   ]
  },
  {
   "cell_type": "code",
   "execution_count": 14,
   "metadata": {},
   "outputs": [
    {
     "data": {
      "text/plain": [
       "False"
      ]
     },
     "execution_count": 14,
     "metadata": {},
     "output_type": "execute_result"
    }
   ],
   "source": [
    "not 'hello'"
   ]
  },
  {
   "cell_type": "code",
   "execution_count": 15,
   "metadata": {},
   "outputs": [
    {
     "data": {
      "text/plain": [
       "True"
      ]
     },
     "execution_count": 15,
     "metadata": {},
     "output_type": "execute_result"
    }
   ],
   "source": [
    "not ''"
   ]
  },
  {
   "cell_type": "code",
   "execution_count": 16,
   "metadata": {},
   "outputs": [
    {
     "data": {
      "text/plain": [
       "True"
      ]
     },
     "execution_count": 16,
     "metadata": {},
     "output_type": "execute_result"
    }
   ],
   "source": [
    "2 ==2"
   ]
  },
  {
   "cell_type": "code",
   "execution_count": 17,
   "metadata": {},
   "outputs": [
    {
     "data": {
      "text/plain": [
       "False"
      ]
     },
     "execution_count": 17,
     "metadata": {},
     "output_type": "execute_result"
    }
   ],
   "source": [
    "2>4"
   ]
  },
  {
   "cell_type": "code",
   "execution_count": 19,
   "metadata": {},
   "outputs": [
    {
     "data": {
      "text/plain": [
       "True"
      ]
     },
     "execution_count": 19,
     "metadata": {},
     "output_type": "execute_result"
    }
   ],
   "source": [
    "a, b = 2, 2\n",
    "a==b"
   ]
  },
  {
   "cell_type": "markdown",
   "metadata": {},
   "source": [
    "## Note: An expression always returns a value and a statement \"doesn't\" return any value"
   ]
  },
  {
   "cell_type": "code",
   "execution_count": 22,
   "metadata": {},
   "outputs": [
    {
     "name": "stdout",
     "output_type": "stream",
     "text": [
      "Enter the number: 1,2,3\n",
      "p>q>r is False\n",
      "p<q<r is True\n",
      "(p<q) and (p<r) is True\n",
      "(p<q) or (p<r) is True\n"
     ]
    }
   ],
   "source": [
    "p, q, r = eval(input('Enter the three numbers seperated by commas: '))\n",
    "print('p>q>r is', p>q>r)\n",
    "print('p<q<r is', p<q<r)\n",
    "print('(p<q) and (p<r) is',(p<q) and (p<r))\n",
    "print('(p<q) or (p<r) is',(p<q) or (p<r))"
   ]
  },
  {
   "cell_type": "code",
   "execution_count": 24,
   "metadata": {},
   "outputs": [
    {
     "name": "stdout",
     "output_type": "stream",
     "text": [
      "Enter the numbers: 2\n",
      "4\n"
     ]
    }
   ],
   "source": [
    "num = eval(input('Enter the numbers: '))\n",
    "if num>0: num=num*num\n",
    "print(num)"
   ]
  },
  {
   "cell_type": "code",
   "execution_count": 25,
   "metadata": {},
   "outputs": [
    {
     "name": "stdout",
     "output_type": "stream",
     "text": [
      "Enter the numbers: 1\n",
      "Enter the numbers: 2\n",
      "2 is Greater than 1\n"
     ]
    }
   ],
   "source": [
    "n1 = eval(input('Enter the numbers: '))\n",
    "n2 = eval(input('Enter the numbers: '))\n",
    "if n1>n2:\n",
    "    print(n1,'is Greater than',n2)\n",
    "else:\n",
    "    print(n2,'is Greater than',n1)"
   ]
  },
  {
   "cell_type": "code",
   "execution_count": 33,
   "metadata": {},
   "outputs": [
    {
     "name": "stdout",
     "output_type": "stream",
     "text": [
      "Enter the three numbers seperated by commas: 4,6,1\n",
      "6 is greater than 4 1\n"
     ]
    }
   ],
   "source": [
    "num1, num2, num3 = eval(input('Enter the three numbers seperated by commas: '))\n",
    "if num1>num2:\n",
    "    if num2>num3:\n",
    "        print(num1, 'is greater than', num2, num3)\n",
    "else:\n",
    "    if num2>num1:\n",
    "        if num2>num3:\n",
    "            print(num2, 'is greater than', num1, num3)\n",
    "        else:\n",
    "            print(num3, 'is greater than', num2, num1)"
   ]
  },
  {
   "cell_type": "code",
   "execution_count": 36,
   "metadata": {},
   "outputs": [
    {
     "name": "stdout",
     "output_type": "stream",
     "text": [
      "Enter the 4 subjects marks seperated by commas: 60,61,59,59\n",
      "Result Failed\n"
     ]
    }
   ],
   "source": [
    "sub1, sub2, sub3, sub4=eval(input('Enter the 4 subjects marks seperated by commas: '))\n",
    "per=((sub1+ sub2+ sub3+ sub4)/400)*100\n",
    "if per>=90:\n",
    "    print('Passed in Distiction with', format(per,'0.1f'),'%')\n",
    "elif per>=80:\n",
    "    print('Passed in First Class with', format(per,'0.1f'),'%')\n",
    "elif per>=70:\n",
    "    print('Passed in Second Class with', format(per,'0.1f'),'%')\n",
    "elif per>=60:\n",
    "    print('Passed in Third Class with', format(per,'0.1f'),'%')\n",
    "else:\n",
    "    print('Result Failed')"
   ]
  },
  {
   "cell_type": "markdown",
   "metadata": {},
   "source": [
    "### Conditional Expression"
   ]
  },
  {
   "cell_type": "code",
   "execution_count": 37,
   "metadata": {},
   "outputs": [
    {
     "name": "stdout",
     "output_type": "stream",
     "text": [
      "Enter the number: 4\n",
      "16\n"
     ]
    }
   ],
   "source": [
    "x = eval(input('Enter the number: '))\n",
    "x = (x**2) if x%2==0 else (x**3)\n",
    "print(x)"
   ]
  },
  {
   "cell_type": "code",
   "execution_count": 42,
   "metadata": {},
   "outputs": [
    {
     "name": "stdout",
     "output_type": "stream",
     "text": [
      "5\n"
     ]
    }
   ],
   "source": [
    "x=0\n",
    "y=0\n",
    "if x>0:\n",
    "    y=y+1\n",
    "else:\n",
    "    if x<0:\n",
    "        y=y+2\n",
    "    else:\n",
    "        y=y+5\n",
    "print(y)"
   ]
  },
  {
   "cell_type": "code",
   "execution_count": 43,
   "metadata": {},
   "outputs": [
    {
     "name": "stdout",
     "output_type": "stream",
     "text": [
      "1 0\n"
     ]
    }
   ],
   "source": [
    "p=int(True)\n",
    "q=int(False)\n",
    "print(p,q)"
   ]
  },
  {
   "cell_type": "code",
   "execution_count": 48,
   "metadata": {},
   "outputs": [
    {
     "name": "stdout",
     "output_type": "stream",
     "text": [
      "Enter how many minutes you browsed in minutes: 61\n",
      "your browsing bill is 100 rupees\n"
     ]
    }
   ],
   "source": [
    "timing = int(input('Enter how many minutes you browsed in minutes: '))\n",
    "if timing<=30:\n",
    "    print('your browsing bill is 10 rupees')\n",
    "elif timing<=60:\n",
    "    print('your browsing bill is 20 rupees')\n",
    "else:\n",
    "    print('your browsing bill is 100 rupees')"
   ]
  },
  {
   "cell_type": "code",
   "execution_count": 58,
   "metadata": {},
   "outputs": [
    {
     "name": "stdout",
     "output_type": "stream",
     "text": [
      "Enter the Temp and Humidity seperated by commas: Wrm\n",
      "Enter the Temp and Humidity seperated by commas: Dry\n",
      "You can Swim\n"
     ]
    }
   ],
   "source": [
    "    Warm=0\n",
    "    Dry=0\n",
    "    Temp = input('Enter the Temp and Humidity seperated by commas: ')\n",
    "    Humidity = input('Enter the Temp and Humidity seperated by commas: ')\n",
    "    if Temp==Warm:\n",
    "        if Humidity==Dry:\n",
    "            print('You can play Basketball')\n",
    "        else:\n",
    "            print('You can play Tennis')\n",
    "    else:\n",
    "        if Humidity==Dry:\n",
    "            print('You can play Cricket')\n",
    "        else:\n",
    "            print('You can Swim')"
   ]
  },
  {
   "cell_type": "code",
   "execution_count": 69,
   "metadata": {},
   "outputs": [
    {
     "name": "stdout",
     "output_type": "stream",
     "text": [
      "Enter the number: 5\n",
      "Square of the number is:  25\n"
     ]
    }
   ],
   "source": [
    "num = int(input('Enter the number: '))\n",
    "if num%10==5:\n",
    "    print('Square of the number is: ',num**2)\n",
    "    "
   ]
  },
  {
   "cell_type": "code",
   "execution_count": 76,
   "metadata": {},
   "outputs": [
    {
     "name": "stdout",
     "output_type": "stream",
     "text": [
      "Enter your Age: 21\n",
      "You are not eligigible\n"
     ]
    }
   ],
   "source": [
    "age = int(input('Enter your Age: '))\n",
    "if age>=15 and age<=18:\n",
    "    print('You are eligible')\n",
    "else:\n",
    "    print('You are not eligible')"
   ]
  },
  {
   "cell_type": "markdown",
   "metadata": {},
   "source": [
    "## Exercise"
   ]
  },
  {
   "cell_type": "code",
   "execution_count": 20,
   "metadata": {},
   "outputs": [
    {
     "name": "stdout",
     "output_type": "stream",
     "text": [
      "Enter the year2004\n",
      "2004 is a leap year\n"
     ]
    }
   ],
   "source": [
    "year = int(input('Enter the year'))\n",
    "if year%4 == 0:\n",
    "    print(year, 'is a leap year')\n",
    "else:\n",
    "    print(year, 'is not a leap year')\n"
   ]
  },
  {
   "cell_type": "code",
   "execution_count": 35,
   "metadata": {},
   "outputs": [
    {
     "name": "stdout",
     "output_type": "stream",
     "text": [
      "Enter the time spent in hour: 1.5\n",
      "Browsing charge is 100\n"
     ]
    }
   ],
   "source": [
    "hr = round(eval(input('Enter the time spent in hour: ')))\n",
    "\n",
    "if hr <= 0.5:\n",
    "    print('Browsing charge is 10')\n",
    "elif hr == 1:\n",
    "    print('Browsing charge is 20')\n",
    "else:\n",
    "    print('Browsing charge is 100')"
   ]
  },
  {
   "cell_type": "code",
   "execution_count": 38,
   "metadata": {},
   "outputs": [
    {
     "name": "stdout",
     "output_type": "stream",
     "text": [
      "Enter the time spent in hour: 2\n",
      "Least significant bit is not end with digit five\n"
     ]
    }
   ],
   "source": [
    "num3 = (eval(input('Enter the digit: ')))\n",
    "\n",
    "if num3 % 5 == 0:\n",
    "    print(num3**2)\n",
    "else:\n",
    "    print('Least significant bit is not end with digit five')"
   ]
  },
  {
   "cell_type": "code",
   "execution_count": 43,
   "metadata": {},
   "outputs": [
    {
     "name": "stdout",
     "output_type": "stream",
     "text": [
      "Enter your age: 18.9\n",
      "you are eligible for under 19 cricket club\n"
     ]
    }
   ],
   "source": [
    "age = round(eval(input('Enter your age: ')))\n",
    "\n",
    "if age >15 and age<=19:\n",
    "    print('you are eligible for under 19 cricket club')\n",
    "else:\n",
    "    print('you are not eligible')"
   ]
  },
  {
   "cell_type": "code",
   "execution_count": 45,
   "metadata": {},
   "outputs": [
    {
     "name": "stdout",
     "output_type": "stream",
     "text": [
      "Is that temp is warm or cold: cold\n",
      "Is that humudity is dry or humid: humid\n",
      "Swim today\n"
     ]
    }
   ],
   "source": [
    "temp = input('Is that temp is warm or cold: ')\n",
    "humudity = input('Is that humudity is dry or humid: ')\n",
    "\n",
    "if temp == 'warm' and humudity == 'dry':\n",
    "    print(' Play Basketball')\n",
    "elif temp == 'warm' and humudity == 'humid':\n",
    "    print(' Play Tesnnis')\n",
    "elif temp == 'cold' and humudity == 'dry':\n",
    "    print(' Play Cricket')\n",
    "elif temp == 'cold' and humudity == 'humid':\n",
    "    print('Swim today')"
   ]
  },
  {
   "cell_type": "code",
   "execution_count": null,
   "metadata": {},
   "outputs": [],
   "source": []
  }
 ],
 "metadata": {
  "kernelspec": {
   "display_name": "Python 3",
   "language": "python",
   "name": "python3"
  },
  "language_info": {
   "codemirror_mode": {
    "name": "ipython",
    "version": 3
   },
   "file_extension": ".py",
   "mimetype": "text/x-python",
   "name": "python",
   "nbconvert_exporter": "python",
   "pygments_lexer": "ipython3",
   "version": "3.8.3"
  }
 },
 "nbformat": 4,
 "nbformat_minor": 4
}
