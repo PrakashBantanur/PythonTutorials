{
 "cells": [
  {
   "cell_type": "code",
   "execution_count": 13,
   "metadata": {},
   "outputs": [
    {
     "data": {
      "text/plain": [
       "module"
      ]
     },
     "execution_count": 13,
     "metadata": {},
     "output_type": "execute_result"
    }
   ],
   "source": [
    "import life\n",
    "type(life)"
   ]
  },
  {
   "cell_type": "code",
   "execution_count": 14,
   "metadata": {},
   "outputs": [
    {
     "data": {
      "text/plain": [
       "42"
      ]
     },
     "execution_count": 14,
     "metadata": {},
     "output_type": "execute_result"
    }
   ],
   "source": [
    "life.myAnswer"
   ]
  },
  {
   "cell_type": "code",
   "execution_count": 15,
   "metadata": {},
   "outputs": [],
   "source": [
    "def get_milk():\n",
    "    print('Open the door')\n",
    "    print('Go to shop')\n",
    "    print('Get a milk packet')"
   ]
  },
  {
   "cell_type": "code",
   "execution_count": 16,
   "metadata": {},
   "outputs": [
    {
     "name": "stdout",
     "output_type": "stream",
     "text": [
      "Open the door\n",
      "Go to shop\n",
      "Get a milk packet\n"
     ]
    }
   ],
   "source": [
    "get_milk()"
   ]
  },
  {
   "cell_type": "code",
   "execution_count": 17,
   "metadata": {},
   "outputs": [],
   "source": [
    "def fill_the_fridge(amount):\n",
    "    print('Open the door')\n",
    "    print('Go to shop')\n",
    "    print('Get a milk packet of ' + amount + ' bottle')"
   ]
  },
  {
   "cell_type": "code",
   "execution_count": 18,
   "metadata": {},
   "outputs": [
    {
     "name": "stdout",
     "output_type": "stream",
     "text": [
      "Open the door\n",
      "Go to shop\n",
      "Get a milk packet of 5 bottle\n"
     ]
    }
   ],
   "source": [
    "fill_the_fridge('5')"
   ]
  },
  {
   "cell_type": "code",
   "execution_count": 19,
   "metadata": {},
   "outputs": [],
   "source": [
    "def milk_mission(amount, destination):\n",
    "    print('Open the door')\n",
    "    print('Go to shop at '+ destination )\n",
    "    print('Get a milk packet of ' + amount + ' bottle')"
   ]
  },
  {
   "cell_type": "code",
   "execution_count": 20,
   "metadata": {},
   "outputs": [
    {
     "name": "stdout",
     "output_type": "stream",
     "text": [
      "Open the door\n",
      "Go to shop at Vijanagar\n",
      "Get a milk packet of 5 bottle\n"
     ]
    }
   ],
   "source": [
    "milk_mission('5', 'Vijanagar')"
   ]
  },
  {
   "cell_type": "code",
   "execution_count": 21,
   "metadata": {},
   "outputs": [
    {
     "name": "stdout",
     "output_type": "stream",
     "text": [
      "Open the door\n",
      "Go to shop at 5\n",
      "Get a milk packet of Vijanagar bottle\n"
     ]
    }
   ],
   "source": [
    "milk_mission('Vijanagar', '5')"
   ]
  },
  {
   "cell_type": "code",
   "execution_count": 22,
   "metadata": {},
   "outputs": [
    {
     "name": "stdout",
     "output_type": "stream",
     "text": [
      "Open the door\n",
      "Go to shop at Vijanagar\n",
      "Get a milk packet of 5 bottle\n"
     ]
    }
   ],
   "source": [
    "milk_mission(destination='Vijanagar', amount='5')"
   ]
  },
  {
   "cell_type": "code",
   "execution_count": 23,
   "metadata": {},
   "outputs": [
    {
     "name": "stdout",
     "output_type": "stream",
     "text": [
      "Open the door\n",
      "Go to shop at Vijanagar\n",
      "Get a milk packet of 5 bottle\n"
     ]
    }
   ],
   "source": [
    "milk_mission('5', destination='Vijanagar')"
   ]
  },
  {
   "cell_type": "code",
   "execution_count": 24,
   "metadata": {},
   "outputs": [],
   "source": [
    "def times(a, b):\n",
    "    #result = a*b\n",
    "    return a*b"
   ]
  },
  {
   "cell_type": "code",
   "execution_count": 25,
   "metadata": {},
   "outputs": [
    {
     "name": "stdout",
     "output_type": "stream",
     "text": [
      "15.504\n"
     ]
    }
   ],
   "source": [
    "test = times(5.1, 3.04)\n",
    "print(test)"
   ]
  },
  {
   "cell_type": "code",
   "execution_count": 26,
   "metadata": {},
   "outputs": [
    {
     "data": {
      "text/plain": [
       "'NiNiNiNiNi'"
      ]
     },
     "execution_count": 26,
     "metadata": {},
     "output_type": "execute_result"
    }
   ],
   "source": [
    "times('Ni', 5)"
   ]
  },
  {
   "cell_type": "code",
   "execution_count": 27,
   "metadata": {},
   "outputs": [
    {
     "name": "stdout",
     "output_type": "stream",
     "text": [
      "The Zen of Python, by Tim Peters\n",
      "\n",
      "Beautiful is better than ugly.\n",
      "Explicit is better than implicit.\n",
      "Simple is better than complex.\n",
      "Complex is better than complicated.\n",
      "Flat is better than nested.\n",
      "Sparse is better than dense.\n",
      "Readability counts.\n",
      "Special cases aren't special enough to break the rules.\n",
      "Although practicality beats purity.\n",
      "Errors should never pass silently.\n",
      "Unless explicitly silenced.\n",
      "In the face of ambiguity, refuse the temptation to guess.\n",
      "There should be one-- and preferably only one --obvious way to do it.\n",
      "Although that way may not be obvious at first unless you're Dutch.\n",
      "Now is better than never.\n",
      "Although never is often better than *right* now.\n",
      "If the implementation is hard to explain, it's a bad idea.\n",
      "If the implementation is easy to explain, it may be a good idea.\n",
      "Namespaces are one honking great idea -- let's do more of those!\n"
     ]
    }
   ],
   "source": [
    "import this"
   ]
  },
  {
   "cell_type": "code",
   "execution_count": 28,
   "metadata": {},
   "outputs": [],
   "source": [
    "def sum(x, y):\n",
    "    s=0;\n",
    "    for i in range (x, y+1):\n",
    "        s=s+i\n",
    "    print('Sum of the integers from ',x,' to ',y,' is ',s)"
   ]
  },
  {
   "cell_type": "code",
   "execution_count": 29,
   "metadata": {},
   "outputs": [
    {
     "name": "stdout",
     "output_type": "stream",
     "text": [
      "Sum of the integers from  2  to  5  is  14\n"
     ]
    }
   ],
   "source": [
    "sum(2, 5)"
   ]
  },
  {
   "cell_type": "markdown",
   "metadata": {},
   "source": [
    "# 2. Basics of Python Programming"
   ]
  },
  {
   "cell_type": "code",
   "execution_count": 1,
   "metadata": {},
   "outputs": [
    {
     "name": "stdout",
     "output_type": "stream",
     "text": [
      "p is 55 and q is 2 so numbers are swapped\n",
      "l is 30 and m is 20 so numbers are swapped\n"
     ]
    }
   ],
   "source": [
    "# swap the content\n",
    "\n",
    "p = 2\n",
    "q = 55\n",
    "temp = p\n",
    "p = q\n",
    "q = temp\n",
    "print('p is',p, 'and q is',q, 'so numbers are swapped')\n",
    "\n",
    "\n",
    "# Similerly \n",
    "\n",
    "\n",
    "l = 20\n",
    "m = 30\n",
    "l, m = m, l\n",
    "print('l is',l, 'and m is',m, 'so numbers are swapped')"
   ]
  },
  {
   "cell_type": "code",
   "execution_count": 31,
   "metadata": {},
   "outputs": [
    {
     "name": "stdout",
     "output_type": "stream",
     "text": [
      "Area of the Rectangle is 2480\n"
     ]
    }
   ],
   "source": [
    "length = 40 #input('Enter the lenght:')\n",
    "breadth = 62 #input('Enter the breadth:')\n",
    "area = length * breadth\n",
    "print('Area of the Rectangle is', area)"
   ]
  },
  {
   "cell_type": "code",
   "execution_count": 32,
   "metadata": {},
   "outputs": [
    {
     "name": "stdout",
     "output_type": "stream",
     "text": [
      "Enter the number:5\n",
      "Entered number is: 5\n",
      "Type of X is <class 'str'>\n"
     ]
    }
   ],
   "source": [
    "# input function produces a only STRING \n",
    "\n",
    "X = input('Enter the number:')\n",
    "print('Entered number is:', X)\n",
    "print('Type of X is', type(X))"
   ]
  },
  {
   "cell_type": "code",
   "execution_count": 33,
   "metadata": {},
   "outputs": [
    {
     "name": "stdout",
     "output_type": "stream",
     "text": [
      "Enter the number:5\n",
      "Entered number is: 5\n",
      "Type of X is <class 'int'>\n"
     ]
    }
   ],
   "source": [
    "X = input('Enter the number:')\n",
    "num1 = int(X)\n",
    "print('Entered number is:', num1)\n",
    "print('Type of X is', type(num1))"
   ]
  },
  {
   "cell_type": "code",
   "execution_count": 35,
   "metadata": {},
   "outputs": [
    {
     "name": "stdout",
     "output_type": "stream",
     "text": [
      "Enter the lenght: 2.2\n",
      "Enter the breadth: 1.2\n",
      "Area of the Rectangle is 2.64\n"
     ]
    }
   ],
   "source": [
    "# Area of the Rectangle using user inputs\n",
    "\n",
    "length = float(input('Enter the lenght: '))\n",
    "breadth = float(input('Enter the breadth: '))\n",
    "area = length * breadth\n",
    "print('Area of the Rectangle is', area)"
   ]
  },
  {
   "cell_type": "code",
   "execution_count": 36,
   "metadata": {},
   "outputs": [
    {
     "name": "stdout",
     "output_type": "stream",
     "text": [
      "Enter the radius of the Circle: 2.2\n",
      "Radius:  2.2\n",
      "Area of the circle is 15.21\n"
     ]
    }
   ],
   "source": [
    "# Area of the Circle using user input Radius\n",
    "\n",
    "radius = float(input('Enter the radius of the Circle: '))\n",
    "print('Radius: ', radius)\n",
    "pi = 3.142\n",
    "area = pi*radius*radius\n",
    "print('Area of the circle is',format(area, '0.2f'))"
   ]
  },
  {
   "cell_type": "code",
   "execution_count": 7,
   "metadata": {},
   "outputs": [
    {
     "name": "stdout",
     "output_type": "stream",
     "text": [
      "3.142\n",
      "3.00\n",
      "3.14\n",
      "3.14\n",
      "                  14\n",
      "2\n",
      "4\n",
      "54\n",
      "8\n",
      "3\n",
      "4\n"
     ]
    }
   ],
   "source": [
    "print(format(3.142, '0.3f')) # Right Justification\n",
    "print(format(3, '0.2f'))\n",
    "print(format(3.142154, '0.2f'))\n",
    "print(format(3.142154, '<0.2f')) #Left Justification\n",
    "print(format(20, '20x')) # Left Justified Hexadecimal integer\n",
    "print(abs(-2))\n",
    "print(abs(4))\n",
    "print(max(10, 20, 54, 30))\n",
    "print(pow(2, 3))\n",
    "print(round(3.14))\n",
    "print(round(3.5412))"
   ]
  },
  {
   "cell_type": "code",
   "execution_count": 40,
   "metadata": {},
   "outputs": [
    {
     "data": {
      "text/plain": [
       "4"
      ]
     },
     "execution_count": 40,
     "metadata": {},
     "output_type": "execute_result"
    }
   ],
   "source": [
    "round(1.5)-round(-1.5)"
   ]
  },
  {
   "cell_type": "code",
   "execution_count": 41,
   "metadata": {},
   "outputs": [
    {
     "name": "stdout",
     "output_type": "stream",
     "text": [
      "Enter the Principle Amount: 25\n",
      "Enter the Number of years: 24\n",
      "Enter the Rate of Interest: 42\n",
      "----------------------\n",
      "Principle Amount:  25\n",
      "Number of years:  24\n",
      "Rate of Interest:  42\n",
      "Simple interest is:  252.000\n"
     ]
    }
   ],
   "source": [
    "P = eval(input('Enter the Principle Amount: '))\n",
    "Time = eval(input('Enter the Number of years: '))\n",
    "ROI = eval(input('Enter the Rate of Interest: '))\n",
    "\n",
    "print('----------------------')\n",
    "print('Principle Amount: ',P)\n",
    "print('Number of years: ',Time)\n",
    "print('Rate of Interest: ',ROI)\n",
    "\n",
    "SI = P*Time*ROI/100\n",
    "print('Simple interest is: ',format(SI, '0.3f'))"
   ]
  },
  {
   "cell_type": "code",
   "execution_count": 42,
   "metadata": {},
   "outputs": [],
   "source": [
    "## How Modulo (%) works\n",
    "\n",
    "### X%Y = X - Y(X//Y)\n",
    "#### 8 % 5 = 8 - 5(8//5)\n",
    "#### 8 - 5*1\n",
    "#### 8 - 5\n",
    "#### 3\n",
    "\n",
    "#### 5 % 8 = 5 - 8(5//8)\n",
    "#### 5 - 8*0\n",
    "#### 5 - 0\n",
    "#### 5"
   ]
  },
  {
   "cell_type": "code",
   "execution_count": 43,
   "metadata": {},
   "outputs": [
    {
     "name": "stdout",
     "output_type": "stream",
     "text": [
      "Enter the four digit number: 5\n",
      "Entered number is: 5\n",
      "5 0\n"
     ]
    }
   ],
   "source": [
    "num = eval(input('Enter the four digit number: '))\n",
    "print('Entered number is:',num)\n",
    "r1 = num%10\n",
    "q1 = num//10\n",
    "print(r1, q1)"
   ]
  },
  {
   "cell_type": "code",
   "execution_count": 2,
   "metadata": {},
   "outputs": [
    {
     "name": "stdout",
     "output_type": "stream",
     "text": [
      "Enter the four digit number: 5412\n",
      "Entered number is: 5412\n",
      "Reversed number of 5412 is:  2 1 4 5\n"
     ]
    }
   ],
   "source": [
    "# Programme to Reverse the number\n",
    "\n",
    "num = eval(input('Enter the four digit number: '))\n",
    "print('Entered number is:',num)\n",
    "r1 = num%10\n",
    "q1 = num//10\n",
    "r2 = q1%10\n",
    "q2 = q1//10\n",
    "r3 = q2%10\n",
    "q3 = q2//10\n",
    "r4 = q3%10\n",
    "print('Reversed number of',num, 'is: ', r1,r2,r3,r4)"
   ]
  },
  {
   "cell_type": "code",
   "execution_count": 3,
   "metadata": {},
   "outputs": [
    {
     "name": "stdout",
     "output_type": "stream",
     "text": [
      "Enter the three numbers by comma seperated: 5, 4, 8\n",
      "P = 5 q = 4 r= 8\n",
      "p>q>r False\n",
      "p<q<r False\n",
      "p>q and q>r False\n",
      "p>q or q>r True\n"
     ]
    }
   ],
   "source": [
    "# Find the condition between in a given input\n",
    "\n",
    "p, q, r = eval(input('Enter the three numbers by comma seperated: '))\n",
    "print('P =',p,'q =',q,'r=',r)\n",
    "print('p>q>r', p>q>r)\n",
    "print('p<q<r', p<q<r)\n",
    "print('p>q and q>r', p>q and q>r)\n",
    "print('p>q or q>r', p>q or q>r)"
   ]
  },
  {
   "cell_type": "code",
   "execution_count": null,
   "metadata": {},
   "outputs": [],
   "source": [
    "# Find the classes of depending on the percentages\n",
    "\n",
    "sub1 = eval(input('Enter the Physics score: '))\n",
    "sub2 = eval(input('Enter the Chemistry score: '))\n",
    "sub3 = eval(input('Enter the Math\\'s score: '))\n",
    "sub4 = eval(input('Enter the Biology score: '))\n",
    "\n",
    "print('------------------------------------------------------')\n",
    "print('Physics:',sub1, 'Chemistry:',sub2, 'Math\\'s:',sub3, 'Biology:',sub4)\n",
    "result = (sub1+sub2+sub3+sub4)/400\n",
    "\n",
    "if result>=90:\n",
    "    print('Distinction')\n",
    "else:\n",
    "    if result>=80:\n",
    "        print('First Class')\n",
    "    else:\n",
    "        if result>=70:\n",
    "            print('Second Class')\n",
    "        else:\n",
    "            print('Fail!!')\n",
    "    \n"
   ]
  },
  {
   "cell_type": "code",
   "execution_count": null,
   "metadata": {},
   "outputs": [],
   "source": [
    "p=int(True)\n",
    "q=int(False)\n",
    "print('p=',p, 'q=',q)"
   ]
  },
  {
   "cell_type": "code",
   "execution_count": null,
   "metadata": {},
   "outputs": [],
   "source": [
    "# WHILE loop\n",
    "\n",
    "count=0\n",
    "\n",
    "while count<=5:\n",
    "    print('Count= ', count)\n",
    "    count = count+1"
   ]
  },
  {
   "cell_type": "code",
   "execution_count": null,
   "metadata": {},
   "outputs": [],
   "source": [
    "count = 0\n",
    "add = 0\n",
    "\n",
    "num=eval(input('Enter the number to add consicative numbers from 0: '))\n",
    "\n",
    "while count<=num:\n",
    "    add = add+count\n",
    "    count=count+1\n",
    "print('Sum of the numbers from o to',num,'is',add)"
   ]
  },
  {
   "cell_type": "code",
   "execution_count": null,
   "metadata": {},
   "outputs": [],
   "source": [
    "\n",
    "\n",
    "add = 0\n",
    "\n",
    "num1, num2=eval(input('Enter the number to add consicative numbers from 0: '))\n",
    "\n",
    "firstNum=num1\n",
    "\n",
    "while num1<=num2:\n",
    "    add = add+num1\n",
    "    num1=num1+1\n",
    "print('Sum of the numbers between',firstNum,'and',num2,'is',add)"
   ]
  },
  {
   "cell_type": "code",
   "execution_count": null,
   "metadata": {},
   "outputs": [],
   "source": [
    "count = 1\n",
    "sum = 0\n",
    "while count<=20:\n",
    "    if count % 5 == 0:\n",
    "        sum = sum + count\n",
    "    count += 1\n",
    "print('Sum of the numbers divisible by five within 20 is: ', sum)"
   ]
  },
  {
   "cell_type": "code",
   "execution_count": null,
   "metadata": {},
   "outputs": [],
   "source": [
    "num = eval(input('Enter the number for factorial value: '))\n",
    "fact = 1\n",
    "result=1\n",
    "\n",
    "while fact<=num:\n",
    "    result = fact * result\n",
    "    fact = fact + 1\n",
    "print('The factorial number is: ',result)"
   ]
  },
  {
   "cell_type": "code",
   "execution_count": 11,
   "metadata": {},
   "outputs": [
    {
     "name": "stdout",
     "output_type": "stream",
     "text": [
      "[0, 1, 2, 3, 4]\n",
      "<class 'list'>\n",
      "[1, 2, 3, 4]\n",
      "[2, 4, 6, 8, 10, 12, 14, 16, 18]\n",
      "[0, 1, 2, 3, 4]\n"
     ]
    }
   ],
   "source": [
    "l1 = list(range(5))\n",
    "print(l1)\n",
    "print(type(l1))\n",
    "l2 = list(range(1, 5))\n",
    "print(l2)\n",
    "l3 = list(range(2, 20, 2))\n",
    "print(l3)\n"
   ]
  },
  {
   "cell_type": "code",
   "execution_count": 12,
   "metadata": {},
   "outputs": [
    {
     "name": "stdout",
     "output_type": "stream",
     "text": [
      "Enter the Number for Trianguler values: 4\n",
      "Triangluer Number is:  10\n"
     ]
    }
   ],
   "source": [
    "# Summation OR Trianguler number\n",
    "\n",
    "sum = 0\n",
    "num = eval(input('Enter the Number for Trianguler values: '))\n",
    "for i in range (num, 0, -1):\n",
    "    sum = sum + i\n",
    "print('Triangluer Number is: ',sum)\n"
   ]
  },
  {
   "cell_type": "code",
   "execution_count": 15,
   "metadata": {},
   "outputs": [
    {
     "name": "stdout",
     "output_type": "stream",
     "text": [
      "Enter the 1st Number: 2\n",
      "Enter the 2nd Number: 5\n",
      "Enter the Fibonacci number needs to be print: 2\n",
      "7 12 "
     ]
    }
   ],
   "source": [
    "# Fibonacci Number\n",
    "sum=0\n",
    "num1 = int(input('Enter the 1st Number: '))\n",
    "num2 = int(input('Enter the 2nd Number: '))\n",
    "limit = int(input('Enter the Fibonacci number needs to be print: '))\n",
    "for i in range(limit):\n",
    "    \n",
    "    sum = num1+num2\n",
    "    num1 = num2\n",
    "    num2 = sum\n",
    "    \n",
    "    print(sum, end=' ')"
   ]
  },
  {
   "cell_type": "code",
   "execution_count": 13,
   "metadata": {},
   "outputs": [
    {
     "name": "stdout",
     "output_type": "stream",
     "text": [
      "i= 1 j= 1 i+j= 2\n",
      "i= 1 j= 2 i+j= 3\n",
      "i= 1 j= 3 i+j= 4\n",
      "i= 2 j= 1 i+j= 3\n",
      "i= 2 j= 2 i+j= 4\n",
      "i= 2 j= 3 i+j= 5\n",
      "i= 3 j= 1 i+j= 4\n",
      "i= 3 j= 2 i+j= 5\n",
      "i= 3 j= 3 i+j= 6\n",
      "End of program!\n"
     ]
    }
   ],
   "source": [
    "# Nested Loops\n",
    "\n",
    "for i in range (1, 4, 1):\n",
    "    for j in range (1, 4, 1):\n",
    "        print('i=',i , 'j=',j , 'i+j=', i+j)\n",
    "print('End of program!')"
   ]
  },
  {
   "cell_type": "code",
   "execution_count": null,
   "metadata": {},
   "outputs": [],
   "source": [
    "for i in range (1, 6):\n",
    "    for j in range (1, 11):\n",
    "        print(i,'*',j , '=', i*j)\n",
    "print('End of program!')"
   ]
  },
  {
   "cell_type": "code",
   "execution_count": null,
   "metadata": {},
   "outputs": [],
   "source": [
    "# Multplication table from 1 to 5\n",
    "\n",
    "print('Multplication table from 1 to 5')\n",
    "for i in range (1, 11):\n",
    "    for j in range (1, 6):\n",
    "        print(format(i*j, '10d'), end='')\n",
    "    print()"
   ]
  },
  {
   "cell_type": "code",
   "execution_count": null,
   "metadata": {},
   "outputs": [],
   "source": [
    "num = 9\n",
    "\n",
    "for i in range(1, 10, 1):\n",
    "    num=num-1\n",
    "    for j in range (1, num, 1):\n",
    "        print('*', end=' ')\n",
    "        x=num-1\n",
    "    print()"
   ]
  },
  {
   "cell_type": "code",
   "execution_count": null,
   "metadata": {},
   "outputs": [],
   "source": [
    "num = 9\n",
    "\n",
    "while i<=num:\n",
    "    print('*', end=' ')\n",
    "    num =num-1\n",
    "print()"
   ]
  },
  {
   "cell_type": "code",
   "execution_count": null,
   "metadata": {},
   "outputs": [],
   "source": [
    "# List\n",
    "\n",
    "l = [1, 3, 50, 'Try']\n",
    "print(l)\n",
    "l.append(40)\n",
    "print(l)\n",
    "l[0] = 5\n",
    "print(l)\n",
    "l.remove(40)\n",
    "print(l)\n",
    "\n",
    "s={}\n",
    "print(type(s))"
   ]
  },
  {
   "cell_type": "code",
   "execution_count": 57,
   "metadata": {},
   "outputs": [],
   "source": [
    "my_arr = np.arange(1000000)\n",
    "my_list = list(range(1000000))"
   ]
  },
  {
   "cell_type": "code",
   "execution_count": 56,
   "metadata": {},
   "outputs": [
    {
     "name": "stdout",
     "output_type": "stream",
     "text": [
      "Wall time: 30.2 ms\n"
     ]
    }
   ],
   "source": [
    "%time for _ in range(10): my_arr2 = my_arr * 2"
   ]
  },
  {
   "cell_type": "code",
   "execution_count": 58,
   "metadata": {},
   "outputs": [
    {
     "name": "stdout",
     "output_type": "stream",
     "text": [
      "Wall time: 1.81 s\n"
     ]
    }
   ],
   "source": [
    "%time for _ in range(10): my_list2 = [x * 2 for x in my_list]"
   ]
  },
  {
   "cell_type": "code",
   "execution_count": 6,
   "metadata": {},
   "outputs": [
    {
     "data": {
      "text/plain": [
       "float"
      ]
     },
     "execution_count": 6,
     "metadata": {},
     "output_type": "execute_result"
    }
   ],
   "source": [
    "d=type(1.25)"
   ]
  },
  {
   "cell_type": "code",
   "execution_count": 8,
   "metadata": {},
   "outputs": [],
   "source": [
    "e=str('d')"
   ]
  },
  {
   "cell_type": "code",
   "execution_count": 9,
   "metadata": {},
   "outputs": [
    {
     "data": {
      "text/plain": [
       "str"
      ]
     },
     "execution_count": 9,
     "metadata": {},
     "output_type": "execute_result"
    }
   ],
   "source": [
    "type(e)"
   ]
  },
  {
   "cell_type": "code",
   "execution_count": 14,
   "metadata": {},
   "outputs": [
    {
     "name": "stdout",
     "output_type": "stream",
     "text": [
      "Hello World, Good bye\n"
     ]
    }
   ],
   "source": [
    "print('Hello', end=' ')\n",
    "print('World,', end=' ')\n",
    "print('Good bye')"
   ]
  },
  {
   "cell_type": "code",
   "execution_count": 23,
   "metadata": {},
   "outputs": [
    {
     "data": {
      "text/plain": [
       "20"
      ]
     },
     "execution_count": 23,
     "metadata": {},
     "output_type": "execute_result"
    }
   ],
   "source": [
    "p=20\n",
    "q=30\n",
    "p, q = q, p\n"
   ]
  },
  {
   "cell_type": "code",
   "execution_count": 28,
   "metadata": {},
   "outputs": [
    {
     "name": "stdout",
     "output_type": "stream",
     "text": [
      "length = 30 and breadth = 60 then area of the rectangle is 1800\n"
     ]
    }
   ],
   "source": [
    "lenght=30\n",
    "breadth=60\n",
    "area=lenght*breadth\n",
    "print('length =',lenght, 'and breadth =',breadth, 'then area of the rectangle is', area)\n"
   ]
  },
  {
   "cell_type": "code",
   "execution_count": 31,
   "metadata": {},
   "outputs": [
    {
     "name": "stdout",
     "output_type": "stream",
     "text": [
      "Please enter the number= 30\n",
      "<class 'str'>\n",
      "<class 'int'>\n"
     ]
    }
   ],
   "source": [
    "x=input('Please enter the number= ')\n",
    "print(type(x))\n",
    "x=int(x)\n",
    "print(type(x))"
   ]
  },
  {
   "cell_type": "code",
   "execution_count": 32,
   "metadata": {},
   "outputs": [
    {
     "name": "stdout",
     "output_type": "stream",
     "text": [
      "Enter the lenght20\n",
      "Enter the Breadth30\n",
      "length = 20 and breadth = 30 then area of the rectangle is 600\n"
     ]
    },
    {
     "data": {
      "text/plain": [
       "int"
      ]
     },
     "execution_count": 32,
     "metadata": {},
     "output_type": "execute_result"
    }
   ],
   "source": [
    "lenght=int(input('Enter the lenght'))\n",
    "breadth=int(input('Enter the Breadth'))\n",
    "area=lenght*breadth\n",
    "print('length =',lenght, 'and breadth =',breadth, 'then area of the rectangle is', area)\n",
    "type(area)"
   ]
  },
  {
   "cell_type": "code",
   "execution_count": 33,
   "metadata": {},
   "outputs": [
    {
     "name": "stdout",
     "output_type": "stream",
     "text": [
      "Enter the radius= 2.5\n",
      "Area of the circle is 19.64\n"
     ]
    }
   ],
   "source": [
    "radius=eval(input('Enter the radius= '))\n",
    "pi=3.142\n",
    "area=pi*radius**2\n",
    "print('Area of the circle is', format(area, '.2f'))"
   ]
  },
  {
   "cell_type": "code",
   "execution_count": 38,
   "metadata": {},
   "outputs": [
    {
     "name": "stdout",
     "output_type": "stream",
     "text": [
      "Enter the length of the Base: 4\n",
      "Enter the length of the height: 3\n",
      "Length of the Hypotenuse is 5.00 of base length 4 and height 3\n"
     ]
    }
   ],
   "source": [
    "import math\n",
    "\n",
    "base=eval(input('Enter the length of the Base: '))\n",
    "height=eval(input('Enter the length of the height: '))\n",
    "hypo=math.sqrt(base**2+height**2)\n",
    "print('Length of the Hypotenuse is', format(hypo,'.2f'), 'of base length', base, 'and height',height)"
   ]
  },
  {
   "cell_type": "code",
   "execution_count": 49,
   "metadata": {},
   "outputs": [
    {
     "name": "stdout",
     "output_type": "stream",
     "text": [
      "Enter the number:20\n",
      "30\n"
     ]
    }
   ],
   "source": [
    "x=int(input('Enter the number:'))\n",
    "print(10+x)"
   ]
  },
  {
   "cell_type": "code",
   "execution_count": 68,
   "metadata": {},
   "outputs": [
    {
     "name": "stdout",
     "output_type": "stream",
     "text": [
      "10.325241\n"
     ]
    }
   ],
   "source": [
    "print(format(10.325241,'f'))"
   ]
  },
  {
   "cell_type": "code",
   "execution_count": 71,
   "metadata": {},
   "outputs": [
    {
     "name": "stdout",
     "output_type": "stream",
     "text": [
      "1030\n"
     ]
    }
   ],
   "source": [
    "num1='10'\n",
    "num2='30'\n",
    "sum=num1+num2\n",
    "print(sum)"
   ]
  },
  {
   "cell_type": "code",
   "execution_count": 82,
   "metadata": {},
   "outputs": [
    {
     "name": "stdout",
     "output_type": "stream",
     "text": [
      "A E "
     ]
    }
   ],
   "source": [
    "print(chr(65), end=' ')\n",
    "print(chr(69), end=' ')"
   ]
  },
  {
   "cell_type": "code",
   "execution_count": 83,
   "metadata": {},
   "outputs": [
    {
     "name": "stdout",
     "output_type": "stream",
     "text": [
      "<class 'int'>\n",
      "<class 'str'>\n"
     ]
    }
   ],
   "source": [
    "n=10\n",
    "print(type(n))\n",
    "n=str(n)\n",
    "print(type(n))"
   ]
  },
  {
   "cell_type": "code",
   "execution_count": 87,
   "metadata": {},
   "outputs": [
    {
     "data": {
      "text/plain": [
       "'B'"
      ]
     },
     "execution_count": 87,
     "metadata": {},
     "output_type": "execute_result"
    }
   ],
   "source": [
    "min('a','B','Z')"
   ]
  },
  {
   "cell_type": "markdown",
   "metadata": {},
   "source": [
    "# 3. Operators and Expressions"
   ]
  },
  {
   "cell_type": "code",
   "execution_count": 88,
   "metadata": {},
   "outputs": [
    {
     "data": {
      "text/plain": [
       "-5"
      ]
     },
     "execution_count": 88,
     "metadata": {},
     "output_type": "execute_result"
    }
   ],
   "source": [
    "-+5"
   ]
  },
  {
   "cell_type": "code",
   "execution_count": 89,
   "metadata": {},
   "outputs": [
    {
     "data": {
      "text/plain": [
       "-5"
      ]
     },
     "execution_count": 89,
     "metadata": {},
     "output_type": "execute_result"
    }
   ],
   "source": [
    "+-5"
   ]
  },
  {
   "cell_type": "code",
   "execution_count": 90,
   "metadata": {},
   "outputs": [
    {
     "data": {
      "text/plain": [
       "8"
      ]
     },
     "execution_count": 90,
     "metadata": {},
     "output_type": "execute_result"
    }
   ],
   "source": [
    "3--5"
   ]
  },
  {
   "cell_type": "code",
   "execution_count": 93,
   "metadata": {},
   "outputs": [
    {
     "name": "stdout",
     "output_type": "stream",
     "text": [
      "Enter the weight in grams: 968745\n",
      "Weight is of 968 KG 745 Grams\n"
     ]
    }
   ],
   "source": [
    "w=eval(input('Enter the weight in grams: '))\n",
    "k=w//1000\n",
    "g=w%1000\n",
    "print('Weight is of',k,'KG',g, 'Grams')"
   ]
  },
  {
   "cell_type": "code",
   "execution_count": 98,
   "metadata": {},
   "outputs": [
    {
     "name": "stdout",
     "output_type": "stream",
     "text": [
      "Enter the X1 coordinate: 1\n",
      "Enter the X2 coordinate: 2\n",
      "Enter the y1 coordinate: 3\n",
      "Enter the y2 coordinate: 4\n",
      "Distance between the points is:  1.414\n"
     ]
    }
   ],
   "source": [
    "x1=eval(input('Enter the X1 coordinate: '))\n",
    "x2=eval(input('Enter the X2 coordinate: '))\n",
    "y1=eval(input('Enter the y1 coordinate: '))\n",
    "y2=eval(input('Enter the y2 coordinate: '))\n",
    "d=((x1-x2)**2+(y1-y2)**2)**0.5\n",
    "print('Distance between the points is: ',format(d,'0.3f'))"
   ]
  },
  {
   "cell_type": "code",
   "execution_count": 102,
   "metadata": {},
   "outputs": [
    {
     "name": "stdout",
     "output_type": "stream",
     "text": [
      "Enter P value: 4\n",
      "Enter Q value: 2\n",
      "23.0\n"
     ]
    }
   ],
   "source": [
    "p=eval(input('Enter P value: '))\n",
    "q=eval(input('Enter Q value: '))\n",
    "z=((2+8*p)/2)-((p-q)*(p+q)/2)+(((p+q)/2)*4)\n",
    "print(z)"
   ]
  },
  {
   "cell_type": "code",
   "execution_count": 106,
   "metadata": {},
   "outputs": [
    {
     "name": "stdout",
     "output_type": "stream",
     "text": [
      "Enter the radius of the circle: 2\n",
      "12.57\n"
     ]
    }
   ],
   "source": [
    "r=eval(input('Enter the radius of the circle: '))\n",
    "area = 3.142*r**2\n",
    "print(format(area,'0.2f'))"
   ]
  },
  {
   "cell_type": "code",
   "execution_count": 107,
   "metadata": {},
   "outputs": [
    {
     "name": "stdout",
     "output_type": "stream",
     "text": [
      "24.0\n"
     ]
    }
   ],
   "source": [
    "print(15+20/5+3*2-1)"
   ]
  },
  {
   "cell_type": "code",
   "execution_count": 17,
   "metadata": {},
   "outputs": [
    {
     "name": "stdout",
     "output_type": "stream",
     "text": [
      "3.33\n"
     ]
    }
   ],
   "source": [
    "print(format(20/6, '0.2f'))"
   ]
  },
  {
   "cell_type": "code",
   "execution_count": 18,
   "metadata": {},
   "outputs": [
    {
     "name": "stdout",
     "output_type": "stream",
     "text": [
      "3.00\n"
     ]
    }
   ],
   "source": [
    "print(format(20//6, '0.2f'))"
   ]
  },
  {
   "cell_type": "code",
   "execution_count": 19,
   "metadata": {},
   "outputs": [
    {
     "name": "stdout",
     "output_type": "stream",
     "text": [
      "2.00\n"
     ]
    }
   ],
   "source": [
    "print(format(20%6, '0.2f'))"
   ]
  },
  {
   "cell_type": "code",
   "execution_count": 108,
   "metadata": {},
   "outputs": [
    {
     "name": "stdout",
     "output_type": "stream",
     "text": [
      "0.5\n"
     ]
    }
   ],
   "source": [
    "print(7//4/2)"
   ]
  },
  {
   "cell_type": "code",
   "execution_count": 109,
   "metadata": {},
   "outputs": [
    {
     "data": {
      "text/plain": [
       "4"
      ]
     },
     "execution_count": 109,
     "metadata": {},
     "output_type": "execute_result"
    }
   ],
   "source": [
    "4*1**2"
   ]
  },
  {
   "cell_type": "code",
   "execution_count": 20,
   "metadata": {},
   "outputs": [
    {
     "data": {
      "text/plain": [
       "4.0"
      ]
     },
     "execution_count": 20,
     "metadata": {},
     "output_type": "execute_result"
    }
   ],
   "source": [
    "4.6//1"
   ]
  },
  {
   "cell_type": "code",
   "execution_count": 26,
   "metadata": {},
   "outputs": [
    {
     "data": {
      "text/plain": [
       "160"
      ]
     },
     "execution_count": 26,
     "metadata": {},
     "output_type": "execute_result"
    }
   ],
   "source": [
    "5<<5"
   ]
  },
  {
   "cell_type": "code",
   "execution_count": 113,
   "metadata": {},
   "outputs": [
    {
     "name": "stdout",
     "output_type": "stream",
     "text": [
      "Enter P value: 5\n",
      "Enter q value: 4\n",
      "4\n"
     ]
    }
   ],
   "source": [
    "p=eval(input('Enter P value: '))\n",
    "q=eval(input('Enter q value: '))\n",
    "a=(p+q-abs(p-q))//2\n",
    "print(a)"
   ]
  },
  {
   "cell_type": "code",
   "execution_count": 14,
   "metadata": {},
   "outputs": [
    {
     "name": "stdout",
     "output_type": "stream",
     "text": [
      "Enter P value: 2\n",
      "Enter P value: 8\n",
      "Area of the Rectangle:  16\n"
     ]
    }
   ],
   "source": [
    "area=0\n",
    "lenght=0\n",
    "breadth=0\n",
    "\n",
    "l=eval(input('Enter P value: '))\n",
    "b=eval(input('Enter P value: '))\n",
    "area=l*b\n",
    "print(\"Area of the Rectangle: \", area)\n"
   ]
  },
  {
   "cell_type": "code",
   "execution_count": 19,
   "metadata": {},
   "outputs": [
    {
     "name": "stdout",
     "output_type": "stream",
     "text": [
      "Enter the 5 digit number: 12451\n",
      "Sum of the digits is 63\n"
     ]
    }
   ],
   "source": [
    "num3=int(input('Enter the 5 digit number: '))\n",
    "r1=num3%100\n",
    "q1=num3//10\n",
    "r2=q1%10\n",
    "q2=q1//10\n",
    "r3=q2%10\n",
    "q3=q2//10\n",
    "r4=q3%10\n",
    "q4=q3//10\n",
    "r5=q4%10\n",
    "print('Sum of the digits is', r1+r2+r3+r4+r5)"
   ]
  },
  {
   "cell_type": "markdown",
   "metadata": {},
   "source": [
    "# 4. Decision Statements"
   ]
  },
  {
   "cell_type": "code",
   "execution_count": 22,
   "metadata": {},
   "outputs": [
    {
     "name": "stdout",
     "output_type": "stream",
     "text": [
      "Enter the number: 1,2,3\n",
      "p>q>r is False\n",
      "p<q<r is True\n",
      "(p<q) and (p<r) is True\n",
      "(p<q) or (p<r) is True\n"
     ]
    }
   ],
   "source": [
    "p, q, r = eval(input('Enter the three numbers seperated by commas: '))\n",
    "print('p>q>r is', p>q>r)\n",
    "print('p<q<r is', p<q<r)\n",
    "print('(p<q) and (p<r) is',(p<q) and (p<r))\n",
    "print('(p<q) or (p<r) is',(p<q) or (p<r))"
   ]
  },
  {
   "cell_type": "code",
   "execution_count": 24,
   "metadata": {},
   "outputs": [
    {
     "name": "stdout",
     "output_type": "stream",
     "text": [
      "Enter the numbers: 2\n",
      "4\n"
     ]
    }
   ],
   "source": [
    "num = eval(input('Enter the numbers: '))\n",
    "if num>0: num=num*num\n",
    "print(num)"
   ]
  },
  {
   "cell_type": "code",
   "execution_count": 25,
   "metadata": {},
   "outputs": [
    {
     "name": "stdout",
     "output_type": "stream",
     "text": [
      "Enter the numbers: 1\n",
      "Enter the numbers: 2\n",
      "2 is Greater than 1\n"
     ]
    }
   ],
   "source": [
    "n1 = eval(input('Enter the numbers: '))\n",
    "n2 = eval(input('Enter the numbers: '))\n",
    "if n1>n2:\n",
    "    print(n1,'is Greater than',n2)\n",
    "else:\n",
    "    print(n2,'is Greater than',n1)"
   ]
  },
  {
   "cell_type": "code",
   "execution_count": 33,
   "metadata": {},
   "outputs": [
    {
     "name": "stdout",
     "output_type": "stream",
     "text": [
      "Enter the three numbers seperated by commas: 4,6,1\n",
      "6 is greater than 4 1\n"
     ]
    }
   ],
   "source": [
    "num1, num2, num3 = eval(input('Enter the three numbers seperated by commas: '))\n",
    "if num1>num2:\n",
    "    if num2>num3:\n",
    "        print(num1, 'is greater than', num2, num3)\n",
    "else:\n",
    "    if num2>num1:\n",
    "        if num2>num3:\n",
    "            print(num2, 'is greater than', num1, num3)\n",
    "        else:\n",
    "            print(num3, 'is greater than', num2, num1)"
   ]
  },
  {
   "cell_type": "code",
   "execution_count": 36,
   "metadata": {},
   "outputs": [
    {
     "name": "stdout",
     "output_type": "stream",
     "text": [
      "Enter the 4 subjects marks seperated by commas: 60,61,59,59\n",
      "Result Failed\n"
     ]
    }
   ],
   "source": [
    "sub1, sub2, sub3, sub4=eval(input('Enter the 4 subjects marks seperated by commas: '))\n",
    "per=((sub1+ sub2+ sub3+ sub4)/400)*100\n",
    "if per>=90:\n",
    "    print('Passed in Distiction with', format(per,'0.1f'),'%')\n",
    "elif per>=80:\n",
    "    print('Passed in First Class with', format(per,'0.1f'),'%')\n",
    "elif per>=70:\n",
    "    print('Passed in Second Class with', format(per,'0.1f'),'%')\n",
    "elif per>=60:\n",
    "    print('Passed in Third Class with', format(per,'0.1f'),'%')\n",
    "else:\n",
    "    print('Result Failed')"
   ]
  },
  {
   "cell_type": "markdown",
   "metadata": {},
   "source": [
    "### Conditional Expression"
   ]
  },
  {
   "cell_type": "code",
   "execution_count": 37,
   "metadata": {},
   "outputs": [
    {
     "name": "stdout",
     "output_type": "stream",
     "text": [
      "Enter the number: 4\n",
      "16\n"
     ]
    }
   ],
   "source": [
    "x = eval(input('Enter the number: '))\n",
    "x = (x**2) if x%2==0 else (x**3)\n",
    "print(x)"
   ]
  },
  {
   "cell_type": "code",
   "execution_count": 42,
   "metadata": {},
   "outputs": [
    {
     "name": "stdout",
     "output_type": "stream",
     "text": [
      "5\n"
     ]
    }
   ],
   "source": [
    "x=0\n",
    "y=0\n",
    "if x>0:\n",
    "    y=y+1\n",
    "else:\n",
    "    if x<0:\n",
    "        y=y+2\n",
    "    else:\n",
    "        y=y+5\n",
    "print(y)"
   ]
  },
  {
   "cell_type": "code",
   "execution_count": 43,
   "metadata": {},
   "outputs": [
    {
     "name": "stdout",
     "output_type": "stream",
     "text": [
      "1 0\n"
     ]
    }
   ],
   "source": [
    "p=int(True)\n",
    "q=int(False)\n",
    "print(p,q)"
   ]
  },
  {
   "cell_type": "code",
   "execution_count": 48,
   "metadata": {},
   "outputs": [
    {
     "name": "stdout",
     "output_type": "stream",
     "text": [
      "Enter how many minutes you browsed in minutes: 61\n",
      "your browsing bill is 100 rupees\n"
     ]
    }
   ],
   "source": [
    "timing = int(input('Enter how many minutes you browsed in minutes: '))\n",
    "if timing<=30:\n",
    "    print('your browsing bill is 10 rupees')\n",
    "elif timing<=60:\n",
    "    print('your browsing bill is 20 rupees')\n",
    "else:\n",
    "    print('your browsing bill is 100 rupees')"
   ]
  },
  {
   "cell_type": "code",
   "execution_count": 58,
   "metadata": {},
   "outputs": [
    {
     "name": "stdout",
     "output_type": "stream",
     "text": [
      "Enter the Temp and Humidity seperated by commas: Wrm\n",
      "Enter the Temp and Humidity seperated by commas: Dry\n",
      "You can Swim\n"
     ]
    }
   ],
   "source": [
    "    Warm=0\n",
    "    Dry=0\n",
    "    Temp = input('Enter the Temp and Humidity seperated by commas: ')\n",
    "    Humidity = input('Enter the Temp and Humidity seperated by commas: ')\n",
    "    if Temp==Warm:\n",
    "        if Humidity==Dry:\n",
    "            print('You can play Basketball')\n",
    "        else:\n",
    "            print('You can play Tennis')\n",
    "    else:\n",
    "        if Humidity==Dry:\n",
    "            print('You can play Cricket')\n",
    "        else:\n",
    "            print('You can Swim')"
   ]
  },
  {
   "cell_type": "code",
   "execution_count": 69,
   "metadata": {},
   "outputs": [
    {
     "name": "stdout",
     "output_type": "stream",
     "text": [
      "Enter the number: 5\n",
      "Square of the number is:  25\n"
     ]
    }
   ],
   "source": [
    "num = int(input('Enter the number: '))\n",
    "if num%10==5:\n",
    "    print('Square of the number is: ',num**2)\n",
    "    "
   ]
  },
  {
   "cell_type": "code",
   "execution_count": 76,
   "metadata": {},
   "outputs": [
    {
     "name": "stdout",
     "output_type": "stream",
     "text": [
      "Enter your Age: 21\n",
      "You are not eligigible\n"
     ]
    }
   ],
   "source": [
    "age = int(input('Enter your Age: '))\n",
    "if age>=15 and age<=18:\n",
    "    print('You are eligible')\n",
    "else:\n",
    "    print('You are not eligible')"
   ]
  },
  {
   "cell_type": "markdown",
   "metadata": {},
   "source": [
    "# 5. Loop Control Statements"
   ]
  },
  {
   "cell_type": "code",
   "execution_count": 78,
   "metadata": {},
   "outputs": [
    {
     "name": "stdout",
     "output_type": "stream",
     "text": [
      "55\n"
     ]
    }
   ],
   "source": [
    "count=0\n",
    "sum=0\n",
    "while count<=10:\n",
    "    sum=sum+count\n",
    "    count+=1\n",
    "print(sum)"
   ]
  },
  {
   "cell_type": "code",
   "execution_count": 80,
   "metadata": {},
   "outputs": [
    {
     "name": "stdout",
     "output_type": "stream",
     "text": [
      "Enter the number: 2547\n",
      "18\n"
     ]
    }
   ],
   "source": [
    "num = int(input('Enter the number: '))\n",
    "rem=0\n",
    "sum=0\n",
    "while num>0:\n",
    "    rem=num%10\n",
    "    num=num//10\n",
    "    sum=sum+rem\n",
    "print(sum)"
   ]
  },
  {
   "cell_type": "code",
   "execution_count": 5,
   "metadata": {},
   "outputs": [
    {
     "name": "stdout",
     "output_type": "stream",
     "text": [
      "Enter the number12\n"
     ]
    },
    {
     "ename": "TypeError",
     "evalue": "unsupported operand type(s) for +: 'int' and 'str'",
     "output_type": "error",
     "traceback": [
      "\u001b[1;31m---------------------------------------------------------------------------\u001b[0m",
      "\u001b[1;31mTypeError\u001b[0m                                 Traceback (most recent call last)",
      "\u001b[1;32m<ipython-input-5-48bb73ca5c55>\u001b[0m in \u001b[0;36m<module>\u001b[1;34m\u001b[0m\n\u001b[0;32m      3\u001b[0m \u001b[0msum\u001b[0m \u001b[1;33m=\u001b[0m \u001b[1;36m0\u001b[0m\u001b[1;33m\u001b[0m\u001b[1;33m\u001b[0m\u001b[0m\n\u001b[0;32m      4\u001b[0m \u001b[1;32mfor\u001b[0m \u001b[0mi\u001b[0m \u001b[1;32min\u001b[0m \u001b[0mnum\u001b[0m\u001b[1;33m:\u001b[0m\u001b[1;33m\u001b[0m\u001b[1;33m\u001b[0m\u001b[0m\n\u001b[1;32m----> 5\u001b[1;33m     \u001b[0msum\u001b[0m \u001b[1;33m=\u001b[0m \u001b[0mint\u001b[0m\u001b[1;33m(\u001b[0m\u001b[0msum\u001b[0m\u001b[1;33m)\u001b[0m\u001b[1;33m+\u001b[0m\u001b[0mi\u001b[0m\u001b[1;33m\u001b[0m\u001b[1;33m\u001b[0m\u001b[0m\n\u001b[0m\u001b[0;32m      6\u001b[0m \u001b[0mprint\u001b[0m\u001b[1;33m(\u001b[0m\u001b[0msum\u001b[0m\u001b[1;33m)\u001b[0m\u001b[1;33m\u001b[0m\u001b[1;33m\u001b[0m\u001b[0m\n",
      "\u001b[1;31mTypeError\u001b[0m: unsupported operand type(s) for +: 'int' and 'str'"
     ]
    }
   ],
   "source": [
    "num = (input('Enter the number'))\n",
    "\n",
    "sum = 0\n",
    "for i in num:\n",
    "    sum = int(sum)+i\n",
    "print(sum)"
   ]
  },
  {
   "cell_type": "code",
   "execution_count": 1,
   "metadata": {},
   "outputs": [
    {
     "name": "stdout",
     "output_type": "stream",
     "text": [
      "Enter the number: 20\n",
      "50\n"
     ]
    }
   ],
   "source": [
    "num=eval(input('Enter the number: '))\n",
    "sum=0\n",
    "count=0\n",
    "\n",
    "while count<=num:\n",
    "    if count%5==0:\n",
    "        sum=sum+count\n",
    "    count+=1\n",
    "print(sum)"
   ]
  },
  {
   "cell_type": "code",
   "execution_count": 4,
   "metadata": {},
   "outputs": [
    {
     "name": "stdout",
     "output_type": "stream",
     "text": [
      "Enter the number: 6\n",
      "720\n"
     ]
    }
   ],
   "source": [
    "num=eval(input('Enter the number: '))\n",
    "fact=1\n",
    "count=1\n",
    "\n",
    "while count<=num:\n",
    "    fact=fact*count\n",
    "    count+=1\n",
    "print(fact)"
   ]
  },
  {
   "cell_type": "code",
   "execution_count": 13,
   "metadata": {},
   "outputs": [
    {
     "name": "stdout",
     "output_type": "stream",
     "text": [
      "A B C D E F G H I J K L M N O P Q R S T U V W X Y Z \n",
      " End\n"
     ]
    }
   ],
   "source": [
    "for i in range(65, 91):\n",
    "    print(chr(i), end=' ')\n",
    "print('\\n End')"
   ]
  },
  {
   "cell_type": "code",
   "execution_count": 14,
   "metadata": {},
   "outputs": [
    {
     "name": "stdout",
     "output_type": "stream",
     "text": [
      "10 9 8 7 6 5 4 3 2 1 \n",
      " End\n"
     ]
    }
   ],
   "source": [
    "for i in range(10, 0, -1):\n",
    "    print(i, end=' ')\n",
    "print('\\n End')"
   ]
  },
  {
   "cell_type": "code",
   "execution_count": 15,
   "metadata": {},
   "outputs": [
    {
     "name": "stdout",
     "output_type": "stream",
     "text": [
      "Square of 1 is 1\n",
      "Square of 2 is 4\n",
      "Square of 3 is 9\n",
      "Square of 4 is 16\n",
      "Square of 5 is 25\n",
      "\n",
      " End\n"
     ]
    }
   ],
   "source": [
    "for i in range(1, 6):\n",
    "    print('Square of',i, 'is',i*i)\n",
    "print('\\n End')"
   ]
  },
  {
   "cell_type": "code",
   "execution_count": 20,
   "metadata": {},
   "outputs": [
    {
     "name": "stdout",
     "output_type": "stream",
     "text": [
      "2 4 6 8 10 \n",
      " Sum of the Even number is:  30\n"
     ]
    }
   ],
   "source": [
    "sum=0\n",
    "for i in range(1,11):\n",
    "    if i%2==0:\n",
    "        print(i, end=' ')\n",
    "        sum=sum+i\n",
    "print('\\n Sum of the Even number is: ',sum)"
   ]
  },
  {
   "cell_type": "code",
   "execution_count": 30,
   "metadata": {},
   "outputs": [
    {
     "name": "stdout",
     "output_type": "stream",
     "text": [
      "Enter the input number: 20\n",
      "1\n",
      "7\n",
      "11\n",
      "13\n",
      "17\n",
      "19\n",
      "Sum of the numbers:  68\n"
     ]
    }
   ],
   "source": [
    "sum=0\n",
    "n = int(input('Enter the input number: '))\n",
    "for i in range(0,n):\n",
    "    if i%2==0 or i%3==0 or i%5==0:\n",
    "        print(end='')\n",
    "    else:\n",
    "        print(i)\n",
    "        sum=sum+i\n",
    "print('Sum of the numbers: ',sum)"
   ]
  },
  {
   "cell_type": "code",
   "execution_count": 31,
   "metadata": {},
   "outputs": [
    {
     "name": "stdout",
     "output_type": "stream",
     "text": [
      "Enter the number: 10\n",
      "Total Sum:  55\n"
     ]
    }
   ],
   "source": [
    "sum=0\n",
    "num = int(input('Enter the number: '))\n",
    "for i in range (0, num+1):\n",
    "    sum=sum+i\n",
    "print('Total Sum: ', sum)\n"
   ]
  },
  {
   "cell_type": "code",
   "execution_count": 34,
   "metadata": {},
   "outputs": [
    {
     "name": "stdout",
     "output_type": "stream",
     "text": [
      "Enter the number: 5\n",
      "Fibbonacci series is:\n",
      "1 2 3 5 8 13 "
     ]
    }
   ],
   "source": [
    "sum=0\n",
    "num=int(input('Enter the number: '))\n",
    "print('Fibbonacci series is:')\n",
    "first_num=0\n",
    "second_num=1\n",
    "for i in range(num+1):\n",
    "    sum=first_num+second_num\n",
    "    first_num=second_num\n",
    "    second_num=sum\n",
    "    print(sum, end=' ')"
   ]
  },
  {
   "cell_type": "code",
   "execution_count": 39,
   "metadata": {},
   "outputs": [
    {
     "name": "stdout",
     "output_type": "stream",
     "text": [
      "   1    2    3    4    5 \n",
      "   2    4    6    8   10 \n",
      "   3    6    9   12   15 \n",
      "   4    8   12   16   20 \n",
      "   5   10   15   20   25 \n",
      "   6   12   18   24   30 \n",
      "   7   14   21   28   35 \n",
      "   8   16   24   32   40 \n",
      "   9   18   27   36   45 \n",
      "  10   20   30   40   50 \n"
     ]
    }
   ],
   "source": [
    "for i in range (1, 11):\n",
    "    for j in range(1, 6):\n",
    "        print(format(i*j, '4d'), end=' ')\n",
    "    print()"
   ]
  },
  {
   "cell_type": "code",
   "execution_count": 18,
   "metadata": {},
   "outputs": [
    {
     "name": "stdout",
     "output_type": "stream",
     "text": [
      "enter the square shape5\n",
      "* * * * * \n",
      "* * * * * \n",
      "* * * * * \n",
      "* * * * * \n",
      "* * * * * \n"
     ]
    }
   ],
   "source": [
    "num = int(input('enter the square shape'))\n",
    "for i in range(num):\n",
    "    print('* '*num)"
   ]
  },
  {
   "cell_type": "code",
   "execution_count": 33,
   "metadata": {},
   "outputs": [
    {
     "name": "stdout",
     "output_type": "stream",
     "text": [
      "enter the square shape5\n",
      "          \n",
      "        * \n",
      "      * * \n",
      "    * * * \n",
      "  * * * * \n",
      "* * * * * \n"
     ]
    }
   ],
   "source": [
    "num = int(input('enter the square shape'))\n",
    "for i in range(0, num+1):\n",
    "    print('  '*(num-i)+'* '*i) #Make sure the space under the quotes"
   ]
  },
  {
   "cell_type": "code",
   "execution_count": null,
   "metadata": {},
   "outputs": [],
   "source": []
  },
  {
   "cell_type": "code",
   "execution_count": 34,
   "metadata": {},
   "outputs": [
    {
     "name": "stdout",
     "output_type": "stream",
     "text": [
      "enter the square shape5\n",
      "     \n",
      "    * \n",
      "   * * \n",
      "  * * * \n",
      " * * * * \n",
      "* * * * * \n"
     ]
    }
   ],
   "source": [
    "num = int(input('enter the square shape'))\n",
    "for i in range(0, num+1):\n",
    "    print(' '*(num-i)+'* '*i) #Make sure the space under the quotes"
   ]
  },
  {
   "cell_type": "code",
   "execution_count": 38,
   "metadata": {},
   "outputs": [
    {
     "name": "stdout",
     "output_type": "stream",
     "text": [
      "enter the square shape5\n",
      "     \n",
      "    * \n",
      "   * * \n",
      "  * * * \n",
      " * * * * \n",
      "* * * * * \n",
      " * * * * \n",
      "  * * * \n",
      "   * * \n",
      "    * \n"
     ]
    }
   ],
   "source": [
    "num = int(input('enter the square shape'))\n",
    "for i in range(0, num):\n",
    "    print(' '*(num-i)+'* '*i) \n",
    "for i in range(num, 0, -1):\n",
    "    print(' '*(num-i)+'* '*i)"
   ]
  },
  {
   "cell_type": "code",
   "execution_count": 7,
   "metadata": {},
   "outputs": [
    {
     "name": "stdout",
     "output_type": "stream",
     "text": [
      "0\n",
      "1\n",
      "2\n",
      "3\n",
      "4\n"
     ]
    }
   ],
   "source": [
    "for i in range(5):\n",
    "    print(i)\n"
   ]
  },
  {
   "cell_type": "code",
   "execution_count": 9,
   "metadata": {},
   "outputs": [
    {
     "name": "stdout",
     "output_type": "stream",
     "text": [
      "32\n"
     ]
    }
   ],
   "source": [
    "count=35\n",
    "for x in range(10):\n",
    "    count =count-1\n",
    "    if x==2:\n",
    "        break\n",
    "print(count)"
   ]
  },
  {
   "cell_type": "code",
   "execution_count": 10,
   "metadata": {},
   "outputs": [
    {
     "name": "stdout",
     "output_type": "stream",
     "text": [
      "5\n"
     ]
    }
   ],
   "source": [
    "z=1\n",
    "while z<5:\n",
    "    if z%7==0:\n",
    "        break\n",
    "    z+=2\n",
    "print(z)"
   ]
  },
  {
   "cell_type": "code",
   "execution_count": 5,
   "metadata": {},
   "outputs": [
    {
     "name": "stdout",
     "output_type": "stream",
     "text": [
      "11\n"
     ]
    }
   ],
   "source": [
    "My_str ='I LOVE PYTHON'\n",
    "count=0\n",
    "for char in My_str:\n",
    "    if char=='O':\n",
    "        continue\n",
    "    else:\n",
    "        count+=1\n",
    "print(count)"
   ]
  },
  {
   "cell_type": "code",
   "execution_count": 6,
   "metadata": {},
   "outputs": [
    {
     "name": "stdout",
     "output_type": "stream",
     "text": [
      "5\n"
     ]
    }
   ],
   "source": [
    "My_str ='I LOVE PYTHON'\n",
    "count=0\n",
    "for char in My_str:\n",
    "    if char=='E':\n",
    "        break\n",
    "    else:\n",
    "        count+=1\n",
    "print(count)"
   ]
  },
  {
   "cell_type": "code",
   "execution_count": 8,
   "metadata": {},
   "outputs": [
    {
     "name": "stdout",
     "output_type": "stream",
     "text": [
      "2\n",
      "4\n",
      "8\n",
      "16\n",
      "32\n",
      "64\n",
      "64\n"
     ]
    }
   ],
   "source": [
    "i=1\n",
    "for x in range (1,4):\n",
    "    for y in range(1,3):\n",
    "        i=i+(i*1)\n",
    "        print(i)\n",
    "print(i)"
   ]
  },
  {
   "cell_type": "code",
   "execution_count": 15,
   "metadata": {},
   "outputs": [
    {
     "name": "stdout",
     "output_type": "stream",
     "text": [
      "27\n"
     ]
    }
   ],
   "source": [
    "count=0\n",
    "for x in range (1,3):\n",
    "    for y in range(4,6):\n",
    "        count=count+(x*y)\n",
    "print(count)"
   ]
  },
  {
   "cell_type": "code",
   "execution_count": 11,
   "metadata": {},
   "outputs": [
    {
     "name": "stdout",
     "output_type": "stream",
     "text": [
      "50 48 46 44 42 40 38 36 34 32 30 28 26 24 22 20 18 16 14 12 10 8 6 4 2 "
     ]
    }
   ],
   "source": [
    "count=50\n",
    "while count>0:\n",
    "    print(count, end=' ')\n",
    "    count-=2"
   ]
  },
  {
   "cell_type": "code",
   "execution_count": 2,
   "metadata": {},
   "outputs": [
    {
     "name": "stdout",
     "output_type": "stream",
     "text": [
      "50 48 46 44 42 40 38 36 34 32 30 28 26 24 22 20 18 16 14 12 10 8 6 4 2 "
     ]
    }
   ],
   "source": [
    "for i in range(50, 0, -2):\n",
    "    print(i, end=' ')"
   ]
  },
  {
   "cell_type": "code",
   "execution_count": 16,
   "metadata": {},
   "outputs": [
    {
     "name": "stdout",
     "output_type": "stream",
     "text": [
      "20 20 18 38 16 54 14 68 68\n"
     ]
    }
   ],
   "source": [
    "sum=0\n",
    "for i in range(20,0,-2):\n",
    "    sum=sum+i\n",
    "    print(i, end=' ')\n",
    "    print(sum, end=' ')\n",
    "    if i==14:\n",
    "        break\n",
    "print(sum)"
   ]
  },
  {
   "cell_type": "code",
   "execution_count": 17,
   "metadata": {},
   "outputs": [
    {
     "name": "stdout",
     "output_type": "stream",
     "text": [
      "196\n"
     ]
    }
   ],
   "source": [
    "i=0\n",
    "s=0\n",
    "while i<=50:\n",
    "    if i%7==0:\n",
    "        s=s+i\n",
    "        i=i+7\n",
    "print(s)"
   ]
  },
  {
   "cell_type": "code",
   "execution_count": 2,
   "metadata": {},
   "outputs": [
    {
     "name": "stdout",
     "output_type": "stream",
     "text": [
      "196\n"
     ]
    }
   ],
   "source": [
    "s=0\n",
    "\n",
    "for i in range(0,50):\n",
    "    if i%7==0:\n",
    "        s=s+i\n",
    "        i=i+7\n",
    "print(s)"
   ]
  },
  {
   "cell_type": "code",
   "execution_count": 5,
   "metadata": {},
   "outputs": [
    {
     "name": "stdout",
     "output_type": "stream",
     "text": [
      "Enter the number: 5\n",
      "1\n",
      "5\n",
      "25\n",
      "125\n",
      "625\n",
      "3125\n",
      "End of program\n"
     ]
    }
   ],
   "source": [
    "num=int(input('Enter the number: '))\n",
    "sum=0\n",
    "for i in range(0, num+1):\n",
    "    sum=5**i\n",
    "    print(sum)\n",
    "print('End of program')"
   ]
  },
  {
   "cell_type": "code",
   "execution_count": 4,
   "metadata": {},
   "outputs": [
    {
     "name": "stdout",
     "output_type": "stream",
     "text": [
      "25250\n"
     ]
    }
   ],
   "source": [
    "sum=0\n",
    "i=0\n",
    "while i<501:\n",
    "    if i%5==0:\n",
    "        sum=sum+i\n",
    "    i+=1\n",
    "print(sum)"
   ]
  },
  {
   "cell_type": "code",
   "execution_count": 32,
   "metadata": {},
   "outputs": [
    {
     "name": "stdout",
     "output_type": "stream",
     "text": [
      "Enter the Password: Python\n",
      "Welcome to Python World\n"
     ]
    }
   ],
   "source": [
    "password=input('Enter the Password: ')\n",
    "if password=='Python':\n",
    "    print('Welcome to Python World')\n",
    "else:\n",
    "    print('Please try again')"
   ]
  },
  {
   "cell_type": "markdown",
   "metadata": {},
   "source": [
    "# 6. Functions"
   ]
  },
  {
   "cell_type": "code",
   "execution_count": 5,
   "metadata": {},
   "outputs": [
    {
     "name": "stdout",
     "output_type": "stream",
     "text": [
      "Enter your Name: Prakash\n",
      "Dear Prakash , Please welcome to Python Programming\n"
     ]
    }
   ],
   "source": [
    "def print_msg():\n",
    "    str1=input('Enter your Name: ')\n",
    "    print('Dear',str1,', Please welcome to Python Programming')\n",
    "print_msg()"
   ]
  },
  {
   "cell_type": "code",
   "execution_count": 13,
   "metadata": {},
   "outputs": [
    {
     "name": "stdout",
     "output_type": "stream",
     "text": [
      "Sum of the 1 to 25 is 325\n",
      "Sum of the 50 to 75 is 1625\n"
     ]
    }
   ],
   "source": [
    "\n",
    "def addition(x, y):\n",
    "    s=0\n",
    "    for i in range(x,y+1):\n",
    "        s=s+i\n",
    "    print('Sum of the',x,'to',y,'is',s)\n",
    "addition(1,25)\n",
    "addition(50,75)\n"
   ]
  },
  {
   "cell_type": "code",
   "execution_count": 35,
   "metadata": {},
   "outputs": [
    {
     "name": "stdout",
     "output_type": "stream",
     "text": [
      "Addition 5\n",
      "Substraction -3\n",
      "Multiplication 4\n"
     ]
    }
   ],
   "source": [
    "def ops(x, y):\n",
    "    print('Addition', x+y)\n",
    "    print('Substraction', x-y)\n",
    "    print('Multiplication', x*y)\n",
    "\n",
    "\n",
    "ops(1, 4)"
   ]
  },
  {
   "cell_type": "code",
   "execution_count": 16,
   "metadata": {},
   "outputs": [
    {
     "name": "stdout",
     "output_type": "stream",
     "text": [
      "Num1:  5\n",
      "Num2:  8\n",
      "8 is greater than 5\n",
      "Num1:  11\n",
      "Num2:  5\n",
      "11 is greater than 5\n",
      "Num1:  5\n",
      "Num2:  5\n",
      "Both numbers are Equal\n"
     ]
    }
   ],
   "source": [
    "def printMax(num1,num2):\n",
    "    print('Num1: ',num1)\n",
    "    print('Num2: ',num2)\n",
    "    \n",
    "    if num1>num2:\n",
    "        print(num1,'is greater than',num2)\n",
    "    elif num2>num1:\n",
    "        print(num2,'is greater than',num1)\n",
    "    else:\n",
    "        print('Both numbers are Equal')\n",
    "printMax(5,8)\n",
    "printMax(11,5)\n",
    "printMax(5,5)"
   ]
  },
  {
   "cell_type": "code",
   "execution_count": 4,
   "metadata": {},
   "outputs": [
    {
     "name": "stdout",
     "output_type": "stream",
     "text": [
      "24\n",
      "31\n",
      "34\n"
     ]
    }
   ],
   "source": [
    "def maxi(x, y, z):\n",
    "#     maxim = x if x>y and x>z else y if y>z else z\n",
    "#     return maxim\n",
    "    return x if x>y and x>z else y if y>z else z\n",
    "\n",
    "\n",
    "print(maxi(1, 24, 3))\n",
    "print(maxi(31, 2, 1))\n",
    "print(maxi(1, 34, 2))"
   ]
  },
  {
   "cell_type": "code",
   "execution_count": 17,
   "metadata": {},
   "outputs": [
    {
     "name": "stdout",
     "output_type": "stream",
     "text": [
      "Enter the number: 5\n",
      "Facrorial of 5 is 120\n"
     ]
    }
   ],
   "source": [
    "num=int(input('Enter the number: '))\n",
    "def factorial(num):\n",
    "    fact=1\n",
    "    for i in range(1, num+1):\n",
    "        fact=fact*i\n",
    "    print('Facrorial of',num,'is',fact)\n",
    "factorial(num)"
   ]
  },
  {
   "cell_type": "code",
   "execution_count": 23,
   "metadata": {},
   "outputs": [
    {
     "name": "stdout",
     "output_type": "stream",
     "text": [
      "Area of the circle is 3.14 with a Radius of 1\n",
      "Area of the circle is 12.57 with a Radius of 2\n",
      "Area of the circle is 4.00 with a Radius of 1\n"
     ]
    }
   ],
   "source": [
    "def area_of_circle(pi=3.142, r=1):\n",
    "    area=pi*r**2\n",
    "    print(\"Area of the circle is\",format(area,'0.2f'),'with a Radius of',r)\n",
    "area_of_circle()\n",
    "area_of_circle(r=2)\n",
    "area_of_circle(pi=4)"
   ]
  },
  {
   "cell_type": "code",
   "execution_count": 26,
   "metadata": {},
   "outputs": [
    {
     "name": "stdout",
     "output_type": "stream",
     "text": [
      "a = 15 b = 9 c = 20\n",
      "a = 15 b = 10 c = 20\n"
     ]
    }
   ],
   "source": [
    "def disp(a, b=9, c=20):\n",
    "    print('a =',a, 'b =',b, 'c =',c)\n",
    "disp(15)\n",
    "disp(b=10, a=15)\n"
   ]
  },
  {
   "cell_type": "code",
   "execution_count": 29,
   "metadata": {},
   "outputs": [
    {
     "name": "stdout",
     "output_type": "stream",
     "text": [
      "I Love Python\n",
      "I Love Programming\n",
      "I Love PythonProgramming\n"
     ]
    }
   ],
   "source": [
    "S='I Love Programming'     #Global Variable\n",
    "\n",
    "def display():\n",
    "    S='I Love Python'     #Local Variable\n",
    "    print(S)\n",
    "\n",
    "T='I Love PythonProgramming'     #Global Variable\n",
    "\n",
    "display()\n",
    "print(S)\n",
    "print(T)"
   ]
  },
  {
   "cell_type": "code",
   "execution_count": 1,
   "metadata": {},
   "outputs": [
    {
     "name": "stdout",
     "output_type": "stream",
     "text": [
      "Value inside the function:  30\n",
      "Value outside the function:  30\n"
     ]
    }
   ],
   "source": [
    "a=20\n",
    "def display():\n",
    "    global a\n",
    "    a=30\n",
    "    print('Value inside the function: ',a)\n",
    "display()\n",
    "print('Value outside the function: ',a)"
   ]
  },
  {
   "cell_type": "code",
   "execution_count": 26,
   "metadata": {},
   "outputs": [
    {
     "name": "stdout",
     "output_type": "stream",
     "text": [
      "2 is minimum number\n"
     ]
    }
   ],
   "source": [
    "def minimum(x,y):\n",
    "    if x<y:\n",
    "        return x\n",
    "    elif y<x:\n",
    "        return y\n",
    "    else:\n",
    "        print('Both numbers are Equal')\n",
    "print(minimum(2,5),'is minimum number')\n",
    "#print('Smallest number is: ',minimum(2,5))"
   ]
  },
  {
   "cell_type": "code",
   "execution_count": 23,
   "metadata": {},
   "outputs": [
    {
     "name": "stdout",
     "output_type": "stream",
     "text": [
      "X1 = 4\n",
      "X2 = 2\n",
      "Y1 = 4\n",
      "Y2 = 2\n",
      "Distance:  2.8284271247461903\n",
      "X1 = 4\n",
      "X2 = 2\n",
      "Y1 = 4\n",
      "Y2 = 2\n",
      "Distance:  2.83\n",
      "X1 = 4\n",
      "X2 = 2\n",
      "Y1 = 4\n",
      "Y2 = 2\n"
     ]
    },
    {
     "data": {
      "text/plain": [
       "'2.83'"
      ]
     },
     "execution_count": 23,
     "metadata": {},
     "output_type": "execute_result"
    }
   ],
   "source": [
    "import math\n",
    "def distance_calc(x1,x2,y1,y2):\n",
    "    print('X1 =',x1)\n",
    "    print('X2 =',x2)\n",
    "    print('Y1 =',y1)\n",
    "    print('Y2 =',y2)\n",
    "    dx=(x1-x2)**2\n",
    "    dy=(y1-y2)**2\n",
    "    z=math.pow(dx+dy, 0.5)\n",
    "    return z\n",
    "print('Distance: ',distance_calc(4,2,4,2))\n",
    "print('Distance: ',format(distance_calc(4,2,4,2),\"0.2f\"))\n",
    "format(distance_calc(4,2,4,2),\"0.2f\")\n"
   ]
  },
  {
   "cell_type": "code",
   "execution_count": 31,
   "metadata": {},
   "outputs": [
    {
     "name": "stdout",
     "output_type": "stream",
     "text": [
      "Area is 12.57\n"
     ]
    }
   ],
   "source": [
    "def area_of_circle(radius):\n",
    "    if radius<0:\n",
    "        return 'Enter non-zero radius'\n",
    "    else:\n",
    "        return 3.142*radius**2\n",
    "print('Area is',format(area_of_circle(2),'0.2f'))"
   ]
  },
  {
   "cell_type": "code",
   "execution_count": 36,
   "metadata": {},
   "outputs": [
    {
     "name": "stdout",
     "output_type": "stream",
     "text": [
      "Addition 5 Subtraction -1\n"
     ]
    }
   ],
   "source": [
    "def arith(x,y):\n",
    "    return x+y, x-y\n",
    "\n",
    "add, sub=arith(2,3)\n",
    "print('Addition', add, 'Subtraction',sub)"
   ]
  },
  {
   "cell_type": "code",
   "execution_count": 14,
   "metadata": {},
   "outputs": [
    {
     "data": {
      "text/plain": [
       "16"
      ]
     },
     "execution_count": 14,
     "metadata": {},
     "output_type": "execute_result"
    }
   ],
   "source": [
    "def Demo(p=20, q=40):\n",
    "    return p+q\n",
    "Demo(q=10, p=6)"
   ]
  },
  {
   "cell_type": "code",
   "execution_count": 3,
   "metadata": {},
   "outputs": [
    {
     "name": "stdout",
     "output_type": "stream",
     "text": [
      "30\n"
     ]
    }
   ],
   "source": [
    "x=20\n",
    "def f():\n",
    "    global x\n",
    "    x=x+10\n",
    "    print(x)\n",
    "f()"
   ]
  },
  {
   "cell_type": "code",
   "execution_count": 5,
   "metadata": {},
   "outputs": [
    {
     "name": "stdout",
     "output_type": "stream",
     "text": [
      "10\n",
      "11\n"
     ]
    }
   ],
   "source": [
    "def test():\n",
    "    return 10\n",
    "x=11\n",
    "print(test())\n",
    "print(x)"
   ]
  },
  {
   "cell_type": "code",
   "execution_count": 11,
   "metadata": {},
   "outputs": [
    {
     "name": "stdout",
     "output_type": "stream",
     "text": [
      "A\n"
     ]
    }
   ],
   "source": [
    "def test():\n",
    "    global x\n",
    "    x='A'\n",
    "#x='Z'\n",
    "#test()\n",
    "print(x)"
   ]
  },
  {
   "cell_type": "code",
   "execution_count": 13,
   "metadata": {},
   "outputs": [
    {
     "name": "stdout",
     "output_type": "stream",
     "text": [
      "100\n"
     ]
    }
   ],
   "source": [
    "def test(x):\n",
    "    x=200\n",
    "x=100\n",
    "test(x)\n",
    "print(x)"
   ]
  },
  {
   "cell_type": "code",
   "execution_count": 14,
   "metadata": {},
   "outputs": [
    {
     "name": "stdout",
     "output_type": "stream",
     "text": [
      "None\n"
     ]
    }
   ],
   "source": [
    "def test(x):\n",
    "    p=90\n",
    "p=50\n",
    "print(test(p))"
   ]
  },
  {
   "cell_type": "code",
   "execution_count": 17,
   "metadata": {},
   "outputs": [
    {
     "name": "stdout",
     "output_type": "stream",
     "text": [
      "15\n"
     ]
    }
   ],
   "source": [
    "def exp_1(z):\n",
    "    z=z+5\n",
    "    def exp_2(z):\n",
    "        print('Hello')\n",
    "        return z\n",
    "    return z\n",
    "value=10\n",
    "print(exp_1(value))"
   ]
  },
  {
   "cell_type": "code",
   "execution_count": 21,
   "metadata": {},
   "outputs": [
    {
     "name": "stdout",
     "output_type": "stream",
     "text": [
      "8\n"
     ]
    }
   ],
   "source": [
    "def exp_1():\n",
    "    global x\n",
    "    x=x-5\n",
    "    def exp_2():\n",
    "        global x\n",
    "        return x+3\n",
    "    return exp_2()\n",
    "    \n",
    "x=10\n",
    "print(exp_1())"
   ]
  },
  {
   "cell_type": "code",
   "execution_count": 28,
   "metadata": {},
   "outputs": [
    {
     "name": "stdout",
     "output_type": "stream",
     "text": [
      "(5, 20)\n",
      "20 5\n"
     ]
    }
   ],
   "source": [
    "def mul(num1, num2):\n",
    "    num2 =num1*num2\n",
    "    return num1,num2\n",
    "print(mul(5,4))\n",
    "num2, num1= mul(5,4)\n",
    "print(num1, num2)"
   ]
  },
  {
   "cell_type": "code",
   "execution_count": 43,
   "metadata": {},
   "outputs": [
    {
     "name": "stdout",
     "output_type": "stream",
     "text": [
      "Designation:  manager Salary:  50000\n",
      "Designation:  30000 Salary:  Prg\n"
     ]
    }
   ],
   "source": [
    "def dis(Desig, Salary):\n",
    "    print('Designation: ',Desig,'Salary: ',Salary)\n",
    "dis('manager',50000)\n",
    "dis(30000,'Prg')"
   ]
  },
  {
   "cell_type": "code",
   "execution_count": 55,
   "metadata": {},
   "outputs": [
    {
     "name": "stdout",
     "output_type": "stream",
     "text": [
      "4.59479341998814\n"
     ]
    }
   ],
   "source": [
    "import math\n",
    "def cal_exp(base, exp):\n",
    "    if exp<=0:\n",
    "        return 'Please Enter non zero Exponential number'\n",
    "    else:\n",
    "        return math.pow(base,exp)\n",
    "print(cal_exp(2,2.2))\n",
    "#print('Result is:',format(cal_exp(2,2),'0.2f'))"
   ]
  },
  {
   "cell_type": "code",
   "execution_count": 65,
   "metadata": {},
   "outputs": [
    {
     "name": "stdout",
     "output_type": "stream",
     "text": [
      "12\n"
     ]
    }
   ],
   "source": [
    "def gcd_num(a,b):\n",
    "    for i in range (a+b,2,-1):\n",
    "        if i%a==0 and i%b==0:\n",
    "            return i\n",
    "print(gcd_num(2,12))"
   ]
  },
  {
   "cell_type": "code",
   "execution_count": 68,
   "metadata": {},
   "outputs": [
    {
     "name": "stdout",
     "output_type": "stream",
     "text": [
      "(4, 0, 0, 1)\n"
     ]
    }
   ],
   "source": [
    "def reverse(num):\n",
    "    q1=num%10\n",
    "    r1=num//10\n",
    "    q2=r1%10\n",
    "    r2=r1//10\n",
    "    q3=r2%10\n",
    "    r3=r2//10\n",
    "    q4=r3%10\n",
    "    return q1,q2,q3,q4\n",
    "print(reverse(1004))"
   ]
  },
  {
   "cell_type": "markdown",
   "metadata": {},
   "source": [
    "# 7. Strings"
   ]
  },
  {
   "cell_type": "code",
   "execution_count": 70,
   "metadata": {},
   "outputs": [
    {
     "name": "stdout",
     "output_type": "stream",
     "text": [
      "<class 'str'>\n"
     ]
    },
    {
     "data": {
      "text/plain": [
       "str"
      ]
     },
     "execution_count": 70,
     "metadata": {},
     "output_type": "execute_result"
    }
   ],
   "source": [
    "s1=''\n",
    "s2='Hello'\n",
    "print(type(s1))\n",
    "\n",
    "type(s2)"
   ]
  },
  {
   "cell_type": "code",
   "execution_count": 75,
   "metadata": {},
   "outputs": [
    {
     "name": "stdout",
     "output_type": "stream",
     "text": [
      "6\n",
      "H\n",
      "T\n",
      "O\n"
     ]
    },
    {
     "data": {
      "text/plain": [
       "'Y'"
      ]
     },
     "execution_count": 75,
     "metadata": {},
     "output_type": "execute_result"
    }
   ],
   "source": [
    "a='PYTHON'\n",
    "print(len(a))\n",
    "print(min(a))\n",
    "print(a[2])\n",
    "print(a[-2])\n",
    "max(a)"
   ]
  },
  {
   "cell_type": "code",
   "execution_count": 82,
   "metadata": {},
   "outputs": [
    {
     "name": "stdout",
     "output_type": "stream",
     "text": [
      "I O E R G A M N "
     ]
    }
   ],
   "source": [
    "s='ILOVEPROGRAMMING'\n",
    "for chare in range(0,len(s),2):\n",
    "    print(s[chare], end=' ')"
   ]
  },
  {
   "cell_type": "code",
   "execution_count": 1,
   "metadata": {},
   "outputs": [
    {
     "name": "stdout",
     "output_type": "stream",
     "text": [
      "U Love Python\n"
     ]
    }
   ],
   "source": [
    "str1='I Love Python'\n",
    "str2='U'+str1[1:]\n",
    "print(str2)"
   ]
  },
  {
   "cell_type": "code",
   "execution_count": 2,
   "metadata": {},
   "outputs": [
    {
     "name": "stdout",
     "output_type": "stream",
     "text": [
      "1935511771824\n"
     ]
    },
    {
     "data": {
      "text/plain": [
       "1935511771824"
      ]
     },
     "execution_count": 2,
     "metadata": {},
     "output_type": "execute_result"
    }
   ],
   "source": [
    "str1='Hello'\n",
    "str2='Hello'\n",
    "print(id(str1))\n",
    "id(str2)\n"
   ]
  },
  {
   "cell_type": "code",
   "execution_count": 17,
   "metadata": {},
   "outputs": [
    {
     "name": "stdout",
     "output_type": "stream",
     "text": [
      "c Beng\n",
      "IISc Bengaluru\n",
      "urulagneB cSII\n",
      "urulagneB cSI\n",
      "IISc Bengalur\n"
     ]
    },
    {
     "data": {
      "text/plain": [
       "'IISc BengaluruIISc BengaluruIISc Bengaluru'"
      ]
     },
     "execution_count": 17,
     "metadata": {},
     "output_type": "execute_result"
    }
   ],
   "source": [
    "s='IISc Bengaluru'\n",
    "print(s[3:9])\n",
    "print(s[:])\n",
    "print(s[::-1])\n",
    "print(s[-1:0:-1])\n",
    "print(s[:-1])\n",
    "\n",
    "s2=' Malleshwar'\n",
    "s + s2\n",
    "\n",
    "s3 = s*3\n",
    "s3"
   ]
  },
  {
   "cell_type": "code",
   "execution_count": 24,
   "metadata": {},
   "outputs": [
    {
     "name": "stdout",
     "output_type": "stream",
     "text": [
      "True\n"
     ]
    },
    {
     "data": {
      "text/plain": [
       "True"
      ]
     },
     "execution_count": 24,
     "metadata": {},
     "output_type": "execute_result"
    }
   ],
   "source": [
    "s4='Information technology Engineering'\n",
    "print('Information ' in s4)\n",
    "\n",
    "'Hello' not in s4"
   ]
  },
  {
   "cell_type": "code",
   "execution_count": 31,
   "metadata": {},
   "outputs": [
    {
     "name": "stdout",
     "output_type": "stream",
     "text": [
      "Greatet"
     ]
    }
   ],
   "source": [
    "word1='Greatest'\n",
    "word2='Great'\n",
    "for letter in word1:\n",
    "    if letter in word2:\n",
    "        print(letter, end=\"\")\n"
   ]
  },
  {
   "cell_type": "code",
   "execution_count": 44,
   "metadata": {},
   "outputs": [
    {
     "name": "stdout",
     "output_type": "stream",
     "text": [
      "True\n",
      "False\n",
      "False\n",
      "True\n"
     ]
    }
   ],
   "source": [
    "s1='ABC'\n",
    "s2='abc'\n",
    "print(s2>s1)\n",
    "\n",
    "s3=s2.upper()\n",
    "print(s1>s3)\n",
    "\n",
    "s4='AAB'\n",
    "s5='AAA'\n",
    "print(s4<s5)\n",
    "\n",
    "print(s4>=s5)"
   ]
  },
  {
   "cell_type": "code",
   "execution_count": 48,
   "metadata": {},
   "outputs": [
    {
     "name": "stdout",
     "output_type": "stream",
     "text": [
      "2 plus 5 equals Seven\n"
     ]
    },
    {
     "data": {
      "text/plain": [
       "'My Name is Prakash and surname is Bantanur'"
      ]
     },
     "execution_count": 48,
     "metadata": {},
     "output_type": "execute_result"
    }
   ],
   "source": [
    "print('{} plus {} equals {}'.format(2,5,'Seven'))\n",
    "'My Name is {} and surname is {}'.format('Prakash','Bantanur')"
   ]
  },
  {
   "cell_type": "code",
   "execution_count": 55,
   "metadata": {},
   "outputs": [
    {
     "data": {
      "text/plain": [
       "['C', 'C#', 'Java', 'Python']"
      ]
     },
     "execution_count": 55,
     "metadata": {},
     "output_type": "execute_result"
    }
   ],
   "source": [
    "prglngs='C C# Java Python'\n",
    "prglngs.split()"
   ]
  },
  {
   "cell_type": "code",
   "execution_count": 6,
   "metadata": {},
   "outputs": [
    {
     "name": "stdout",
     "output_type": "stream",
     "text": [
      "True\n",
      "False\n",
      "False\n",
      "True\n",
      "True\n"
     ]
    }
   ],
   "source": [
    "s='1Python'\n",
    "print(s.isalnum())\n",
    "\n",
    "s2='Python Programming'\n",
    "print(s2.isalnum())\n",
    "\n",
    "s3='1Python'\n",
    "print(s3.isalpha())\n",
    "\n",
    "s4='1458'\n",
    "print(s4.isdigit())\n",
    "\n",
    "s5='hello'\n",
    "print(s5.islower())"
   ]
  },
  {
   "cell_type": "code",
   "execution_count": 52,
   "metadata": {},
   "outputs": [
    {
     "name": "stdout",
     "output_type": "stream",
     "text": [
      "12\n",
      "-1\n",
      "31\n",
      "34\n",
      "4\n",
      "2\n",
      "2\n"
     ]
    }
   ],
   "source": [
    "s4='Information technology Engineering'\n",
    "print(s4.find('tech'))\n",
    "print(s4.find('Java'))\n",
    "print(s4.rfind('i'))\n",
    "print(len(s4))\n",
    "print(s4.count('o'))\n",
    "\n",
    "test_str = \"GeeksforGeeks\"\n",
    "count = 0\n",
    "for i in test_str:\n",
    "    if i == 's':\n",
    "        count = count +1\n",
    "print(count)\n",
    "\n",
    "print(test_str.count('s'))"
   ]
  },
  {
   "cell_type": "code",
   "execution_count": 65,
   "metadata": {},
   "outputs": [
    {
     "name": "stdout",
     "output_type": "stream",
     "text": [
      "India is great\n",
      "india is great\n",
      "INDIA IS GREAT\n",
      "India Is Great\n",
      "iNDIA IS gREAT\n",
      "Karnataka is Great\n",
      "India is great\n"
     ]
    }
   ],
   "source": [
    "s5='India is Great'\n",
    "print(s5.capitalize())\n",
    "print(s5.lower())\n",
    "print(s5.upper())\n",
    "print(s5.title())\n",
    "print(s5.swapcase())\n",
    "print(s5.replace('India','Karnataka'))\n",
    "print(s5.capitalize())"
   ]
  },
  {
   "cell_type": "code",
   "execution_count": 76,
   "metadata": {},
   "outputs": [
    {
     "name": "stdout",
     "output_type": "stream",
     "text": [
      " \t\tIt's Cool!\n",
      "It's Cool!\n",
      "---------------------\n",
      "Welcome\n",
      "\n",
      "\n",
      "Welcome\n"
     ]
    }
   ],
   "source": [
    "str1=' \\t\\tIt\\'s Cool!' #It removes white and Tab spaces\n",
    "print(str1)\n",
    "print(str1.lstrip())\n",
    "print('---------------------')\n",
    "\n",
    "str2='Welcome\\n\\n'\n",
    "print(str2)\n",
    "print(str2.rstrip())"
   ]
  },
  {
   "cell_type": "code",
   "execution_count": 81,
   "metadata": {},
   "outputs": [
    {
     "name": "stdout",
     "output_type": "stream",
     "text": [
      "     Microsoft WindowsOS      \n",
      "           Microsoft WindowsOS\n",
      "Microsoft WindowsOS           \n"
     ]
    }
   ],
   "source": [
    "str6='Microsoft WindowsOS'\n",
    "print(str6.center(30))\n",
    "print(str6.rjust(30))\n",
    "print(str6.ljust(30))"
   ]
  },
  {
   "cell_type": "code",
   "execution_count": 1,
   "metadata": {},
   "outputs": [
    {
     "name": "stdout",
     "output_type": "stream",
     "text": [
      "abbbabb\n",
      "Number of 'b's are 5\n"
     ]
    }
   ],
   "source": [
    "def countB(word):\n",
    "    print(word)\n",
    "    return word.count('b')\n",
    "print(\"Number of 'b's are\",countB('abbbabb'))"
   ]
  },
  {
   "cell_type": "code",
   "execution_count": 17,
   "metadata": {},
   "outputs": [
    {
     "name": "stdout",
     "output_type": "stream",
     "text": [
      "ababba\n",
      "Letter occures in a word 3\n"
     ]
    }
   ],
   "source": [
    "def wordletter(word, letter):\n",
    "    print(word)\n",
    "    return word.count(letter)\n",
    "    \n",
    "print('Letter occures in a word',wordletter('ababba', 'b'))"
   ]
  },
  {
   "cell_type": "code",
   "execution_count": 53,
   "metadata": {},
   "outputs": [
    {
     "name": "stdout",
     "output_type": "stream",
     "text": [
      "adbjsdbskjd\n"
     ]
    },
    {
     "data": {
      "text/plain": [
       "1"
      ]
     },
     "execution_count": 53,
     "metadata": {},
     "output_type": "execute_result"
    }
   ],
   "source": [
    "def wordlet(word, letter):\n",
    "    print(word)\n",
    "    return word.count(letter)\n",
    "\n",
    "wordlet('adbjsdbskjd', 'k')"
   ]
  },
  {
   "cell_type": "code",
   "execution_count": 24,
   "metadata": {},
   "outputs": [
    {
     "name": "stdout",
     "output_type": "stream",
     "text": [
      "India\n",
      "Modified word is:  iNDIA\n"
     ]
    }
   ],
   "source": [
    "def modify(word):\n",
    "    print(word)\n",
    "    return word.swapcase()\n",
    "print('Modified word is: ',modify('India'))"
   ]
  },
  {
   "cell_type": "code",
   "execution_count": 29,
   "metadata": {},
   "outputs": [
    {
     "name": "stdout",
     "output_type": "stream",
     "text": [
      "India\n",
      "Character at position 2 is d\n"
     ]
    }
   ],
   "source": [
    "def getChar(word, char):\n",
    "    print(word)\n",
    "    print('Character at position',char,'is ',end='')\n",
    "    return word[char]\n",
    "print(getChar('India',2))"
   ]
  },
  {
   "cell_type": "code",
   "execution_count": 61,
   "metadata": {},
   "outputs": [
    {
     "name": "stdout",
     "output_type": "stream",
     "text": [
      "Character 2 in India is d\n"
     ]
    }
   ],
   "source": [
    "def getChar(word, char):\n",
    "    print('Character', char, 'in',word, 'is ', end='')\n",
    "    return word[char]\n",
    "print(getChar('India',2))"
   ]
  },
  {
   "cell_type": "code",
   "execution_count": 28,
   "metadata": {},
   "outputs": [
    {
     "name": "stdout",
     "output_type": "stream",
     "text": [
      "Addicted to Python\n",
      "Character at position 10 is t\n"
     ]
    }
   ],
   "source": [
    "def getChar(word, pos):\n",
    "    print(word)\n",
    "    print('Character at position',pos,'is ',end='')\n",
    "    counter=0\n",
    "    for i in word:\n",
    "        counter=counter+1\n",
    "        if counter==pos:\n",
    "            return i\n",
    "print(getChar('Addicted to Python',10))"
   ]
  },
  {
   "cell_type": "code",
   "execution_count": 30,
   "metadata": {},
   "outputs": [
    {
     "name": "stdout",
     "output_type": "stream",
     "text": [
      "PYTHON PROGRAMMING\n",
      "After removing the letter P\n",
      "YTHON ROGRAMMING\n"
     ]
    }
   ],
   "source": [
    "def eliminate(word, letter):\n",
    "    print(word)\n",
    "    print('After removing the letter',letter)\n",
    "    return word.replace(letter,'')\n",
    "print(eliminate('PYTHON PROGRAMMING', 'P'))"
   ]
  },
  {
   "cell_type": "code",
   "execution_count": 11,
   "metadata": {},
   "outputs": [
    {
     "name": "stdout",
     "output_type": "stream",
     "text": [
      "Python\n"
     ]
    },
    {
     "data": {
      "text/plain": [
       "0"
      ]
     },
     "execution_count": 11,
     "metadata": {},
     "output_type": "execute_result"
    }
   ],
   "source": [
    "def capVowel(word):\n",
    "    print(word)\n",
    "    word=word.lower()\n",
    "    for i in word:\n",
    "        return i.count(word) \n",
    "capVowel('Python')"
   ]
  },
  {
   "cell_type": "code",
   "execution_count": 19,
   "metadata": {},
   "outputs": [
    {
     "name": "stdout",
     "output_type": "stream",
     "text": [
      "String i love python\n",
      "After captitalize\n",
      "output string: I lOvE pythOn\n"
     ]
    }
   ],
   "source": [
    "def capVowels(word):\n",
    "    new=''\n",
    "    print('String',word)\n",
    "    print('After captitalize')\n",
    "    print('output string: ',end='')\n",
    "    for i in word:\n",
    "        if (i=='a' or i=='e' or i=='i' or i=='o' or i=='u'):\n",
    "            new=new+i.upper()\n",
    "        else:\n",
    "            new=new+i\n",
    "    return new\n",
    "print(capVowels('i love python'))"
   ]
  },
  {
   "cell_type": "code",
   "execution_count": 20,
   "metadata": {},
   "outputs": [
    {
     "name": "stdout",
     "output_type": "stream",
     "text": [
      "i love python\n",
      "output string:  lv pythn\n"
     ]
    }
   ],
   "source": [
    "def replacevowel(word):\n",
    "    new=''\n",
    "    print(word)\n",
    "    print('output string: ',end='')\n",
    "    for i in word:\n",
    "        if (i=='a' or i=='e' or i=='i' or i=='o' or i=='u'):\n",
    "            new=new+i.replace(i,'')\n",
    "        else:\n",
    "            new=new+i\n",
    "    return new\n",
    "print(replacevowel('i love python'))"
   ]
  },
  {
   "cell_type": "code",
   "execution_count": 23,
   "metadata": {},
   "outputs": [
    {
     "name": "stdout",
     "output_type": "stream",
     "text": [
      "Hello\n",
      "Hello\n",
      "False\n",
      "Hello\n",
      "olleH\n",
      "True\n"
     ]
    }
   ],
   "source": [
    "def isReverse(word1, word2):\n",
    "    print(word1)\n",
    "    print(word2)\n",
    "    if (word1==word2[::-1]):\n",
    "        return True\n",
    "    else:\n",
    "        return False\n",
    "print(isReverse('Hello', 'Hello'))\n",
    "print(isReverse('Hello', 'olleH'))"
   ]
  },
  {
   "cell_type": "code",
   "execution_count": 27,
   "metadata": {},
   "outputs": [
    {
     "name": "stdout",
     "output_type": "stream",
     "text": [
      "Python\n",
      "Strong\n",
      "String: Python Strong gnortS nohtyP\n"
     ]
    }
   ],
   "source": [
    "def isMirror(word1, word2):\n",
    "    print(word1)\n",
    "    print(word2)\n",
    "    print('String: ',end='')\n",
    "    return word1+' ' +word2+' '+word2[::-1]+' '+word1[::-1]\n",
    "print(isMirror('Python', 'Strong'))"
   ]
  },
  {
   "cell_type": "code",
   "execution_count": 31,
   "metadata": {},
   "outputs": [
    {
     "name": "stdout",
     "output_type": "stream",
     "text": [
      "Sum of 10 and 10 is 100\n"
     ]
    }
   ],
   "source": [
    "str1='Sum of {0:b} and {1:b} is {2:b}'.format(2,2,4)\n",
    "print(str1)"
   ]
  },
  {
   "cell_type": "code",
   "execution_count": 34,
   "metadata": {},
   "outputs": [
    {
     "name": "stdout",
     "output_type": "stream",
     "text": [
      "22"
     ]
    }
   ],
   "source": [
    "str1='ABBBCBB'\n",
    "print(str1.count('BB',1),end='')\n",
    "print(str1.count('BB',2),end='')"
   ]
  },
  {
   "cell_type": "code",
   "execution_count": 36,
   "metadata": {},
   "outputs": [
    {
     "name": "stdout",
     "output_type": "stream",
     "text": [
      "P r o g r a m m i n g "
     ]
    }
   ],
   "source": [
    "s='Programming'\n",
    "for char in s:\n",
    "    print(char, end=' ')"
   ]
  },
  {
   "cell_type": "code",
   "execution_count": 37,
   "metadata": {},
   "outputs": [
    {
     "name": "stdout",
     "output_type": "stream",
     "text": [
      "abcaaabc\n",
      "0\n"
     ]
    }
   ],
   "source": [
    "def countBC(word):\n",
    "    print(word)\n",
    "    count=0\n",
    "    for bc in word:\n",
    "        if (bc=='bc'):\n",
    "            count+=1\n",
    "    return count\n",
    "print(countBC('abcaaabc'))"
   ]
  },
  {
   "cell_type": "code",
   "execution_count": 45,
   "metadata": {},
   "outputs": [
    {
     "name": "stdout",
     "output_type": "stream",
     "text": [
      "9\n",
      "well done\n",
      "well done\n",
      "well done\n",
      "well done\n",
      "well done\n",
      "well done\n",
      "well done\n",
      "well done\n",
      "well done\n"
     ]
    }
   ],
   "source": [
    "def upperLower(word):\n",
    "    count=0\n",
    "    print(len(word))\n",
    "    \n",
    "    while count<len(word):\n",
    "        print(word)\n",
    "        count+=1\n",
    "upperLower('well done')"
   ]
  },
  {
   "cell_type": "code",
   "execution_count": 46,
   "metadata": {},
   "outputs": [
    {
     "name": "stdout",
     "output_type": "stream",
     "text": [
      "Hello\n",
      "olleH\n"
     ]
    }
   ],
   "source": [
    "def reverse(word):\n",
    "    print(word)\n",
    "    s1=word\n",
    "    s2=s1[::-1]\n",
    "    print(s2)\n",
    "reverse('Hello')"
   ]
  },
  {
   "cell_type": "markdown",
   "metadata": {},
   "source": [
    "# 8. Lists"
   ]
  },
  {
   "cell_type": "code",
   "execution_count": 15,
   "metadata": {},
   "outputs": [],
   "source": [
    "# When you want a group of elements as a SINGLE ENTITY then will go for LISTs\n",
    "\n",
    "# Duplicates are allowed and Insertion order is preserved\n",
    "# List is Mutable and represent using [ ]\n",
    "# Heterogeneous objects are allowed (Int and Strings)\n",
    "# list is Dynamic (Add or Remove the elements)\n",
    "# Slicing is possible\n",
    "\n",
    "l1=list([])  # Empty list or with constructer\n",
    "\n",
    "l2=list([1, 2, 3])\n",
    "\n",
    "l3=list(['Ravi', 'Raju', 'Lingu'])\n",
    "\n",
    "l4=list(range(0,6))\n",
    "\n",
    "l5=list('xyz')\n",
    "\n",
    "l6=list([2, 2.5, 'Apple'])  # All types\n",
    "\n",
    "lg=[1,6,7]    # without constructer\n",
    "\n",
    "l8=['Apple', 'Banana']"
   ]
  },
  {
   "cell_type": "code",
   "execution_count": 46,
   "metadata": {},
   "outputs": [
    {
     "name": "stdout",
     "output_type": "stream",
     "text": [
      "[10, 20, 'Hello', 30, 'hey', 40, 50, 60]\n",
      "30\n",
      "50\n",
      "[30, 'hey']\n",
      "[10, 'Hello', 'hey', 50]\n",
      "[10, 20]\n",
      "[60, 50, 40, 'hey', 30, 'Hello', 20, 10]\n",
      "[60, 50, 40, 'hey', 30, 'Hello', 20]\n",
      "8\n",
      "------------------------------\n",
      "75\n",
      "44\n",
      "179\n",
      "Ravi\n",
      "Lingu\n"
     ]
    }
   ],
   "source": [
    "import random\n",
    "\n",
    "L1=[10, 20, 'Hello', 30, 'hey', 40, 50,60]\n",
    "print(L1)\n",
    "print(L1[3])\n",
    "print(L1[-2]) # Negative Index\n",
    "print(L1[3:5])   # Slicing\n",
    "print(L1[0:8:2])   #Slicing with stepsize\n",
    "print(L1[:2])\n",
    "print(L1[::-1])\n",
    "print(L1[-1:0:-1])\n",
    "print(len(L1))\n",
    "print('------------------------------')\n",
    "L2=[60, 44, 75]\n",
    "print(max(L2))\n",
    "print(min(L2))\n",
    "print(sum(L2))\n",
    "random.shuffle(L2)\n",
    "\n",
    "L3=['Ravi', 'Raju', 'Lingu']\n",
    "print(max(L3))\n",
    "print(min(L3))\n"
   ]
  },
  {
   "cell_type": "code",
   "execution_count": 51,
   "metadata": {},
   "outputs": [
    {
     "name": "stdout",
     "output_type": "stream",
     "text": [
      "[10, 20, 30, 40]\n",
      "L4 is [10, 20, 10, 20]\n"
     ]
    },
    {
     "data": {
      "text/plain": [
       "True"
      ]
     },
     "execution_count": 51,
     "metadata": {},
     "output_type": "execute_result"
    }
   ],
   "source": [
    "L1 = [10, 20]\n",
    "L2 = [30, 40]\n",
    "\n",
    "L3 = L1+L2\n",
    "print(L3)\n",
    "\n",
    "L4 = L1*2\n",
    "print('L4 is', L4)\n",
    "\n",
    "# L5 = L1*L2 (can't multiply sequence by non-int of type 'list')\n",
    "\n",
    "\n",
    "40 in L2"
   ]
  },
  {
   "cell_type": "code",
   "execution_count": 54,
   "metadata": {},
   "outputs": [
    {
     "name": "stdout",
     "output_type": "stream",
     "text": [
      "True\n"
     ]
    },
    {
     "data": {
      "text/plain": [
       "False"
      ]
     },
     "execution_count": 54,
     "metadata": {},
     "output_type": "execute_result"
    }
   ],
   "source": [
    "A = 'Microsoft'\n",
    "B = 'Microsoft'\n",
    "print(A is B)\n",
    "\n",
    "C = [1,2,3]\n",
    "D = [1,2,3]\n",
    "C is D"
   ]
  },
  {
   "cell_type": "code",
   "execution_count": 62,
   "metadata": {},
   "outputs": [
    {
     "name": "stdout",
     "output_type": "stream",
     "text": [
      "[]\n"
     ]
    }
   ],
   "source": [
    "lst = [10,20,30,50,80,44]\n",
    "\n",
    "del lst[2]\n",
    "\n",
    "\n",
    "del lst[-2]\n",
    "\n",
    "del lst[2:6]\n",
    "\n",
    "del lst[:]\n",
    "print(lst)"
   ]
  },
  {
   "cell_type": "markdown",
   "metadata": {},
   "source": [
    "## List Comprehesions\n",
    "#### (Compute the expression for the element in a sequence if the condition is True)"
   ]
  },
  {
   "cell_type": "code",
   "execution_count": 2,
   "metadata": {},
   "outputs": [
    {
     "data": {
      "text/plain": [
       "[20, 30, 40, 50, 65]"
      ]
     },
     "execution_count": 2,
     "metadata": {},
     "output_type": "execute_result"
    }
   ],
   "source": [
    "lst1=[10, 20, 30, 40, 55]\n",
    "lst1 = [x+10 for x in lst1]\n",
    "lst1"
   ]
  },
  {
   "cell_type": "code",
   "execution_count": 4,
   "metadata": {},
   "outputs": [
    {
     "data": {
      "text/plain": [
       "[10, 20, 30, 40]"
      ]
     },
     "execution_count": 4,
     "metadata": {},
     "output_type": "execute_result"
    }
   ],
   "source": [
    "lst1=[10, 20, 30, 40, 55]\n",
    "lst2=[x for x in lst1 if x%2==0]\n",
    "lst2"
   ]
  },
  {
   "cell_type": "code",
   "execution_count": 13,
   "metadata": {},
   "outputs": [
    {
     "name": "stdout",
     "output_type": "stream",
     "text": [
      "List A [0, 1, 4, 9, 16, 25, 36, 49, 64, 81, 100]\n",
      "List B [0, 1, 8, 27, 64, 125, 216, 343, 512, 729, 1000]\n",
      "Only Even numbers from ListA [0, 4, 16, 36, 64, 100]\n"
     ]
    }
   ],
   "source": [
    "print('List A ', end='')\n",
    "lst1=[x**2 for x in range(11)]\n",
    "print(lst1)\n",
    "\n",
    "print('List B ', end='')\n",
    "lst2=[x**3 for x in range(11)]\n",
    "print(lst2)\n",
    "\n",
    "print('Only Even numbers from ListA ', end='')\n",
    "lst3=[x for x in lst1 if x%2==0]\n",
    "print(lst3)"
   ]
  },
  {
   "cell_type": "code",
   "execution_count": 15,
   "metadata": {},
   "outputs": [
    {
     "data": {
      "text/plain": [
       "[50.0, 68.0, 88.34, 104.0, 102.56]"
      ]
     },
     "execution_count": 15,
     "metadata": {},
     "output_type": "execute_result"
    }
   ],
   "source": [
    "celcius=[10, 20, 31.3, 40, 39.2]\n",
    "fahren=[((9/5)*x+32) for x in celcius]\n",
    "fahren"
   ]
  },
  {
   "cell_type": "code",
   "execution_count": 18,
   "metadata": {},
   "outputs": [
    {
     "name": "stdout",
     "output_type": "stream",
     "text": [
      "List without sort [4, 5.1, 'hi', 2.1, 5, 'Hey']\n",
      "List with sort by integer [4, 5]\n"
     ]
    }
   ],
   "source": [
    "print('List without sort ',end='')\n",
    "lst1=[4, 5.1, 'hi', 2.1, 5, 'Hey']\n",
    "print(lst1)\n",
    "\n",
    "print('List with sort by integer ',end='')\n",
    "lst2=[x for x in lst1 if type(x)==int]\n",
    "print(lst2)\n"
   ]
  },
  {
   "cell_type": "code",
   "execution_count": 55,
   "metadata": {},
   "outputs": [
    {
     "name": "stdout",
     "output_type": "stream",
     "text": [
      "['A', 'B', 'C']\n",
      "['A', 'B', 'C', 'A']\n",
      "list 2 is ['A', 'B', 'C', 'A']\n",
      "Extende List1 is ['A', 'B', 'C', 'A', 51, 21, 2]\n",
      "Popped List ['A', 'B', 'C', 'A', 21, 2]\n",
      "Last element popped from List ['A', 'B', 'C', 'A', 21]\n",
      "Removed the first occurrence of element from List ['B', 'C', 'A', 21]\n",
      "Removed the first occurrence of element from List ['B', 'C', 'A']\n",
      "Reversed List ['A', 'C', 'B']\n",
      "Sorted List ['A', 'B', 'C']\n"
     ]
    }
   ],
   "source": [
    "lst1 = ['A', 'B', 'C']\n",
    "print(lst1)\n",
    "\n",
    "lst1.append('A')\n",
    "print(lst1)\n",
    "\n",
    "lst1.count('A')\n",
    "\n",
    "print('list 2 is ',end='')\n",
    "lst2=lst1.copy()\n",
    "print(lst2)\n",
    "\n",
    "print('Extende List1 is ', end='')\n",
    "lst3=[51, 21, 2]\n",
    "lst1.extend(lst3)\n",
    "print(lst1)\n",
    "\n",
    "lst1.index('B')\n",
    "\n",
    "print('Popped List ', end='')\n",
    "lst1.pop(4)\n",
    "print(lst1)\n",
    "\n",
    "print('Last element popped from List ', end='')\n",
    "lst1.pop()\n",
    "print(lst1)\n",
    "\n",
    "print('Removed the first occurrence of element from List ', end='')\n",
    "lst1.remove('A')\n",
    "print(lst1)\n",
    "\n",
    "print('Removed the first occurrence of element from List ', end='')\n",
    "lst1.remove(21)\n",
    "print(lst1)\n",
    "\n",
    "print('Reversed List ', end='')\n",
    "lst1.reverse()\n",
    "print(lst1)\n",
    "\n",
    "print('Sorted List ', end='')\n",
    "lst1.sort()\n",
    "print(lst1)"
   ]
  },
  {
   "cell_type": "code",
   "execution_count": 15,
   "metadata": {},
   "outputs": [
    {
     "name": "stdout",
     "output_type": "stream",
     "text": [
      "Split list: ['Wow', 'Incredible', 'India']\n",
      "Eliminated Delimiter: ['My', 'date', 'of', 'birth', 'year', 'is', '1991']\n"
     ]
    }
   ],
   "source": [
    "l='Python'\n",
    "l2=list(l)\n",
    "l2\n",
    "\n",
    "str1='Wow!!!! Incredible India'\n",
    "str2=str1.split()\n",
    "str2\n",
    "\n",
    "#OR\n",
    "\n",
    "print('Split list: ',end='')\n",
    "str3='Wow Incredible India'.split()\n",
    "print(str3)\n",
    "\n",
    "print('Eliminated Delimiter: ',end='')\n",
    "str4='My-date-of-birth-year-is-1991'.split('-')\n",
    "print(str4)"
   ]
  },
  {
   "cell_type": "code",
   "execution_count": 19,
   "metadata": {},
   "outputs": [
    {
     "name": "stdout",
     "output_type": "stream",
     "text": [
      "10 20 30 54 "
     ]
    }
   ],
   "source": [
    "def print_lst(lst):\n",
    "    for num in lst:\n",
    "        print(num, end=' ')\n",
    "        #return num\n",
    "lst =[10, 20, 30, 54]\n",
    "print_lst(lst)"
   ]
  },
  {
   "cell_type": "code",
   "execution_count": 23,
   "metadata": {},
   "outputs": [
    {
     "name": "stdout",
     "output_type": "stream",
     "text": [
      "Average value is:  51.67\n"
     ]
    }
   ],
   "source": [
    "def avg_calc(num):\n",
    "    sumlst=sum(num)\n",
    "    avg=sumlst/len(num)\n",
    "    return avg\n",
    "num=[20, 51, 84]\n",
    "print('Average value is: ',format(avg_calc(num),'.2f'))"
   ]
  },
  {
   "cell_type": "code",
   "execution_count": 31,
   "metadata": {},
   "outputs": [
    {
     "name": "stdout",
     "output_type": "stream",
     "text": [
      "Projected List: [10, 45, 8]\n",
      "Remaining List: [65, 8, 4, 70]\n"
     ]
    }
   ],
   "source": [
    "def split_lst(lst, n):\n",
    "    print('Projected List: ',end='')\n",
    "    lst1=lst[:n]\n",
    "    print(lst1)\n",
    "    print('Remaining List: ',end='')\n",
    "    lst2=lst[n:]\n",
    "    print(lst2)\n",
    "lst=[10, 45, 8, 65, 8, 4, 70]\n",
    "split_lst(lst,3)\n"
   ]
  },
  {
   "cell_type": "code",
   "execution_count": 39,
   "metadata": {},
   "outputs": [
    {
     "name": "stdout",
     "output_type": "stream",
     "text": [
      "Reverse List : [70, 4, 8, 65, 8, 45, 10]\n"
     ]
    }
   ],
   "source": [
    "def reverse_lst(lst):\n",
    "    \n",
    "    lst.reverse()\n",
    "    return lst\n",
    "lst=[10, 45, 8, 65, 8, 4, 70]\n",
    "print('Reverse List :',reverse_lst(lst))"
   ]
  },
  {
   "cell_type": "code",
   "execution_count": 51,
   "metadata": {},
   "outputs": [
    {
     "name": "stdout",
     "output_type": "stream",
     "text": [
      "[4, 8, 12, 16, 20]\n"
     ]
    }
   ],
   "source": [
    "def mul_4(k):\n",
    "    lst=[]\n",
    "    \n",
    "    for i in range (1,6):\n",
    "        res = i*k\n",
    "        lst.append(res)\n",
    "    return lst\n",
    "        \n",
    "        \n",
    "print(mul_4(4))"
   ]
  },
  {
   "cell_type": "code",
   "execution_count": 56,
   "metadata": {},
   "outputs": [
    {
     "name": "stdout",
     "output_type": "stream",
     "text": [
      "Even number list: [10, 12, 14, 16, 18]\n"
     ]
    }
   ],
   "source": [
    "def even_num(a,b):\n",
    "    print('Even number list: ',end='')\n",
    "    lst1=[x for x in range(a,b) if x%2==0]\n",
    "    print(lst1)\n",
    "even_num(10,20)"
   ]
  },
  {
   "cell_type": "code",
   "execution_count": 71,
   "metadata": {},
   "outputs": [
    {
     "data": {
      "text/plain": [
       "False"
      ]
     },
     "execution_count": 71,
     "metadata": {},
     "output_type": "execute_result"
    }
   ],
   "source": [
    "def pelindrom_list(lst):\n",
    "    r=lst[::-1]\n",
    "    for i in range (0, (len(lst)+1)//2):\n",
    "        if r[i]!=lst[i]:\n",
    "            return False\n",
    "    return True\n",
    "lst=[1, 2, 3, 3, 1]\n",
    "pelindrom_list(lst)"
   ]
  },
  {
   "cell_type": "code",
   "execution_count": 9,
   "metadata": {},
   "outputs": [
    {
     "name": "stdout",
     "output_type": "stream",
     "text": [
      "[1, 4, 6, 7, 1]\n",
      "True\n",
      "[1, 4, 6, 7]\n",
      "False\n"
     ]
    }
   ],
   "source": [
    "def check_dup(lst):\n",
    "    dup_lst=[]\n",
    "    for i in lst:\n",
    "        if i not in dup_lst:\n",
    "            dup_lst.append(i)\n",
    "        else:\n",
    "            return True\n",
    "    return False\n",
    "lst = [1, 4,6, 7, 1]\n",
    "print(lst)\n",
    "x=check_dup(lst)\n",
    "print(x)\n",
    "\n",
    "lst1 = [1, 4,6, 7]\n",
    "print(lst1)\n",
    "y = check_dup(lst1)\n",
    "print(y)"
   ]
  },
  {
   "cell_type": "code",
   "execution_count": 12,
   "metadata": {},
   "outputs": [
    {
     "name": "stdout",
     "output_type": "stream",
     "text": [
      "['b', 'c', 'd']\n"
     ]
    }
   ],
   "source": [
    "lst1=['a','b','c','d']\n",
    "lst1=[x for x in lst1 if ord(x)>97]\n",
    "print(lst1)"
   ]
  },
  {
   "cell_type": "code",
   "execution_count": 20,
   "metadata": {},
   "outputs": [
    {
     "name": "stdout",
     "output_type": "stream",
     "text": [
      "D\n",
      "O\n",
      "N\n",
      "A\n",
      "L\n",
      "D\n",
      " \n",
      "T\n",
      "R\n",
      "U\n",
      "M\n",
      "P\n",
      "H\n"
     ]
    }
   ],
   "source": [
    "str = 'DONALD TRUMPH'\n",
    "\n",
    "k=[print(i) for i in str if i not in 'aeiou']\n",
    "\n"
   ]
  },
  {
   "cell_type": "code",
   "execution_count": 21,
   "metadata": {},
   "outputs": [
    {
     "name": "stdout",
     "output_type": "stream",
     "text": [
      "['A', 2, 3]\n"
     ]
    }
   ],
   "source": [
    "def func1(L):\n",
    "    L[0]='A'\n",
    "L1=[1,2,3]\n",
    "func1(L1)\n",
    "print(L1)"
   ]
  },
  {
   "cell_type": "code",
   "execution_count": 22,
   "metadata": {},
   "outputs": [
    {
     "name": "stdout",
     "output_type": "stream",
     "text": [
      "[40, 20]\n"
     ]
    }
   ],
   "source": [
    "lst1=[10, 20]\n",
    "lst2=lst1\n",
    "lst1[0]=40\n",
    "print(lst2)"
   ]
  },
  {
   "cell_type": "markdown",
   "metadata": {},
   "source": [
    "# 9. List Processing: Searching and Sorting\n",
    "### Linear/Sequencial Search\n",
    "### Binary Search"
   ]
  },
  {
   "cell_type": "code",
   "execution_count": 1,
   "metadata": {},
   "outputs": [
    {
     "name": "stdout",
     "output_type": "stream",
     "text": [
      "My list Elements are: \n",
      "[61, 22, 15, 18, 24, 24]\n",
      "Enter the Key element: 24\n",
      "24 is found at the position 5\n"
     ]
    }
   ],
   "source": [
    "def linear_search(my_list, key):\n",
    "    for i in range(len(my_list)):\n",
    "        if (my_list[i]==key):\n",
    "            # print(key,'is found at the position',i)\n",
    "            return i\n",
    "            break\n",
    "    return -1\n",
    "my_list = [61, 22, 15, 18, 24, 24]\n",
    "print('My list Elements are: ')\n",
    "print(my_list)\n",
    "key=int(input('Enter the Key element: '))\n",
    "L1 = linear_search(my_list, key)\n",
    "if (L1!=-1):\n",
    "    print(key,'is found at the position',L1+1)\n",
    "else:\n",
    "    print('Key not found in a List')"
   ]
  },
  {
   "cell_type": "code",
   "execution_count": 16,
   "metadata": {},
   "outputs": [
    {
     "name": "stdout",
     "output_type": "stream",
     "text": [
      "My list Elements are: \n",
      "[61, 5, 35, 84, 7, 98, 75]\n",
      "Enter the Key element: 75\n",
      "Key not found in a List\n"
     ]
    }
   ],
   "source": [
    "def binary_search(my_list, key):\n",
    "    low=0\n",
    "    high=len(my_list)-1\n",
    "    while low<=high:\n",
    "        mid=(low+high)//2\n",
    "        if my_list[mid]==key:\n",
    "            return mid\n",
    "        elif key>my_list[mid]:\n",
    "            low=mid+1\n",
    "        else:\n",
    "            high=mid-1\n",
    "    return -1\n",
    "my_list = [61, 5, 35, 84, 7, 98, 75]\n",
    "print('My list Elements are: ')\n",
    "print(my_list)\n",
    "key=eval(input('Enter the Key element: '))\n",
    "x = binary_search(my_list, key)\n",
    "if (x==-1):\n",
    "    print('Key not found in a List')\n",
    "    \n",
    "else:\n",
    "    print(key,'is found at the position',x+1)"
   ]
  },
  {
   "cell_type": "markdown",
   "metadata": {},
   "source": [
    "# Sorting\n",
    "## Bubble Sorting"
   ]
  },
  {
   "cell_type": "code",
   "execution_count": 27,
   "metadata": {},
   "outputs": [
    {
     "name": "stdout",
     "output_type": "stream",
     "text": [
      "Elements of the List are  [24, 5, 84, 54, 6, 75, 2, 47, 2, 84]\n",
      "[24, 5, 84, 54, 6, 75, 2, 47, 2, 84] at 'i' 9\n",
      "[5, 24, 84, 54, 6, 75, 2, 47, 2, 84] at j 0\n",
      "[5, 24, 84, 54, 6, 75, 2, 47, 2, 84] at j 1\n",
      "[5, 24, 54, 84, 6, 75, 2, 47, 2, 84] at j 2\n",
      "[5, 24, 54, 6, 84, 75, 2, 47, 2, 84] at j 3\n",
      "[5, 24, 54, 6, 75, 84, 2, 47, 2, 84] at j 4\n",
      "[5, 24, 54, 6, 75, 2, 84, 47, 2, 84] at j 5\n",
      "[5, 24, 54, 6, 75, 2, 47, 84, 2, 84] at j 6\n",
      "[5, 24, 54, 6, 75, 2, 47, 2, 84, 84] at j 7\n",
      "[5, 24, 54, 6, 75, 2, 47, 2, 84, 84] at j 8\n",
      "[5, 24, 54, 6, 75, 2, 47, 2, 84, 84] at 'i' 8\n",
      "[5, 24, 54, 6, 75, 2, 47, 2, 84, 84] at j 0\n",
      "[5, 24, 54, 6, 75, 2, 47, 2, 84, 84] at j 1\n",
      "[5, 24, 6, 54, 75, 2, 47, 2, 84, 84] at j 2\n",
      "[5, 24, 6, 54, 75, 2, 47, 2, 84, 84] at j 3\n",
      "[5, 24, 6, 54, 2, 75, 47, 2, 84, 84] at j 4\n",
      "[5, 24, 6, 54, 2, 47, 75, 2, 84, 84] at j 5\n",
      "[5, 24, 6, 54, 2, 47, 2, 75, 84, 84] at j 6\n",
      "[5, 24, 6, 54, 2, 47, 2, 75, 84, 84] at j 7\n",
      "[5, 24, 6, 54, 2, 47, 2, 75, 84, 84] at 'i' 7\n",
      "[5, 24, 6, 54, 2, 47, 2, 75, 84, 84] at j 0\n",
      "[5, 6, 24, 54, 2, 47, 2, 75, 84, 84] at j 1\n",
      "[5, 6, 24, 54, 2, 47, 2, 75, 84, 84] at j 2\n",
      "[5, 6, 24, 2, 54, 47, 2, 75, 84, 84] at j 3\n",
      "[5, 6, 24, 2, 47, 54, 2, 75, 84, 84] at j 4\n",
      "[5, 6, 24, 2, 47, 2, 54, 75, 84, 84] at j 5\n",
      "[5, 6, 24, 2, 47, 2, 54, 75, 84, 84] at j 6\n",
      "[5, 6, 24, 2, 47, 2, 54, 75, 84, 84] at 'i' 6\n",
      "[5, 6, 24, 2, 47, 2, 54, 75, 84, 84] at j 0\n",
      "[5, 6, 24, 2, 47, 2, 54, 75, 84, 84] at j 1\n",
      "[5, 6, 2, 24, 47, 2, 54, 75, 84, 84] at j 2\n",
      "[5, 6, 2, 24, 47, 2, 54, 75, 84, 84] at j 3\n",
      "[5, 6, 2, 24, 2, 47, 54, 75, 84, 84] at j 4\n",
      "[5, 6, 2, 24, 2, 47, 54, 75, 84, 84] at j 5\n",
      "[5, 6, 2, 24, 2, 47, 54, 75, 84, 84] at 'i' 5\n",
      "[5, 6, 2, 24, 2, 47, 54, 75, 84, 84] at j 0\n",
      "[5, 2, 6, 24, 2, 47, 54, 75, 84, 84] at j 1\n",
      "[5, 2, 6, 24, 2, 47, 54, 75, 84, 84] at j 2\n",
      "[5, 2, 6, 2, 24, 47, 54, 75, 84, 84] at j 3\n",
      "[5, 2, 6, 2, 24, 47, 54, 75, 84, 84] at j 4\n",
      "[5, 2, 6, 2, 24, 47, 54, 75, 84, 84] at 'i' 4\n",
      "[2, 5, 6, 2, 24, 47, 54, 75, 84, 84] at j 0\n",
      "[2, 5, 6, 2, 24, 47, 54, 75, 84, 84] at j 1\n",
      "[2, 5, 2, 6, 24, 47, 54, 75, 84, 84] at j 2\n",
      "[2, 5, 2, 6, 24, 47, 54, 75, 84, 84] at j 3\n",
      "[2, 5, 2, 6, 24, 47, 54, 75, 84, 84] at 'i' 3\n",
      "[2, 5, 2, 6, 24, 47, 54, 75, 84, 84] at j 0\n",
      "[2, 2, 5, 6, 24, 47, 54, 75, 84, 84] at j 1\n",
      "[2, 2, 5, 6, 24, 47, 54, 75, 84, 84] at j 2\n",
      "[2, 2, 5, 6, 24, 47, 54, 75, 84, 84] at 'i' 2\n",
      "[2, 2, 5, 6, 24, 47, 54, 75, 84, 84] at j 0\n",
      "[2, 2, 5, 6, 24, 47, 54, 75, 84, 84] at j 1\n",
      "[2, 2, 5, 6, 24, 47, 54, 75, 84, 84] at 'i' 1\n",
      "[2, 2, 5, 6, 24, 47, 54, 75, 84, 84] at j 0\n",
      "Bubble sorted List elements are [2, 2, 5, 6, 24, 47, 54, 75, 84, 84]\n"
     ]
    }
   ],
   "source": [
    "def bubble_sort(my_list):\n",
    "    for i in range(len(my_list)-1, 0, -1):\n",
    "        print(my_list, 'at \\'i\\'',i)\n",
    "        for j in range(i):\n",
    "            #print(my_list,'at j',j)\n",
    "            if my_list[j]>my_list[j+1]:   # It's in Ascending order, if you want descending use my_list[j] < my_list[j+1]\n",
    "                temp, my_list[j] = my_list[j], my_list[j+1]    #Swapping the content\n",
    "                my_list[j+1] = temp\n",
    "            print(my_list,'at j',j)\n",
    "my_list = [24, 5, 84, 54, 6, 75, 2, 47, 2, 84]\n",
    "print('Elements of the List are ',my_list)\n",
    "bubble_sort(my_list)\n",
    "print('Bubble sorted List elements are ',end='')\n",
    "print(my_list)"
   ]
  },
  {
   "cell_type": "markdown",
   "metadata": {},
   "source": [
    "# 10. Object Oriented Programming(Oops):\n",
    "## Class, Objects and Inheritance"
   ]
  },
  {
   "cell_type": "code",
   "execution_count": 4,
   "metadata": {},
   "outputs": [
    {
     "name": "stdout",
     "output_type": "stream",
     "text": [
      "<__main__.Demo object at 0x000002363DC321D0>\n",
      "*****************End of Program*******************\n",
      "Welcome to Object Oriented Programming\n",
      "<__main__.simple_program object at 0x000002363D68C6D8>\n"
     ]
    }
   ],
   "source": [
    "class Demo():\n",
    "    pass\n",
    "D1=Demo()\n",
    "print(D1)\n",
    "print('*****************End of Program*******************')\n",
    "\n",
    "\n",
    "class simple_program():\n",
    "    print('Welcome to Object Oriented Programming')\n",
    "c=simple_program()\n",
    "print(c)"
   ]
  },
  {
   "cell_type": "code",
   "execution_count": 8,
   "metadata": {},
   "outputs": [
    {
     "name": "stdout",
     "output_type": "stream",
     "text": [
      "Leangth:  0\n",
      "Breadth:  0\n",
      "Area of the rectangle:  0\n",
      "****After reassigning the Attributes****\n",
      "Leangth:  30\n",
      "Breadth:  40\n",
      "Area of the rectangle after reassigning:  1200\n"
     ]
    }
   ],
   "source": [
    "class rectangle():  # Class\n",
    "    leangth=0       # Assigning Attributes\n",
    "    breadth=0\n",
    "r1=rectangle()      # Object/Instance of Class\n",
    "print('Leangth: ',r1.leangth)             #Accessing the attribute length and breadth\n",
    "print('Breadth: ',r1.breadth)\n",
    "print('Area of the rectangle: ',r1.leangth*r1.breadth)\n",
    "print('****After reassigning the Attributes****')\n",
    "r1.leangth=30\n",
    "r1.breadth=40\n",
    "print('Leangth: ',r1.leangth)\n",
    "print('Breadth: ',r1.breadth)\n",
    "print('Area of the rectangle after reassigning: ',r1.leangth*r1.breadth)"
   ]
  },
  {
   "cell_type": "markdown",
   "metadata": {},
   "source": [
    "## Adding METHODs to Class"
   ]
  },
  {
   "cell_type": "code",
   "execution_count": 9,
   "metadata": {},
   "outputs": [
    {
     "name": "stdout",
     "output_type": "stream",
     "text": [
      "Welcome to Python Programming\n"
     ]
    }
   ],
   "source": [
    "class methodDemo():\n",
    "    def disp_Message(self):\n",
    "        print('Welcome to Python Programming')\n",
    "c1=methodDemo()\n",
    "c1.disp_Message()"
   ]
  },
  {
   "cell_type": "code",
   "execution_count": 10,
   "metadata": {},
   "outputs": [
    {
     "name": "stdout",
     "output_type": "stream",
     "text": [
      "radius:  4\n"
     ]
    },
    {
     "data": {
      "text/plain": [
       "50.26548245743669"
      ]
     },
     "execution_count": 10,
     "metadata": {},
     "output_type": "execute_result"
    }
   ],
   "source": [
    "import math\n",
    "class calc():\n",
    "    def area_circle(self, radius):\n",
    "        print('radius: ',radius)\n",
    "        return math.pi*radius**2\n",
    "c1=calc()\n",
    "c1.area_circle(4)\n"
   ]
  },
  {
   "cell_type": "code",
   "execution_count": 15,
   "metadata": {},
   "outputs": [
    {
     "name": "stdout",
     "output_type": "stream",
     "text": [
      "Length:  5.1\n",
      "Breadth:  4.2\n",
      "Area of the Rectangle is  21.42\n"
     ]
    }
   ],
   "source": [
    "class rectang():\n",
    "    def are_rect(self, lent, brdt):\n",
    "        print('Length: ',lent)\n",
    "        print('Breadth: ',brdt)\n",
    "        return lent*brdt\n",
    "c2=rectang()\n",
    "print('Area of the Rectangle is ',format(c2.are_rect(5.1,4.2),'.2f'))"
   ]
  },
  {
   "cell_type": "markdown",
   "metadata": {},
   "source": [
    "## Local and Instance Variables"
   ]
  },
  {
   "cell_type": "code",
   "execution_count": 19,
   "metadata": {},
   "outputs": [
    {
     "name": "stdout",
     "output_type": "stream",
     "text": [
      "Local variable x is 30\n",
      "Instance variable x is  30\n"
     ]
    }
   ],
   "source": [
    "class glob:\n",
    "    x=5\n",
    "    def loc(self, x):\n",
    "        x=30\n",
    "        print('Local variable x is',x)\n",
    "        print('Instance variable x is ',x)\n",
    "ob=glob()\n",
    "ob.loc(50)"
   ]
  },
  {
   "cell_type": "code",
   "execution_count": 20,
   "metadata": {},
   "outputs": [
    {
     "name": "stdout",
     "output_type": "stream",
     "text": [
      "Local variable x is 30\n",
      "Instance variable x is  5\n"
     ]
    }
   ],
   "source": [
    "class glob:\n",
    "    x=5\n",
    "    def loc(self, x):\n",
    "        x=30\n",
    "        print('Local variable x is',x)\n",
    "        print('Instance variable x is ',self.x)\n",
    "ob=glob()\n",
    "ob.loc(50)"
   ]
  },
  {
   "cell_type": "code",
   "execution_count": 22,
   "metadata": {},
   "outputs": [
    {
     "name": "stdout",
     "output_type": "stream",
     "text": [
      "In Method B calling Method A\n",
      "In Method A\n",
      "Wow!! calling from Method A\n"
     ]
    }
   ],
   "source": [
    "class self_Demo:\n",
    "    def method_A(self):\n",
    "        print('In Method A')\n",
    "        print('Wow!! calling from Method A')\n",
    "    def method_B(self):\n",
    "        print('In Method B calling Method A')\n",
    "        self.method_A()\n",
    "ob=self_Demo()\n",
    "ob.method_B()"
   ]
  },
  {
   "cell_type": "code",
   "execution_count": 26,
   "metadata": {},
   "outputs": [
    {
     "name": "stdout",
     "output_type": "stream",
     "text": [
      "Enter the Name prakash\n",
      "Name:  prakash\n",
      "Enter the Age 29\n",
      "Age:  29\n"
     ]
    },
    {
     "data": {
      "text/plain": [
       "mappingproxy({'__module__': '__main__',\n",
       "              'Name': '',\n",
       "              'Age': '',\n",
       "              'read': <function __main__.dispDemo.read(self)>,\n",
       "              '__dict__': <attribute '__dict__' of 'dispDemo' objects>,\n",
       "              '__weakref__': <attribute '__weakref__' of 'dispDemo' objects>,\n",
       "              '__doc__': None})"
      ]
     },
     "execution_count": 26,
     "metadata": {},
     "output_type": "execute_result"
    }
   ],
   "source": [
    "class dispDemo():\n",
    "    Name =''\n",
    "    Age=''\n",
    "    def read(self):\n",
    "        name = input('Enter the Name ')\n",
    "        print('Name: ',name)\n",
    "        age = input('Enter the Age ')\n",
    "        print('Age: ',age)\n",
    "ob=dispDemo()\n",
    "ob.read()\n",
    "\n",
    "dispDemo.__dict__\n",
    "    "
   ]
  },
  {
   "cell_type": "code",
   "execution_count": 5,
   "metadata": {},
   "outputs": [
    {
     "data": {
      "text/plain": [
       "['__class__',\n",
       " '__delattr__',\n",
       " '__dict__',\n",
       " '__dir__',\n",
       " '__doc__',\n",
       " '__eq__',\n",
       " '__format__',\n",
       " '__ge__',\n",
       " '__getattribute__',\n",
       " '__gt__',\n",
       " '__hash__',\n",
       " '__init__',\n",
       " '__init_subclass__',\n",
       " '__le__',\n",
       " '__lt__',\n",
       " '__module__',\n",
       " '__ne__',\n",
       " '__new__',\n",
       " '__reduce__',\n",
       " '__reduce_ex__',\n",
       " '__repr__',\n",
       " '__setattr__',\n",
       " '__sizeof__',\n",
       " '__str__',\n",
       " '__subclasshook__',\n",
       " '__weakref__']"
      ]
     },
     "execution_count": 5,
     "metadata": {},
     "output_type": "execute_result"
    }
   ],
   "source": [
    "class demo():\n",
    "    pass\n",
    "d1=demo()   #It neighter contain a Method as well as Class\n",
    "\n",
    "dir(d1)"
   ]
  },
  {
   "cell_type": "code",
   "execution_count": 17,
   "metadata": {},
   "outputs": [
    {
     "name": "stdout",
     "output_type": "stream",
     "text": [
      "Name:  Bill Gates\n",
      "Name:  Bill Gates\n",
      "Account Number:  10101\n"
     ]
    }
   ],
   "source": [
    "class Person:\n",
    "    def __init__(self):\n",
    "        self.name='Bill Gates'\n",
    "        self.__BankAccNo=10101\n",
    "    \n",
    "    def display(self):\n",
    "        print('Name: ',self.name)\n",
    "        print('Account Number: ',self.__BankAccNo)\n",
    "    \n",
    "d1=Person()\n",
    "print('Name: ',d1.name)   # Accessing the Public attribute outside the class\n",
    "\n",
    "# print('Account: ',d1.__BankAccNo)    # Accessing the PRIVATE attribute outside the class but it got FAILS\n",
    "\n",
    "d1.display()"
   ]
  },
  {
   "cell_type": "markdown",
   "metadata": {},
   "source": [
    "## __init__ Method(Constructer)"
   ]
  },
  {
   "cell_type": "code",
   "execution_count": 20,
   "metadata": {},
   "outputs": [
    {
     "name": "stdout",
     "output_type": "stream",
     "text": [
      "Area of the circle is 84.96\n"
     ]
    }
   ],
   "source": [
    "class circle:\n",
    "    def __init__(self, pi):\n",
    "        self.pi = pi\n",
    "    \n",
    "    def calc_area(self, radius):\n",
    "        return self.pi*radius**2\n",
    "    \n",
    "c1=circle(3.142)  # We do not EXPLICITLY calling __init__ method\n",
    "print('Area of the circle is',format(c1.calc_area(5.2),'0.2f'))"
   ]
  },
  {
   "cell_type": "code",
   "execution_count": 22,
   "metadata": {},
   "outputs": [
    {
     "name": "stdout",
     "output_type": "stream",
     "text": [
      "Area of the circle is 265.94\n"
     ]
    }
   ],
   "source": [
    "class circle:\n",
    "    pi=0\n",
    "    radius=0\n",
    "    def __init__(self):\n",
    "        self.pi=3.142\n",
    "        self.radius=9.2\n",
    "        \n",
    "    def calc_cir(self):\n",
    "        return self.pi*self.radius**2\n",
    "    \n",
    "c1=circle()  # We do not EXPLICITLY calling __init__ method\n",
    "print('Area of the circle is',format(c1.calc_cir(),'0.2f'))"
   ]
  },
  {
   "cell_type": "markdown",
   "metadata": {},
   "source": [
    "## Method Overloading: Having Multiple Methods with same names"
   ]
  },
  {
   "cell_type": "code",
   "execution_count": 29,
   "metadata": {},
   "outputs": [
    {
     "name": "stdout",
     "output_type": "stream",
     "text": [
      "72\n",
      "I Love Python \n"
     ]
    }
   ],
   "source": [
    "class Overload:\n",
    "    result=0\n",
    "    def add (self, instanceof=None, *args):\n",
    "        if instanceof=='int':\n",
    "            self.result=0\n",
    "        if instanceof=='str':\n",
    "            self.result=''\n",
    "        for i in args:\n",
    "            self.result=self.result+i\n",
    "        return self.result\n",
    "    \n",
    "D1=Overload()   \n",
    "print(D1.add('int', 10,5,57))\n",
    "print(D1.add('str', 'I ','Love ','Python '))"
   ]
  },
  {
   "cell_type": "code",
   "execution_count": 33,
   "metadata": {},
   "outputs": [
    {
     "name": "stdout",
     "output_type": "stream",
     "text": [
      "welcome\n",
      "None\n",
      "Welcome Prakash\n",
      "None\n"
     ]
    }
   ],
   "source": [
    "class methodoverloading:\n",
    "    def greeting(self, name=None):\n",
    "        if name is not None:\n",
    "            print('Welcome '+name)\n",
    "        else:\n",
    "            print('welcome')\n",
    "ob=methodoverloading()\n",
    "print(ob.greeting())\n",
    "print(ob.greeting('Prakash'))\n"
   ]
  },
  {
   "cell_type": "markdown",
   "metadata": {},
   "source": [
    "# Inheritance:\n",
    "### It's most useful characterstic of Oops, It is creating the new class from the existing classes\n",
    "\n",
    "### Single Inheritance\n",
    "### MultiClass Inheritance\n",
    "### MultiLevel Inheritance"
   ]
  },
  {
   "cell_type": "code",
   "execution_count": 34,
   "metadata": {},
   "outputs": [
    {
     "name": "stdout",
     "output_type": "stream",
     "text": [
      "Locate X point 20 on X axis\n",
      "Locate Y point 30 on Y axis\n"
     ]
    }
   ],
   "source": [
    "class point:                     # Base Class(Super class)\n",
    "    def set_cordi(self, x, y):\n",
    "        self.x=x\n",
    "        self.y=y\n",
    "        \n",
    "class sub_point(point):          # Derived Class (Sub class)\n",
    "    def draw(self):\n",
    "        print('Locate X point',self.x,'on X axis')\n",
    "        print('Locate Y point',self.y,'on Y axis')\n",
    "        \n",
    "p=sub_point()         #Instance of Derived class\n",
    "p.set_cordi(20, 30)\n",
    "p.draw()"
   ]
  },
  {
   "cell_type": "markdown",
   "metadata": {},
   "source": [
    "### MultiLevel Inheritance"
   ]
  },
  {
   "cell_type": "code",
   "execution_count": 3,
   "metadata": {},
   "outputs": [
    {
     "name": "stdout",
     "output_type": "stream",
     "text": [
      "Please Enter the details \n",
      "Enter the Name Prakash\n",
      "Enter the Age 29\n",
      "Eneter the weight 75\n",
      "Enter the height 5.6\n",
      "\n",
      "Details are as below\n",
      "Name  Prakash\n",
      "Age  29\n",
      "Weight  75\n",
      "Height  5.6\n"
     ]
    }
   ],
   "source": [
    "class A:\n",
    "    name = ''\n",
    "    age = 0\n",
    "\n",
    "class B(A):\n",
    "    weight = ''\n",
    "    \n",
    "class C(B):\n",
    "    height = ''\n",
    "    \n",
    "    def read(self):\n",
    "        print('Please Enter the details ')\n",
    "        self.name = input('Enter the Name ')\n",
    "        self.age = int(input('Enter the Age '))\n",
    "        self.weight = int(input('Eneter the weight '))\n",
    "        self.height = eval(input('Enter the height '))\n",
    "        \n",
    "    def display(self):\n",
    "        print()\n",
    "        print('Details are as below')\n",
    "        print('Name ',self.name)\n",
    "        print('Age ',self.age)\n",
    "        print('Weight ',self.weight)\n",
    "        print('Height ',self.height)       \n",
    "        \n",
    "ob = C()\n",
    "ob.read()\n",
    "ob.display()"
   ]
  },
  {
   "cell_type": "markdown",
   "metadata": {},
   "source": [
    "### Multiclass Inheritance"
   ]
  },
  {
   "cell_type": "code",
   "execution_count": 7,
   "metadata": {},
   "outputs": [
    {
     "name": "stdout",
     "output_type": "stream",
     "text": [
      "Enter the value of a 5\n",
      "Enter the value of b 4\n",
      "Enter the value of c8\n",
      "\n",
      "a = 5\n",
      "b = 4\n",
      "c = 8\n"
     ]
    }
   ],
   "source": [
    "class A:\n",
    "    a = 0\n",
    "\n",
    "class B:    # This is the MAIN difference\n",
    "    b = 0\n",
    "    \n",
    "class C(A, B):     # Multiclass\n",
    "    c = 0\n",
    "    \n",
    "    def read(self):\n",
    "        self.a = input('Enter the value of a ')\n",
    "        self.b = input('Enter the value of b ')\n",
    "        self.c = input('Enter the value of c ')\n",
    "        \n",
    "    def display(self):\n",
    "        print()\n",
    "        print('a =',self.a)\n",
    "        print('b =',self.b)\n",
    "        print('c =',self.c)     \n",
    "        \n",
    "ob = C()\n",
    "ob.read()\n",
    "ob.display()"
   ]
  },
  {
   "cell_type": "code",
   "execution_count": 15,
   "metadata": {},
   "outputs": [
    {
     "name": "stdout",
     "output_type": "stream",
     "text": [
      "Welcome\n"
     ]
    }
   ],
   "source": [
    "class A:\n",
    "    def __init__(self):\n",
    "        self.s='Welcome'\n",
    "    def display(self):\n",
    "        print(self.s)\n",
    "        \n",
    "a=A()\n",
    "a.display()    "
   ]
  },
  {
   "cell_type": "markdown",
   "metadata": {},
   "source": [
    "# 11. Tuples, Sets and Dictionaries\n",
    "## Tuples : Read only version of List is known as tuple"
   ]
  },
  {
   "cell_type": "code",
   "execution_count": 33,
   "metadata": {},
   "outputs": [
    {
     "name": "stdout",
     "output_type": "stream",
     "text": [
      "P\n",
      "A\n",
      "5\n",
      "2\n",
      "1\n",
      "End of Inbuilt functions\n",
      "\n",
      "T\n",
      "O\n",
      "PY\n",
      "NOH\n",
      "End of Slicing and Indexing\n",
      "\n",
      "(2, 8, 9, 7)\n",
      "(2, 8, 2, 8, 2, 8)\n"
     ]
    }
   ],
   "source": [
    "# Tuple is IMMUTABLE (no changes)\n",
    "# Single value in parenthesis is not a tuple\n",
    "# t1 =(4,) Its a Tuple\n",
    "# t1 =(4) Its a Int\n",
    "\n",
    "t1 = ()   # Empty Tuple\n",
    "t1 = tuple()   # Empty Tuple\n",
    "t2 = (4, 6, 6, 8, 9)\n",
    "t3 = ('a', 'b', 'g')\n",
    "t4 = 'a', 'b', 'g'\n",
    "\n",
    "type(t1)\n",
    "\n",
    "\n",
    "t5 = 'NOKIA'     # its a STRING\n",
    "type(t5)\n",
    "\n",
    "t6 = tuple('NOKIA')    # Its a Tuple\n",
    "t6\n",
    "\n",
    "\n",
    "t7 = ('APPLE')\n",
    "\n",
    "print(max(t7))\n",
    "print(min(t7))\n",
    "print(len(t7))\n",
    "print(t7.count('P'))\n",
    "print(t7.index('P'))\n",
    "print('End of Inbuilt functions')\n",
    "print()\n",
    "\n",
    "\n",
    "t8 = ('PYTHON')\n",
    "\n",
    "print(t8[2])\n",
    "print(t8[-2])\n",
    "print(t8[:2])\n",
    "print(t8[:2:-1])\n",
    "print('End of Slicing and Indexing')\n",
    "print()\n",
    "\n",
    "\n",
    "t9=(2, 8)\n",
    "t10=(9, 7)\n",
    "\n",
    "print(t9+t10)   # Concantination\n",
    "print(t9*3)     # Repetition"
   ]
  },
  {
   "cell_type": "code",
   "execution_count": 35,
   "metadata": {},
   "outputs": [
    {
     "name": "stdout",
     "output_type": "stream",
     "text": [
      "16\n",
      "None\n",
      "15\n",
      "None\n"
     ]
    }
   ],
   "source": [
    "def sum_all(*args):\n",
    "    t=()\n",
    "    s=0\n",
    "    for i in args:\n",
    "        s=s+i\n",
    "    print(s)\n",
    "    \n",
    "print(sum_all(1, 2, 5, 8))\n",
    "print(sum_all( 2, 5, 8))"
   ]
  },
  {
   "cell_type": "markdown",
   "metadata": {},
   "source": [
    "### Conversion of List to Tuple"
   ]
  },
  {
   "cell_type": "code",
   "execution_count": 37,
   "metadata": {},
   "outputs": [
    {
     "name": "stdout",
     "output_type": "stream",
     "text": [
      "<class 'list'>\n",
      "<class 'tuple'>\n"
     ]
    },
    {
     "data": {
      "text/plain": [
       "(1, 8, 9)"
      ]
     },
     "execution_count": 37,
     "metadata": {},
     "output_type": "execute_result"
    }
   ],
   "source": [
    "l1=[1, 8, 9]\n",
    "print(type(l1))\n",
    "\n",
    "t1=tuple(l1)\n",
    "print(type(t1))\n",
    "t1"
   ]
  },
  {
   "cell_type": "markdown",
   "metadata": {},
   "source": [
    "### Sorting the Tuple"
   ]
  },
  {
   "cell_type": "code",
   "execution_count": 41,
   "metadata": {},
   "outputs": [
    {
     "name": "stdout",
     "output_type": "stream",
     "text": [
      "[3, 8, 4, 95, 1, 74]\n",
      "<class 'list'>\n",
      "(1, 3, 4, 8, 74, 95)\n",
      "<class 'tuple'>\n"
     ]
    }
   ],
   "source": [
    "# We don't have the SORT inbuilt method to tuple so, we have to convert the Tuple to list then SORT then revert it back to tuple\n",
    "\n",
    "t1=(3, 8, 4, 95, 1, 74)\n",
    "l1=list(t1)\n",
    "print(l1)\n",
    "print(type(l1))\n",
    "l1.sort()\n",
    "t2=tuple(l1)\n",
    "print(t2)\n",
    "print(type(t2))"
   ]
  },
  {
   "cell_type": "markdown",
   "metadata": {},
   "source": [
    "### The zip() function"
   ]
  },
  {
   "cell_type": "code",
   "execution_count": 51,
   "metadata": {},
   "outputs": [
    {
     "name": "stdout",
     "output_type": "stream",
     "text": [
      "((1, 'Sam', 1), (5, 'Joshu', 'Four'), (9, 'Raveena', 9))\n"
     ]
    },
    {
     "data": {
      "text/plain": [
       "tuple"
      ]
     },
     "execution_count": 51,
     "metadata": {},
     "output_type": "execute_result"
    }
   ],
   "source": [
    "l1 = [1, 5, 9]\n",
    "l2 = ['Sam', 'Joshu', 'Raveena']\n",
    "l3 = [1, 'Four', 9]\n",
    "l4 = tuple(zip(l1,l2,l3))    # you can use LIST as well as TUPLE\n",
    "print(l4)\n",
    "type(l4)"
   ]
  },
  {
   "cell_type": "code",
   "execution_count": 52,
   "metadata": {},
   "outputs": [
    {
     "name": "stdout",
     "output_type": "stream",
     "text": [
      "('Black', 0)\n",
      "('White', 255)\n",
      "('Gray', 126)\n"
     ]
    }
   ],
   "source": [
    "l1 = ['Black', 'White', 'Gray']\n",
    "l2 = [0, 255, 126]\n",
    "\n",
    "for color,code in zip(l1,l2):\n",
    "    print((color, code))"
   ]
  },
  {
   "cell_type": "markdown",
   "metadata": {},
   "source": [
    "### The zip(*) function : Unpacking the list"
   ]
  },
  {
   "cell_type": "code",
   "execution_count": 54,
   "metadata": {},
   "outputs": [
    {
     "name": "stdout",
     "output_type": "stream",
     "text": [
      "('Apple', 'Dell')\n",
      "(50000, 30000)\n"
     ]
    }
   ],
   "source": [
    "x = [('Apple', 50000), ('Dell', 30000)]\n",
    "Laptop, Prices = zip(*x)\n",
    "print(Laptop)\n",
    "print(Prices)"
   ]
  },
  {
   "cell_type": "code",
   "execution_count": 55,
   "metadata": {},
   "outputs": [
    {
     "data": {
      "text/plain": [
       "((1, 3, 6), (2, 7, 8))"
      ]
     },
     "execution_count": 55,
     "metadata": {},
     "output_type": "execute_result"
    }
   ],
   "source": [
    "matrix = [(1,2), (3,7), (6,8)]\n",
    "x=zip(*matrix)\n",
    "tuple(x)"
   ]
  },
  {
   "cell_type": "markdown",
   "metadata": {},
   "source": [
    "## Sets"
   ]
  },
  {
   "cell_type": "code",
   "execution_count": 64,
   "metadata": {},
   "outputs": [
    {
     "name": "stdout",
     "output_type": "stream",
     "text": [
      "<class 'set'>\n",
      "{8, 1, 57}\n",
      "True\n",
      "True\n",
      "<class 'set'>\n",
      "{2, 4}\n",
      "<class 'set'>\n",
      "{88, 24, 4}\n",
      "None\n",
      "{68, 5, 100, 9, 10, 47}\n",
      "None\n",
      "{68, 5, 9, 10, 47}\n",
      "True\n",
      "True\n",
      "None\n"
     ]
    }
   ],
   "source": [
    "s=set()        # Empty set\n",
    "print(type(s))\n",
    "\n",
    "l1 = [2, 4, 2]    # List\n",
    "t1 = (4, 88, 24)   # Tuple \n",
    "\n",
    "s1 = {1, 8, 57}    # Creating the set of three elements\n",
    "print(s1)\n",
    "print(1 in s1)    # in and NotIn operater\n",
    "print(58 not in s1)\n",
    "\n",
    "s3 = set(l1)\n",
    "s4 = set(t1)\n",
    "\n",
    "print(type(s3))\n",
    "print(s3)\n",
    "print(type(s4))\n",
    "print(s4)\n",
    "\n",
    "s9 = {47, 5, 68, 9, 10}\n",
    "s8 = {47, 5, 68, 9}\n",
    "s10 = {1, 5}\n",
    "\n",
    "print(s9.add(100))   # Adding\n",
    "print(s9)\n",
    "\n",
    "print(s9.remove(100))   # Removing\n",
    "print(s9)\n",
    "\n",
    "print(s8.issubset(s9))  # Subset\n",
    "\n",
    "print(s9.issuperset(s8))  # Superset\n",
    "\n",
    "print(s10.clear())    # Clearing"
   ]
  },
  {
   "cell_type": "markdown",
   "metadata": {},
   "source": [
    "### Set Operations"
   ]
  },
  {
   "cell_type": "code",
   "execution_count": 68,
   "metadata": {},
   "outputs": [
    {
     "name": "stdout",
     "output_type": "stream",
     "text": [
      "{1, 2, 3, 4, 5, 6}\n",
      "{3, 4}\n",
      "{1, 2}\n",
      "{1, 2, 5, 6}\n"
     ]
    }
   ],
   "source": [
    "s4 = {1, 2, 3, 4}\n",
    "s5 = {3, 4, 5, 6}\n",
    "\n",
    "print(s4.union(s5))   # union() you can use s4 | s5\n",
    "\n",
    "print(s4.intersection(s5))   # intersection() you can use s4 & s5\n",
    "\n",
    "print(s4.difference(s5))   # difference() you can use s4 - s5\n",
    "\n",
    "print(s4.symmetric_difference(s5))   # symmetric_difference() you can use s4 ^ s5"
   ]
  },
  {
   "cell_type": "markdown",
   "metadata": {},
   "source": [
    "## Dictionaries"
   ]
  },
  {
   "cell_type": "code",
   "execution_count": 1,
   "metadata": {},
   "outputs": [
    {
     "name": "stdout",
     "output_type": "stream",
     "text": [
      "<class 'dict'>\n"
     ]
    }
   ],
   "source": [
    "# Dictionariers are Key Value pairs \n",
    "# Key is of any Type and it's act like INDEX operater\n",
    "# Dictionaries does not contain any duplicate Keys\n",
    "\n",
    "\n",
    "d1 = {}   # Empty dictionary\n",
    "print(type(d1))"
   ]
  },
  {
   "cell_type": "markdown",
   "metadata": {},
   "source": [
    "### Different ways of creating dictionaries"
   ]
  },
  {
   "cell_type": "code",
   "execution_count": 28,
   "metadata": {},
   "outputs": [
    {
     "name": "stdout",
     "output_type": "stream",
     "text": [
      "way one {'Name': 'Amit', 'Age': 40}\n",
      "Way two {'Name': 'Amit', 'Age': 40}\n",
      "Way three {'Name': 'Amit', 'Age': 40}\n",
      "After adding the NEW Entry {'Name': 'Amit', 'Age': 40, 'Weight': 75}\n",
      "After Overwring {'Name': 'Prakash', 'Age': 40, 'Weight': 75}\n",
      "After Deleting {'Name': 'Prakash', 'Weight': 75}\n"
     ]
    },
    {
     "data": {
      "text/plain": [
       "'Amit'"
      ]
     },
     "execution_count": 28,
     "metadata": {},
     "output_type": "execute_result"
    }
   ],
   "source": [
    "d1 = {'Name':'Amit', 'Age':40}\n",
    "print('way one',d1)\n",
    "\n",
    "d2 = {}\n",
    "d2['Name'] = 'Amit'\n",
    "d2['Age'] = 40\n",
    "print('Way two',d2)\n",
    "\n",
    "d3 = dict(Name='Amit', Age=40)\n",
    "print('Way three',d3)\n",
    "\n",
    "dict([('Name','Amit'), ('Age',40)])\n",
    "\n",
    "# Adding the New Keys to d1\n",
    "d1['Weight']=75\n",
    "print('After adding the NEW Entry',d1)\n",
    "\n",
    "\n",
    "# It OVERWRITES the value with same Keys\n",
    "d1['Name']='Prakash'\n",
    "print('After Overwring',d1)\n",
    "\n",
    "# DELETING the Items\n",
    "del d1['Age']\n",
    "print('After Deleting',d1)\n",
    "\n",
    "d3['Name']"
   ]
  },
  {
   "cell_type": "markdown",
   "metadata": {},
   "source": [
    "### Formatting and Comparing the Items"
   ]
  },
  {
   "cell_type": "code",
   "execution_count": 29,
   "metadata": {},
   "outputs": [
    {
     "name": "stdout",
     "output_type": "stream",
     "text": [
      "{'Laptop': 'Windows', 'Price Range': 60000}\n",
      "I want to purchase Windows Laptops in the 60000 price range\n",
      "False\n",
      "True\n"
     ]
    }
   ],
   "source": [
    "# Formatting the script\n",
    "\n",
    "D = {}\n",
    "D['Laptop'] = 'Windows'\n",
    "D['Price Range'] = 60000\n",
    "print(D)\n",
    "\n",
    "p ='I want to purchase %(Laptop)s Laptops in the %(Price Range)d price range'%D    # s - sting and d - integer\n",
    "print(p)\n",
    "\n",
    "\n",
    "# comparing the Contents\n",
    "\n",
    "p1 = {'I': 'India', 'A':'America'}\n",
    "p2 = {'I': 'Italy', 'A':'America'}\n",
    "\n",
    "print(p1==p2)\n",
    "print(p1!=p2)\n"
   ]
  },
  {
   "cell_type": "markdown",
   "metadata": {},
   "source": [
    "### Methods of Dictionary class"
   ]
  },
  {
   "cell_type": "code",
   "execution_count": 34,
   "metadata": {},
   "outputs": [
    {
     "name": "stdout",
     "output_type": "stream",
     "text": [
      "dict_keys(['Sachin', 'Virat', 'MahendraSingh', 'Rahul'])\n",
      "dict_values([25000, 18000, 15000, 13000])\n",
      "dict_items([('Sachin', 25000), ('Virat', 18000), ('MahendraSingh', 15000), ('Rahul', 13000)])\n",
      "18000\n",
      "15000\n",
      "After item Popped {'Sachin': 25000, 'Virat': 18000, 'Rahul': 13000}\n",
      "None\n"
     ]
    }
   ],
   "source": [
    "team = {'Sachin':25000, 'Virat':18000, 'MahendraSingh':15000, 'Rahul':13000 }\n",
    "\n",
    "print(team.keys())\n",
    "\n",
    "print(team.values())\n",
    "\n",
    "print(team.items())\n",
    "\n",
    "print(team.get('Virat'))\n",
    "\n",
    "print(team.pop('MahendraSingh'))\n",
    "print('After item Popped',team)\n",
    "\n",
    "print(team.clear())"
   ]
  },
  {
   "cell_type": "code",
   "execution_count": 35,
   "metadata": {},
   "outputs": [
    {
     "name": "stdout",
     "output_type": "stream",
     "text": [
      "Pavan 29\n",
      "Balu 31\n",
      "Angara 29\n"
     ]
    }
   ],
   "source": [
    "roommate = {'Pavan':29, 'Balu':31, 'Angara':29}\n",
    "for key in roommate.keys():\n",
    "    print(key, roommate.get(key))"
   ]
  },
  {
   "cell_type": "markdown",
   "metadata": {},
   "source": [
    "### Nested dictionary"
   ]
  },
  {
   "cell_type": "code",
   "execution_count": 40,
   "metadata": {},
   "outputs": [
    {
     "name": "stdout",
     "output_type": "stream",
     "text": [
      "Name:  Sachin\n",
      "Run scored in ODIs:  18426\n",
      "Run scored in Tests:  15921\n",
      "\n",
      "Name:  Virat\n",
      "Run scored in ODIs:  7212\n",
      "Run scored in Tests:  3254\n",
      "\n"
     ]
    }
   ],
   "source": [
    "players = {'Sachin':{'ODI':18426, 'Test':15921}, 'Virat':{'ODI':7212, 'Test':3254}}\n",
    "\n",
    "for player_Name, player_details in players.items():\n",
    "    print('Name: ',player_Name)\n",
    "    print('Run scored in ODIs: ',player_details['ODI'])\n",
    "    print('Run scored in Tests: ',player_details['Test'])\n",
    "    print()"
   ]
  },
  {
   "cell_type": "code",
   "execution_count": 41,
   "metadata": {},
   "outputs": [
    {
     "name": "stdout",
     "output_type": "stream",
     "text": [
      "{'A': 1, 'P': 2, 'L': 1, 'E': 2}\n"
     ]
    }
   ],
   "source": [
    "def histgram(S):\n",
    "    D = {}          # Empty Dictionary\n",
    "    for C in S:\n",
    "        if C not in D:\n",
    "            D[C] = 1\n",
    "        else:\n",
    "            D[C] = D[C] + 1\n",
    "    return D\n",
    "h = histgram('APPLEE')\n",
    "print(h)"
   ]
  },
  {
   "cell_type": "code",
   "execution_count": 43,
   "metadata": {},
   "outputs": [
    {
     "name": "stdout",
     "output_type": "stream",
     "text": [
      "{1: 1, 2: 4, 3: 9, 4: 16, 5: 25}\n"
     ]
    }
   ],
   "source": [
    "def sqrs_num(S):\n",
    "    D = dict()\n",
    "    for i in range(1, S+1):\n",
    "        D[i] = i*i\n",
    "    return D\n",
    "n = sqrs_num(5)\n",
    "print(n)"
   ]
  },
  {
   "cell_type": "code",
   "execution_count": 44,
   "metadata": {},
   "outputs": [
    {
     "data": {
      "text/plain": [
       "{'Pos': 2, 'Neg': 3}"
      ]
     },
     "execution_count": 44,
     "metadata": {},
     "output_type": "execute_result"
    }
   ],
   "source": [
    "def pos_neg(L):\n",
    "    D = dict()\n",
    "    D['Pos'] = 0\n",
    "    D['Neg'] = 0\n",
    "    for i in L:\n",
    "        if i > 0:\n",
    "            D['Pos'] +=1\n",
    "        else:\n",
    "            D['Neg'] +=1\n",
    "    return D\n",
    "L = [-2, 4, -2, -7, 8]\n",
    "pos_neg(L)"
   ]
  },
  {
   "cell_type": "code",
   "execution_count": 45,
   "metadata": {},
   "outputs": [
    {
     "name": "stdout",
     "output_type": "stream",
     "text": [
      "0\n"
     ]
    }
   ],
   "source": [
    "init_tuple=()\n",
    "print(init_tuple.__len__())"
   ]
  },
  {
   "cell_type": "code",
   "execution_count": 47,
   "metadata": {},
   "outputs": [
    {
     "name": "stdout",
     "output_type": "stream",
     "text": [
      "3\n"
     ]
    }
   ],
   "source": [
    "t = ((1,2),)*7\n",
    "print(len(t[3:6]))"
   ]
  },
  {
   "cell_type": "code",
   "execution_count": 48,
   "metadata": {},
   "outputs": [
    {
     "name": "stdout",
     "output_type": "stream",
     "text": [
      "{(1, 2, 3): 12, (1, 3): 2}\n"
     ]
    }
   ],
   "source": [
    "my_dict = {}\n",
    "my_dict[(1, 2, 3)] = 12\n",
    "my_dict[(1, 3)] = 2\n",
    "print(my_dict)"
   ]
  },
  {
   "cell_type": "code",
   "execution_count": 50,
   "metadata": {},
   "outputs": [
    {
     "data": {
      "text/plain": [
       "25000"
      ]
     },
     "execution_count": 50,
     "metadata": {},
     "output_type": "execute_result"
    }
   ],
   "source": [
    "team = {'Sachin':25000, 'Virat':18000, 'MahendraSingh':15000, 'Rahul':13000 }\n",
    "\n",
    "team['Sachin']"
   ]
  },
  {
   "cell_type": "code",
   "execution_count": 5,
   "metadata": {},
   "outputs": [
    {
     "name": "stdout",
     "output_type": "stream",
     "text": [
      "14\n",
      "i\n",
      "False\n"
     ]
    }
   ],
   "source": [
    "x = (11, 12,(13,'Sachin',14),'Hi')\n",
    "print(x[2][-1])\n",
    "# print(x[-1][2])   out of Range you will get\n",
    "print(x[-1][-1])\n",
    "print(13 in x)"
   ]
  },
  {
   "cell_type": "code",
   "execution_count": 15,
   "metadata": {},
   "outputs": [
    {
     "name": "stdout",
     "output_type": "stream",
     "text": [
      "{1: ['91', 'India'], 2: ['65', 'USA']}\n",
      "{'India': 1, 'USA': 65}\n",
      "{1: 'India', 65: 'USA'}\n",
      "{'India': 1, 'USA': 65}\n"
     ]
    }
   ],
   "source": [
    "d1 = {1:['91', 'India'], 2:['65','USA']}\n",
    "print(d1)\n",
    "\n",
    "#d2 = {['India']:1, ['USA']:65}\n",
    "#print(d2)\n",
    "\n",
    "d3 = {('India'):1, ('USA'):65}\n",
    "print(d3)\n",
    "\n",
    "d4 = {1:'India', 65:'USA'}\n",
    "print(d4)\n",
    "\n",
    "d5 = {'India':1, 'USA':65}\n",
    "print(d5)"
   ]
  },
  {
   "cell_type": "code",
   "execution_count": 18,
   "metadata": {},
   "outputs": [
    {
     "name": "stdout",
     "output_type": "stream",
     "text": [
      "{(1, 2), 3, 4}\n"
     ]
    }
   ],
   "source": [
    "s = {(1,2), 3, 4}\n",
    "print(s)"
   ]
  },
  {
   "cell_type": "code",
   "execution_count": 19,
   "metadata": {},
   "outputs": [
    {
     "name": "stdout",
     "output_type": "stream",
     "text": [
      "Watermelon\n",
      "Banana\n"
     ]
    }
   ],
   "source": [
    "fruits = ('Banana', 'Grapes', 'Mango', 'Watermelon')\n",
    "print(max(fruits))\n",
    "print(min(fruits))"
   ]
  },
  {
   "cell_type": "markdown",
   "metadata": {},
   "source": [
    "# 13. File Handling"
   ]
  },
  {
   "cell_type": "code",
   "execution_count": 23,
   "metadata": {},
   "outputs": [],
   "source": [
    "#F1 = open('Demo.txt','r')  # you should create a one file on directory with fine name Demo\n",
    "\n",
    "\n",
    "def main():\n",
    "    obj = open('Demo.txt','w') \n",
    "    obj.write('Hello \\n')\n",
    "    obj.write('Welcome to Python Programming \\n')\n",
    "main()"
   ]
  },
  {
   "cell_type": "code",
   "execution_count": 26,
   "metadata": {},
   "outputs": [],
   "source": [
    "def main():\n",
    "    obj = open('WriteNum.txt','w')\n",
    "    for x in range (1, 21):\n",
    "        x = str(x)  # Convert int to str , because write() expects str only\n",
    "        obj.write(x)\n",
    "        obj.write(' ')\n",
    "    obj.close()    \n",
    "main()    "
   ]
  },
  {
   "cell_type": "code",
   "execution_count": 27,
   "metadata": {},
   "outputs": [
    {
     "name": "stdout",
     "output_type": "stream",
     "text": [
      "I \n",
      "Love\n",
      "Python\n",
      "Programming\n"
     ]
    }
   ],
   "source": [
    "# Reading the text from file\n",
    "\n",
    "rd = open('ReadDemo.txt','r')\n",
    "text = rd.read()\n",
    "print(text)"
   ]
  },
  {
   "cell_type": "markdown",
   "metadata": {},
   "source": [
    "### The seek() function"
   ]
  },
  {
   "cell_type": "code",
   "execution_count": 30,
   "metadata": {},
   "outputs": [
    {
     "data": {
      "text/plain": [
       "'God, You are Awesome!'"
      ]
     },
     "execution_count": 30,
     "metadata": {},
     "output_type": "execute_result"
    }
   ],
   "source": [
    "# Syntax  File_Object.seek(offset, whence)\n",
    "\n",
    "sk = open('seekDemo.txt','w+')\n",
    "\n",
    "sk.write('oh!God, You are Awesome!')\n",
    "sk.seek(3)\n",
    "sk.readline()"
   ]
  },
  {
   "cell_type": "code",
   "execution_count": 8,
   "metadata": {},
   "outputs": [
    {
     "name": "stdout",
     "output_type": "stream",
     "text": [
      "Monday\n",
      "Tuesday\n",
      "Wednesday\n",
      "Thursday\n",
      "Friday\n",
      "Saturday\n",
      "Sunday\n"
     ]
    }
   ],
   "source": [
    "wd = open('weekDays.txt','w+')\n",
    "wd.write('Monday\\n')\n",
    "wd.write('Tuesday\\n')\n",
    "wd.write('Wednesday\\n')\n",
    "wd.write('Thursday\\n')\n",
    "wd.write('Friday\\n')\n",
    "wd.seek(0)\n",
    "# t = wd.read()\n",
    "# print(t)\n",
    "\n",
    "wd.seek(0, 2)\n",
    "wd.write('Saturday\\n')\n",
    "wd.write('Sunday')\n",
    "wd.seek(0)\n",
    "t = wd.read()\n",
    "print(t)"
   ]
  },
  {
   "cell_type": "markdown",
   "metadata": {},
   "source": [
    "### Directories on Disk"
   ]
  },
  {
   "cell_type": "code",
   "execution_count": 30,
   "metadata": {},
   "outputs": [
    {
     "name": "stdout",
     "output_type": "stream",
     "text": [
      "True\n",
      "False\n",
      "True\n"
     ]
    },
    {
     "data": {
      "text/plain": [
       "0"
      ]
     },
     "execution_count": 30,
     "metadata": {},
     "output_type": "execute_result"
    }
   ],
   "source": [
    "import os\n",
    "\n",
    "# Current working Directary\n",
    "os.getcwd()\n",
    "\n",
    "# Change current Working directary\n",
    "os.chdir('C:\\\\Users\\\\Shivanand\\\\MLProjects')\n",
    "os.getcwd()\n",
    "\n",
    "# File Exist or not\n",
    "print(os.path.isfile('Demo.txt'))\n",
    "print(os.path.isfile('Demo2.txt'))\n",
    "\n",
    "# Directory search\n",
    "print(os.path.isdir('C:\\\\Users\\\\Shivanand\\\\MLProjects'))\n",
    "\n",
    "# Make Directory (Creating new directory)\n",
    "# os.mkdir('Practice')\n",
    "# os.chdir('C:\\\\Users\\\\Shivanand\\\\MLProjects\\\\Practice')\n",
    "# os.getcwd()\n",
    "\n",
    "# Find the list of files and Directories\n",
    "os.listdir('C:\\\\Users\\\\Shivanand\\\\MLProjects')\n",
    "\n",
    "# Rename directory\n",
    "os.chdir('C:\\\\Users\\\\Shivanand\\\\MLProjects\\\\Practice')\n",
    "os.getcwd()\n",
    "os.listdir('C:\\\\Users\\\\Shivanand\\\\MLProjects\\\\Practice')\n",
    "\n",
    "# os.rename('Demo.txt', 'DemoNew.txt')   #Renaming Occures\n",
    "os.listdir('C:\\\\Users\\\\Shivanand\\\\MLProjects\\\\Practice')\n",
    "\n",
    "# Size of the dir\n",
    "os.path.getsize('DemoNew.txt')"
   ]
  },
  {
   "cell_type": "code",
   "execution_count": null,
   "metadata": {},
   "outputs": [],
   "source": []
  }
 ],
 "metadata": {
  "kernelspec": {
   "display_name": "Python 3",
   "language": "python",
   "name": "python3"
  },
  "language_info": {
   "codemirror_mode": {
    "name": "ipython",
    "version": 3
   },
   "file_extension": ".py",
   "mimetype": "text/x-python",
   "name": "python",
   "nbconvert_exporter": "python",
   "pygments_lexer": "ipython3",
   "version": "3.8.3"
  }
 },
 "nbformat": 4,
 "nbformat_minor": 2
}
