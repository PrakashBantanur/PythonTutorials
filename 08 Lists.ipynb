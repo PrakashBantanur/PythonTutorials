{
 "cells": [
  {
   "cell_type": "markdown",
   "metadata": {},
   "source": [
    "## List: Need group of elements as a single entity"
   ]
  },
  {
   "cell_type": "markdown",
   "metadata": {},
   "source": [
    "### Creating a list using list() constructor"
   ]
  },
  {
   "cell_type": "code",
   "execution_count": 9,
   "metadata": {},
   "outputs": [
    {
     "name": "stdout",
     "output_type": "stream",
     "text": [
      "[]\n",
      "[1, 2]\n",
      "['Apple', 'Mango', 'Pine apple']\n",
      "[0, 1, 2, 3, 4, 5]\n",
      "['x', 'y', 'z']\n"
     ]
    }
   ],
   "source": [
    "L1 = list()  # Empty list\n",
    "print(L1)\n",
    "\n",
    "L2 = list([1, 2])\n",
    "print(L2)\n",
    "\n",
    "L3 = list(['Apple', 'Mango', 'Pine apple'])\n",
    "print(L3)\n",
    "\n",
    "L4 = list(range(6))\n",
    "print(L4)\n",
    "\n",
    "L5 = list('xyz')\n",
    "print(L5)"
   ]
  },
  {
   "cell_type": "markdown",
   "metadata": {},
   "source": [
    "### Creating a list without using list() constructor"
   ]
  },
  {
   "cell_type": "code",
   "execution_count": 11,
   "metadata": {},
   "outputs": [
    {
     "name": "stdout",
     "output_type": "stream",
     "text": [
      "[2, 5, 8]\n",
      "['Apple', 'Mango', 'Pine apple']\n"
     ]
    }
   ],
   "source": [
    "l6 = [2, 5, 8]\n",
    "print(l6)\n",
    "\n",
    "l7 = ['Apple', 'Mango', 'Pine apple']\n",
    "print(l7)"
   ]
  },
  {
   "cell_type": "markdown",
   "metadata": {},
   "source": [
    "### Hetrogeneous "
   ]
  },
  {
   "cell_type": "code",
   "execution_count": 13,
   "metadata": {},
   "outputs": [
    {
     "name": "stdout",
     "output_type": "stream",
     "text": [
      "[8, 'hwllo', 2.8]\n"
     ]
    }
   ],
   "source": [
    "l8 = [8, 'hwllo', 2.8]\n",
    "print(l8)"
   ]
  },
  {
   "cell_type": "markdown",
   "metadata": {},
   "source": [
    "### Accessing list elements "
   ]
  },
  {
   "cell_type": "code",
   "execution_count": 15,
   "metadata": {},
   "outputs": [
    {
     "name": "stdout",
     "output_type": "stream",
     "text": [
      "[8, 'hwllo', 2.8, 13, 98, 'hi', 5.3, 7]\n",
      "13\n",
      "5.3\n"
     ]
    }
   ],
   "source": [
    "l9 = [8, 'hwllo', 2.8, 13, 98, 'hi', 5.3, 7]\n",
    "print(l9)\n",
    "\n",
    "print(l9[3])\n",
    "print(l9[-2])"
   ]
  },
  {
   "cell_type": "markdown",
   "metadata": {},
   "source": [
    "### List slicing with steps"
   ]
  },
  {
   "cell_type": "code",
   "execution_count": 20,
   "metadata": {},
   "outputs": [
    {
     "name": "stdout",
     "output_type": "stream",
     "text": [
      "[65, 86]\n",
      "[65, 86, 8, 64]\n",
      "[10, 4]\n",
      "[9, 33, 64, 8, 86, 65, 4, 10]\n",
      "[4, 86, 64, 9]\n",
      "[9, 33, 64, 8, 86, 65, 4]\n"
     ]
    }
   ],
   "source": [
    "L1 = [10, 4, 65, 86, 8, 64, 33, 9]\n",
    "print(L1[2:4])\n",
    "print(L1[2:-2])\n",
    "print(L1[:2])\n",
    "print(L1[::-1]) # reverse the string\n",
    "\n",
    "print(L1[1:8:2])\n",
    "print(L1[-1:0:-1]) # reverse the string"
   ]
  },
  {
   "cell_type": "markdown",
   "metadata": {},
   "source": [
    "### Inbuilt function of list"
   ]
  },
  {
   "cell_type": "code",
   "execution_count": 22,
   "metadata": {},
   "outputs": [
    {
     "name": "stdout",
     "output_type": "stream",
     "text": [
      "3\n",
      "white\n"
     ]
    }
   ],
   "source": [
    "list1 = ['Red', 'white', 'Green']\n",
    "print(len(list1))\n",
    "print(max(list1))"
   ]
  },
  {
   "cell_type": "code",
   "execution_count": 28,
   "metadata": {},
   "outputs": [
    {
     "name": "stdout",
     "output_type": "stream",
     "text": [
      "86\n",
      "4\n",
      "8\n",
      "279\n"
     ]
    },
    {
     "data": {
      "text/plain": [
       "[64, 9, 8, 86, 10, 4, 33, 65]"
      ]
     },
     "execution_count": 28,
     "metadata": {},
     "output_type": "execute_result"
    }
   ],
   "source": [
    "list2 = [10, 4, 65, 86, 8, 64, 33, 9]\n",
    "print(max(list2))\n",
    "print(min(list2))\n",
    "print(len(list2))\n",
    "print(sum(list2))\n",
    "\n",
    "\n",
    "import random\n",
    "random.shuffle(list2)\n",
    "list2"
   ]
  },
  {
   "cell_type": "markdown",
   "metadata": {},
   "source": [
    "### List operators + and *"
   ]
  },
  {
   "cell_type": "code",
   "execution_count": 29,
   "metadata": {},
   "outputs": [
    {
     "data": {
      "text/plain": [
       "[1, 2, 4, 5, 6, 7]"
      ]
     },
     "execution_count": 29,
     "metadata": {},
     "output_type": "execute_result"
    }
   ],
   "source": [
    "a = [1, 2, 4]\n",
    "b = [5, 6, 7]\n",
    "\n",
    "a+b"
   ]
  },
  {
   "cell_type": "code",
   "execution_count": 30,
   "metadata": {},
   "outputs": [
    {
     "data": {
      "text/plain": [
       "[3, 5, 3, 5]"
      ]
     },
     "execution_count": 30,
     "metadata": {},
     "output_type": "execute_result"
    }
   ],
   "source": [
    "a = [3, 5]\n",
    "b = a*2\n",
    "\n",
    "b"
   ]
  },
  {
   "cell_type": "markdown",
   "metadata": {},
   "source": [
    "### List is and in operator"
   ]
  },
  {
   "cell_type": "code",
   "execution_count": 33,
   "metadata": {},
   "outputs": [
    {
     "data": {
      "text/plain": [
       "True"
      ]
     },
     "execution_count": 33,
     "metadata": {},
     "output_type": "execute_result"
    }
   ],
   "source": [
    "a = [6, 8]\n",
    "\n",
    "8 in a"
   ]
  },
  {
   "cell_type": "code",
   "execution_count": 34,
   "metadata": {},
   "outputs": [
    {
     "data": {
      "text/plain": [
       "True"
      ]
     },
     "execution_count": 34,
     "metadata": {},
     "output_type": "execute_result"
    }
   ],
   "source": [
    "a = 'python'\n",
    "b = 'python'\n",
    "\n",
    "a is b"
   ]
  },
  {
   "cell_type": "markdown",
   "metadata": {},
   "source": [
    "### del operator"
   ]
  },
  {
   "cell_type": "code",
   "execution_count": 37,
   "metadata": {},
   "outputs": [
    {
     "data": {
      "text/plain": [
       "[10, 86, 5, 96, 54, 7, 4]"
      ]
     },
     "execution_count": 37,
     "metadata": {},
     "output_type": "execute_result"
    }
   ],
   "source": [
    "list2 = [10, 86, 96, 5, 96, 54, 7, 4]\n",
    "\n",
    "del list2[2]\n",
    "list2"
   ]
  },
  {
   "cell_type": "code",
   "execution_count": 38,
   "metadata": {},
   "outputs": [
    {
     "data": {
      "text/plain": [
       "[10, 86, 54, 7, 4]"
      ]
     },
     "execution_count": 38,
     "metadata": {},
     "output_type": "execute_result"
    }
   ],
   "source": [
    "del list2[2:4]\n",
    "list2"
   ]
  },
  {
   "cell_type": "code",
   "execution_count": 39,
   "metadata": {},
   "outputs": [
    {
     "data": {
      "text/plain": [
       "[10, 86, 54, 7]"
      ]
     },
     "execution_count": 39,
     "metadata": {},
     "output_type": "execute_result"
    }
   ],
   "source": [
    "del list2[-1]\n",
    "list2"
   ]
  },
  {
   "cell_type": "code",
   "execution_count": 40,
   "metadata": {},
   "outputs": [
    {
     "data": {
      "text/plain": [
       "[]"
      ]
     },
     "execution_count": 40,
     "metadata": {},
     "output_type": "execute_result"
    }
   ],
   "source": [
    "del list2[:]\n",
    "list2"
   ]
  },
  {
   "cell_type": "markdown",
   "metadata": {},
   "source": [
    "## List comprehension: Create a new list from existing sequence"
   ]
  },
  {
   "cell_type": "code",
   "execution_count": 41,
   "metadata": {},
   "outputs": [
    {
     "data": {
      "text/plain": [
       "[15, 35, 81, 10, 80]"
      ]
     },
     "execution_count": 41,
     "metadata": {},
     "output_type": "execute_result"
    }
   ],
   "source": [
    "list1 = [10, 30, 76, 5, 75]\n",
    "\n",
    "for i in range(0, len(list1)):\n",
    "    list1[i] = list1[i]+5\n",
    "    \n",
    "list1"
   ]
  },
  {
   "cell_type": "code",
   "execution_count": 43,
   "metadata": {},
   "outputs": [
    {
     "data": {
      "text/plain": [
       "[15, 35, 81, 10, 80]"
      ]
     },
     "execution_count": 43,
     "metadata": {},
     "output_type": "execute_result"
    }
   ],
   "source": [
    "list1 = [10, 30, 76, 5, 75]\n",
    "\n",
    "list2 = [i+5 for i in list1]\n",
    "list2"
   ]
  },
  {
   "cell_type": "code",
   "execution_count": 45,
   "metadata": {},
   "outputs": [
    {
     "data": {
      "text/plain": [
       "[2, 4]"
      ]
     },
     "execution_count": 45,
     "metadata": {},
     "output_type": "execute_result"
    }
   ],
   "source": [
    "l3 = [1, 2, 3, 4, 5]\n",
    "\n",
    "l4 = [i for i in l3 if i%2==0]\n",
    "l4"
   ]
  },
  {
   "cell_type": "code",
   "execution_count": 47,
   "metadata": {},
   "outputs": [
    {
     "name": "stdout",
     "output_type": "stream",
     "text": [
      "[0, 1, 4, 9, 16, 25, 36, 49, 64, 81, 100]\n",
      "[0, 1, 8, 27, 64, 125, 216, 343, 512, 729, 1000]\n",
      "[0, 4, 16, 36, 64, 100]\n"
     ]
    }
   ],
   "source": [
    "sqr = [x**2 for x in range(11)]\n",
    "print(sqr)\n",
    "\n",
    "cube = [y**3 for y in range(11)]\n",
    "print(cube)\n",
    "\n",
    "eveninA = [z for z in sqr if z%2==0]\n",
    "print(eveninA)"
   ]
  },
  {
   "cell_type": "code",
   "execution_count": 49,
   "metadata": {},
   "outputs": [
    {
     "data": {
      "text/plain": [
       "[50.36, 42.8, 46.58, 46.4, 68.0]"
      ]
     },
     "execution_count": 49,
     "metadata": {},
     "output_type": "execute_result"
    }
   ],
   "source": [
    "list1 = [10.2, 6, 8.1, 8, 20]\n",
    "\n",
    "fahrenheitlist = [((9/5)*x+32) for x in list1]\n",
    "fahrenheitlist"
   ]
  },
  {
   "cell_type": "code",
   "execution_count": 2,
   "metadata": {},
   "outputs": [
    {
     "data": {
      "text/plain": [
       "[3.5]"
      ]
     },
     "execution_count": 2,
     "metadata": {},
     "output_type": "execute_result"
    }
   ],
   "source": [
    "list2 = [10, 'i', 2, 'python', 7, 3.5]\n",
    "\n",
    "onlydigit = [x for x in list2 if type(x) == float]\n",
    "onlydigit"
   ]
  },
  {
   "cell_type": "markdown",
   "metadata": {},
   "source": [
    "## List Method: append()"
   ]
  },
  {
   "cell_type": "code",
   "execution_count": 57,
   "metadata": {},
   "outputs": [
    {
     "name": "stdout",
     "output_type": "stream",
     "text": [
      "[10, 20, 50, 50]\n",
      "['i', 'a', 'u', 'o', 'e']\n"
     ]
    }
   ],
   "source": [
    "list1=[10, 20, 50]\n",
    "list1.append(50)\n",
    "print(list1)\n",
    "\n",
    "list2=['i', 'a', 'u', 'o']\n",
    "list2.append('e')\n",
    "print(list2)"
   ]
  },
  {
   "cell_type": "markdown",
   "metadata": {},
   "source": [
    "### count()"
   ]
  },
  {
   "cell_type": "code",
   "execution_count": 203,
   "metadata": {},
   "outputs": [
    {
     "data": {
      "text/plain": [
       "1"
      ]
     },
     "execution_count": 203,
     "metadata": {},
     "output_type": "execute_result"
    }
   ],
   "source": [
    "list4=[3, 'A', 'AA', 7, 8.7]\n",
    "list4.count('A')"
   ]
  },
  {
   "cell_type": "markdown",
   "metadata": {},
   "source": [
    "### clear()"
   ]
  },
  {
   "cell_type": "code",
   "execution_count": 202,
   "metadata": {},
   "outputs": [
    {
     "name": "stdout",
     "output_type": "stream",
     "text": [
      "[]\n"
     ]
    }
   ],
   "source": [
    "list3=[7, 8, 5, 3]\n",
    "list3.clear()\n",
    "print(list3)"
   ]
  },
  {
   "cell_type": "markdown",
   "metadata": {},
   "source": [
    "### copy()"
   ]
  },
  {
   "cell_type": "code",
   "execution_count": 66,
   "metadata": {},
   "outputs": [
    {
     "data": {
      "text/plain": [
       "['Red', 'Green', 9, 9.1]"
      ]
     },
     "execution_count": 66,
     "metadata": {},
     "output_type": "execute_result"
    }
   ],
   "source": [
    "list1=['Red', 'Green', 9, 9.1]\n",
    "list2=list1.copy()\n",
    "list2"
   ]
  },
  {
   "cell_type": "markdown",
   "metadata": {},
   "source": [
    "### extend()"
   ]
  },
  {
   "cell_type": "code",
   "execution_count": 90,
   "metadata": {},
   "outputs": [
    {
     "name": "stdout",
     "output_type": "stream",
     "text": [
      "[4, 5, 6, 1, 2, 3]\n"
     ]
    },
    {
     "data": {
      "text/plain": [
       "[3, 'Red', 'G', 'r', 'e', 'e', 'n']"
      ]
     },
     "execution_count": 90,
     "metadata": {},
     "output_type": "execute_result"
    }
   ],
   "source": [
    "list2=[1,2,3]\n",
    "list1=[4,5,6]\n",
    "list1.extend(list2)\n",
    "print(list1)\n",
    "\n",
    "\n",
    "list4=[3, 'Red']\n",
    "list4.extend('Green')\n",
    "list4"
   ]
  },
  {
   "cell_type": "markdown",
   "metadata": {},
   "source": [
    "### index()"
   ]
  },
  {
   "cell_type": "code",
   "execution_count": 74,
   "metadata": {},
   "outputs": [
    {
     "data": {
      "text/plain": [
       "2"
      ]
     },
     "execution_count": 74,
     "metadata": {},
     "output_type": "execute_result"
    }
   ],
   "source": [
    "list1=['Red', 'Green', 9, 9.1]\n",
    "list1.index(9)"
   ]
  },
  {
   "cell_type": "markdown",
   "metadata": {},
   "source": [
    "### insert()"
   ]
  },
  {
   "cell_type": "code",
   "execution_count": 91,
   "metadata": {},
   "outputs": [
    {
     "name": "stdout",
     "output_type": "stream",
     "text": [
      "['Red', 'Green', 9, 9.1, 50]\n"
     ]
    },
    {
     "data": {
      "text/plain": [
       "['Red', 'Green', 9, 9.1, 50, 'Green']"
      ]
     },
     "execution_count": 91,
     "metadata": {},
     "output_type": "execute_result"
    }
   ],
   "source": [
    "list1=['Red', 'Green', 9, 9.1]\n",
    "list1.insert(4,50)   # adding element 50 at 4th position \n",
    "print(list1)\n",
    "\n",
    "list1.insert(5, 'Green')\n",
    "list1"
   ]
  },
  {
   "cell_type": "markdown",
   "metadata": {},
   "source": [
    "### pop() and pop('index')"
   ]
  },
  {
   "cell_type": "code",
   "execution_count": 82,
   "metadata": {},
   "outputs": [
    {
     "name": "stdout",
     "output_type": "stream",
     "text": [
      "List element before pop: ['Red', 'Green', 9, 9.1]\n",
      "List element after pop: ['Red', 'Green', 9]\n",
      "List element after pop without index: ['Red', 'Green']\n"
     ]
    }
   ],
   "source": [
    "list1=['Red', 'Green', 9, 9.1]\n",
    "print('List element before pop:', list1)\n",
    "\n",
    "list1.pop(3)\n",
    "print('List element after pop:', list1)\n",
    "\n",
    "list1.pop()   # without index removes last element\n",
    "print('List element after pop without index:', list1)\n",
    "\n"
   ]
  },
  {
   "cell_type": "markdown",
   "metadata": {},
   "source": [
    "### remove()"
   ]
  },
  {
   "cell_type": "code",
   "execution_count": 83,
   "metadata": {},
   "outputs": [
    {
     "data": {
      "text/plain": [
       "['Red', 9, 9.1, 'India', 8.2]"
      ]
     },
     "execution_count": 83,
     "metadata": {},
     "output_type": "execute_result"
    }
   ],
   "source": [
    "list1=['Red', 'Green', 9, 9.1, 'India', 8.2]\n",
    "list1.remove('Green')\n",
    "list1"
   ]
  },
  {
   "cell_type": "markdown",
   "metadata": {},
   "source": [
    "### reverse()"
   ]
  },
  {
   "cell_type": "code",
   "execution_count": 84,
   "metadata": {},
   "outputs": [
    {
     "data": {
      "text/plain": [
       "[8.2, 'India', 9.1, 9, 'Green', 'Red']"
      ]
     },
     "execution_count": 84,
     "metadata": {},
     "output_type": "execute_result"
    }
   ],
   "source": [
    "list1=['Red', 'Green', 9, 9.1, 'India', 8.2]\n",
    "list1.reverse()\n",
    "list1"
   ]
  },
  {
   "cell_type": "markdown",
   "metadata": {},
   "source": [
    "### sort()"
   ]
  },
  {
   "cell_type": "code",
   "execution_count": 89,
   "metadata": {},
   "outputs": [
    {
     "data": {
      "text/plain": [
       "[8.2, 9.1]"
      ]
     },
     "execution_count": 89,
     "metadata": {},
     "output_type": "execute_result"
    }
   ],
   "source": [
    "list1=['Red', 'Green', 9, 9.1, 'India', 8.2, 8, 9, 99]\n",
    "list1=[x for x in list1 if type(x)==float]\n",
    "list1.sort()\n",
    "list1"
   ]
  },
  {
   "cell_type": "markdown",
   "metadata": {},
   "source": [
    "## List and Strings\n",
    "### Converting the strings to list"
   ]
  },
  {
   "cell_type": "code",
   "execution_count": 95,
   "metadata": {},
   "outputs": [
    {
     "name": "stdout",
     "output_type": "stream",
     "text": [
      "python\n",
      "<class 'str'>\n",
      "-----------------\n",
      "['p', 'y', 't', 'h', 'o', 'n']\n",
      "<class 'list'>\n"
     ]
    }
   ],
   "source": [
    "p = 'python'\n",
    "print(p)\n",
    "print(type(p))\n",
    "\n",
    "print('-----------------')\n",
    "p = list(p)\n",
    "print(p)\n",
    "print(type(p))"
   ]
  },
  {
   "cell_type": "markdown",
   "metadata": {},
   "source": [
    "## Splitting a strings in list"
   ]
  },
  {
   "cell_type": "code",
   "execution_count": 99,
   "metadata": {},
   "outputs": [
    {
     "name": "stdout",
     "output_type": "stream",
     "text": [
      "['Wow!!', 'Python', 'programming']\n",
      "---------OR----------\n"
     ]
    },
    {
     "data": {
      "text/plain": [
       "['Wow!!', 'Python', 'programming']"
      ]
     },
     "execution_count": 99,
     "metadata": {},
     "output_type": "execute_result"
    }
   ],
   "source": [
    "A = 'Wow!! Python programming'\n",
    "B=A.split()\n",
    "print(B)\n",
    "\n",
    "print('---------OR----------')\n",
    "C = 'Wow!! Python programming'.split()\n",
    "C"
   ]
  },
  {
   "cell_type": "code",
   "execution_count": 103,
   "metadata": {},
   "outputs": [
    {
     "data": {
      "text/plain": [
       "['Wow!', 'Python', 'programming', 'is', 'crazy!']"
      ]
     },
     "execution_count": 103,
     "metadata": {},
     "output_type": "execute_result"
    }
   ],
   "source": [
    "A = 'Wow!-Python-programming-is-crazy!'.split('-')\n",
    "A\n"
   ]
  },
  {
   "cell_type": "markdown",
   "metadata": {},
   "source": [
    "## Passing a list to a Function"
   ]
  },
  {
   "cell_type": "code",
   "execution_count": 110,
   "metadata": {},
   "outputs": [
    {
     "name": "stdout",
     "output_type": "stream",
     "text": [
      "1 2 3 "
     ]
    }
   ],
   "source": [
    "def print_list(lst):\n",
    "    for x in lst:\n",
    "        print(x, end=' ')\n",
    "\n",
    "lst=[1, 2, 3]\n",
    "print_list(lst) ## passing list as parameter"
   ]
  },
  {
   "cell_type": "code",
   "execution_count": 115,
   "metadata": {},
   "outputs": [
    {
     "name": "stdout",
     "output_type": "stream",
     "text": [
      "20.6\n"
     ]
    }
   ],
   "source": [
    "lst = [10, 20, 30, 40, 3]\n",
    "\n",
    "\n",
    "def avg_fun(lst):\n",
    "    count=0\n",
    "    for x in lst:\n",
    "        count+=x\n",
    "    avg=count/len(lst)\n",
    "    print(avg)\n",
    "    \n",
    "avg_fun(lst)"
   ]
  },
  {
   "cell_type": "code",
   "execution_count": 118,
   "metadata": {},
   "outputs": [
    {
     "name": "stdout",
     "output_type": "stream",
     "text": [
      "[2, 6, 7, 54]\n",
      "[5, 43, 7]\n"
     ]
    }
   ],
   "source": [
    "def split_list(lst, n):\n",
    "    print(lst[:n])\n",
    "    print(lst[n:])\n",
    "\n",
    "lst=[2, 6, 7, 54, 5, 43, 7]\n",
    "split_list(lst, 4)"
   ]
  },
  {
   "cell_type": "markdown",
   "metadata": {},
   "source": [
    "## Returning list from a function"
   ]
  },
  {
   "cell_type": "code",
   "execution_count": 121,
   "metadata": {},
   "outputs": [
    {
     "name": "stdout",
     "output_type": "stream",
     "text": [
      "[2, 6, 7, 54, 5, 43, 7]\n",
      "Reversed list:  [7, 43, 5, 54, 7, 6, 2]\n"
     ]
    }
   ],
   "source": [
    "def reverse_lst(lst):\n",
    "    print(lst)\n",
    "    lst.reverse()\n",
    "    return lst\n",
    "\n",
    "lst=[2, 6, 7, 54, 5, 43, 7]\n",
    "print('Reversed list: ', reverse_lst(lst))"
   ]
  },
  {
   "cell_type": "code",
   "execution_count": 122,
   "metadata": {},
   "outputs": [
    {
     "data": {
      "text/plain": [
       "[3, 6, 9, 12, 15]"
      ]
     },
     "execution_count": 122,
     "metadata": {},
     "output_type": "execute_result"
    }
   ],
   "source": [
    "def mul_digit(n):\n",
    "    lst=[]\n",
    "    for i in range(1,6):\n",
    "        lst.append(i*n)\n",
    "    return lst\n",
    "mul_digit(3)"
   ]
  },
  {
   "cell_type": "code",
   "execution_count": 123,
   "metadata": {},
   "outputs": [
    {
     "name": "stdout",
     "output_type": "stream",
     "text": [
      "Even number list: [2, 4, 6, 8, 10, 12, 14, 16, 18, 20]\n"
     ]
    }
   ],
   "source": [
    "def create_lst(a, b):\n",
    "    lst=[]\n",
    "    for i in range(a,b):\n",
    "        if i%2==0:\n",
    "            lst.append(i)\n",
    "    return lst\n",
    "\n",
    "print('Even number list:',create_lst(2, 21))"
   ]
  },
  {
   "cell_type": "code",
   "execution_count": 125,
   "metadata": {},
   "outputs": [
    {
     "data": {
      "text/plain": [
       "[2, 4, 6, 8, 10]"
      ]
     },
     "execution_count": 125,
     "metadata": {},
     "output_type": "execute_result"
    }
   ],
   "source": [
    "def create_list(a, b):\n",
    "    lst = [x for x in range(a, b) if x%2==0]\n",
    "    return lst\n",
    "create_list(2,12)"
   ]
  },
  {
   "cell_type": "code",
   "execution_count": 135,
   "metadata": {},
   "outputs": [
    {
     "data": {
      "text/plain": [
       "True"
      ]
     },
     "execution_count": 135,
     "metadata": {},
     "output_type": "execute_result"
    }
   ],
   "source": [
    "def is_peli_or_not(lst):\n",
    "    rev = lst[::-1]\n",
    "    if lst == rev:\n",
    "        return True\n",
    "    return False\n",
    "is_peli_or_not([1,2,1])"
   ]
  },
  {
   "cell_type": "code",
   "execution_count": 139,
   "metadata": {},
   "outputs": [
    {
     "data": {
      "text/plain": [
       "False"
      ]
     },
     "execution_count": 139,
     "metadata": {},
     "output_type": "execute_result"
    }
   ],
   "source": [
    "def check_dupli(lst):\n",
    "    new_lst=[]\n",
    "    for x in lst:\n",
    "        if x not in new_lst:\n",
    "            new_lst.append(x)\n",
    "        else:\n",
    "            return True\n",
    "    return False\n",
    "        \n",
    "check_dupli([1,2,3])"
   ]
  },
  {
   "cell_type": "code",
   "execution_count": 148,
   "metadata": {},
   "outputs": [
    {
     "name": "stdout",
     "output_type": "stream",
     "text": [
      "Enter the input number:1\n",
      "Enter the input number:2\n",
      "Enter the input number:3\n",
      "Max number is 3\n"
     ]
    }
   ],
   "source": [
    "lst =[]\n",
    "\n",
    "for i in range(3):\n",
    "    lst1 = int(input('Enter the input number:'))\n",
    "    lst.append(lst1)\n",
    "\n",
    "print('Max number is',max(lst))"
   ]
  },
  {
   "cell_type": "code",
   "execution_count": 155,
   "metadata": {},
   "outputs": [
    {
     "name": "stdout",
     "output_type": "stream",
     "text": [
      "Student 1 Marks 21 with Grade F\n",
      "Student 2 Marks 38 with Grade F\n",
      "Student 3 Marks 86 with Grade B\n",
      "Student 4 Marks 65 with Grade C\n",
      "Student 5 Marks 54 with Grade D\n"
     ]
    }
   ],
   "source": [
    "def assign_grade(lst):\n",
    "    for x in lst:\n",
    "        if x>=90:\n",
    "            print('Student',lst.index(x)+1,'Marks',x,'with Grade A')\n",
    "        elif x>=80 and x<90:\n",
    "            print('Student',lst.index(x)+1,'Marks',x,'with Grade B')\n",
    "        elif x>=65 and x<80:\n",
    "            print('Student',lst.index(x)+1,'Marks',x,'with Grade C')\n",
    "        elif x>=40 and x<65:\n",
    "            print('Student',lst.index(x)+1,'Marks',x,'with Grade D')\n",
    "        else:\n",
    "            print('Student',lst.index(x)+1,'Marks',x,'with Grade F')\n",
    "\n",
    "lst=[21,38,86,65,54]            \n",
    "assign_grade(lst)"
   ]
  },
  {
   "cell_type": "code",
   "execution_count": 170,
   "metadata": {},
   "outputs": [
    {
     "name": "stdout",
     "output_type": "stream",
     "text": [
      "0\n",
      "Duplicated element is: 5\n"
     ]
    },
    {
     "data": {
      "text/plain": [
       "True"
      ]
     },
     "execution_count": 170,
     "metadata": {},
     "output_type": "execute_result"
    }
   ],
   "source": [
    "def dupli(lst):\n",
    "    new_lst=[]\n",
    "    \n",
    "    for i in lst:\n",
    "        count = 0\n",
    "        if i not in new_lst:\n",
    "            new_lst.append(i)\n",
    "        else:\n",
    "            count+=1\n",
    "            print('Duplicated element is:',i)\n",
    "            return True\n",
    "        \n",
    "    return False\n",
    "# print(count)\n",
    "\n",
    "dupli([1,2,54,5,5,5])"
   ]
  },
  {
   "cell_type": "code",
   "execution_count": 175,
   "metadata": {},
   "outputs": [
    {
     "name": "stdout",
     "output_type": "stream",
     "text": [
      "List: [1, 2, 3]\n",
      "Reversed list: [3, 2, 1]\n"
     ]
    }
   ],
   "source": [
    "def reverse_lst(lst):\n",
    "    print('List:',lst)\n",
    "    lst.reverse()\n",
    "    print('Reversed list:',lst)\n",
    "\n",
    "reverse_lst([1,2,3])"
   ]
  },
  {
   "cell_type": "code",
   "execution_count": 178,
   "metadata": {},
   "outputs": [
    {
     "name": "stdout",
     "output_type": "stream",
     "text": [
      "[19, 17, 15, 13, 11]\n"
     ]
    }
   ],
   "source": [
    "def odd_descending(a, b):\n",
    "    lst = [x for x in range(a,b+1) if x%2!=0]\n",
    "    lst.reverse()\n",
    "    print(lst)\n",
    "    \n",
    "odd_descending(10,20)"
   ]
  },
  {
   "cell_type": "markdown",
   "metadata": {},
   "source": [
    "## Exercise"
   ]
  },
  {
   "cell_type": "code",
   "execution_count": 181,
   "metadata": {},
   "outputs": [
    {
     "data": {
      "text/plain": [
       "[1, 2, 3, 4]"
      ]
     },
     "execution_count": 181,
     "metadata": {},
     "output_type": "execute_result"
    }
   ],
   "source": [
    "L1 = [1, 2, 3, 4, 5]\n",
    "L1[0:-1]"
   ]
  },
  {
   "cell_type": "code",
   "execution_count": 185,
   "metadata": {},
   "outputs": [
    {
     "data": {
      "text/plain": [
       "[[0, 1, 2], [1, 2, 3], [2, 3, 4]]"
      ]
     },
     "execution_count": 185,
     "metadata": {},
     "output_type": "execute_result"
    }
   ],
   "source": [
    "L2 = [[n, n+1, n+2] for n in range(3)]\n",
    "L2"
   ]
  },
  {
   "cell_type": "code",
   "execution_count": 190,
   "metadata": {},
   "outputs": [
    {
     "name": "stdout",
     "output_type": "stream",
     "text": [
      "['m', 'n', 'm', 'h', 'n', ' ', 's', 'n', 'g', 'h']"
     ]
    }
   ],
   "source": [
    "str = 'Manamohan Singh'\n",
    "\n",
    "k = [i for i in str.lower() if i not in 'aeiou']\n",
    "print(k, end='')"
   ]
  },
  {
   "cell_type": "code",
   "execution_count": 191,
   "metadata": {},
   "outputs": [
    {
     "name": "stdout",
     "output_type": "stream",
     "text": [
      "['A', 2, 3]\n"
     ]
    }
   ],
   "source": [
    "def fun1(L1):\n",
    "    L1[0]='A'\n",
    "L1=[1,2,3]\n",
    "fun1(L1)\n",
    "print(L1)"
   ]
  },
  {
   "cell_type": "code",
   "execution_count": 192,
   "metadata": {},
   "outputs": [
    {
     "name": "stdout",
     "output_type": "stream",
     "text": [
      "[40, 2]\n"
     ]
    }
   ],
   "source": [
    "L1 = [1, 2]\n",
    "L2 = L1\n",
    "L1[0]=40\n",
    "print(L2)"
   ]
  },
  {
   "cell_type": "code",
   "execution_count": 194,
   "metadata": {},
   "outputs": [],
   "source": [
    "# L1 = [1, 2,3,4,5]\n",
    "# L2=[]+L1\n",
    "# L1[1]=6\n",
    "# print(L1*L2)\n",
    "# print(L2)"
   ]
  },
  {
   "cell_type": "code",
   "execution_count": 200,
   "metadata": {},
   "outputs": [
    {
     "name": "stdout",
     "output_type": "stream",
     "text": [
      "1\n",
      "2\n"
     ]
    }
   ],
   "source": [
    "def rep_n_times(lst, n):\n",
    "    for i in lst:\n",
    "        print(i)\n",
    "        \n",
    "rep_n_times([1,2],3)"
   ]
  },
  {
   "cell_type": "code",
   "execution_count": 215,
   "metadata": {},
   "outputs": [
    {
     "name": "stdout",
     "output_type": "stream",
     "text": [
      "1 occurs 1 times\n",
      "2 occurs 1 times\n",
      "5 occurs 1 times\n",
      "6 occurs 3 times\n",
      "8 occurs 2 times\n",
      "4 occurs 3 times\n",
      "3 occurs 2 times\n",
      "87 occurs 1 times\n",
      "9 occurs 1 times\n"
     ]
    }
   ],
   "source": [
    "lst = [1,2, 5, 6, 8, 4, 3,3,4,4,6, 87,8,9,6]\n",
    "new_lst=[]\n",
    "def occu(lst):\n",
    "    for i in lst:\n",
    "        if i not in new_lst:\n",
    "            new_lst.append(i)\n",
    "            print(i, 'occurs',lst.count(i), 'times')\n",
    "        else:\n",
    "            continue\n",
    "occu(lst)"
   ]
  },
  {
   "cell_type": "code",
   "execution_count": 221,
   "metadata": {},
   "outputs": [
    {
     "name": "stdout",
     "output_type": "stream",
     "text": [
      "List after removing the negative number: [1, 2, 5, 6, 0, 8, 4, 3, 4, 4, 6, 87, 8, 9, 6]\n"
     ]
    }
   ],
   "source": [
    "def remove_neg(lst):\n",
    "    lst = [i for i in lst if i>=0]\n",
    "    print('List after removing the negative number:',lst)\n",
    "    \n",
    "lst = [1,2, 5, 6, 0,8, 4, 3,-3,4,4,6, 87,8,9,6]\n",
    "remove_neg(lst) \n",
    "        "
   ]
  },
  {
   "cell_type": "code",
   "execution_count": 240,
   "metadata": {},
   "outputs": [
    {
     "data": {
      "text/plain": [
       "[1, 1, 2, 2, 5, 5, 6, 6, 6, 6]"
      ]
     },
     "execution_count": 240,
     "metadata": {},
     "output_type": "execute_result"
    }
   ],
   "source": [
    "def create_dupli(lst):\n",
    "    new_lst = []\n",
    "    for x in lst:\n",
    "#         print(x, x, end=' ')\n",
    "        new_lst.append(x)\n",
    "        new_lst.append(x)\n",
    "    return new_lst\n",
    "lst = [1,2, 5, 6, 6]\n",
    "create_dupli(lst) "
   ]
  },
  {
   "cell_type": "code",
   "execution_count": 242,
   "metadata": {},
   "outputs": [
    {
     "data": {
      "text/plain": [
       "[2, 5, 6]"
      ]
     },
     "execution_count": 242,
     "metadata": {},
     "output_type": "execute_result"
    }
   ],
   "source": [
    "def remove_first_last(lst):\n",
    "    lst.pop()\n",
    "    lst.pop(0)\n",
    "    return lst\n",
    "    \n",
    "lst = [1,2, 5, 6, 6]\n",
    "remove_first_last(lst) "
   ]
  },
  {
   "cell_type": "code",
   "execution_count": 1,
   "metadata": {},
   "outputs": [
    {
     "data": {
      "text/plain": [
       "[2, 6, 0, 8, 4, 4, 4, 6, 8, 6]"
      ]
     },
     "execution_count": 1,
     "metadata": {},
     "output_type": "execute_result"
    }
   ],
   "source": [
    "def even(lst):\n",
    "    lst = [x for x in lst if x%2==0]\n",
    "    return lst\n",
    "\n",
    "lst = [1,2, 5, 6, 0,8, 4, 3,-3,4,4,6, 87,8,9,6]\n",
    "even(lst) "
   ]
  },
  {
   "cell_type": "code",
   "execution_count": 2,
   "metadata": {},
   "outputs": [
    {
     "name": "stdout",
     "output_type": "stream",
     "text": [
      "[1, 4, 9, 16, 25]\n"
     ]
    }
   ],
   "source": [
    "l=[1,2,3,4,5]\n",
    "#1,4,9\n",
    "\n",
    "def sqr(l):\n",
    "    l2 = [i**2 for i in l]\n",
    "    print(l2)\n",
    "#     for i in l:\n",
    "sqr(l)"
   ]
  }
 ],
 "metadata": {
  "kernelspec": {
   "display_name": "Python 3.10.0 64-bit",
   "language": "python",
   "name": "python3"
  },
  "language_info": {
   "codemirror_mode": {
    "name": "ipython",
    "version": 3
   },
   "file_extension": ".py",
   "mimetype": "text/x-python",
   "name": "python",
   "nbconvert_exporter": "python",
   "pygments_lexer": "ipython3",
   "version": "3.10.0"
  },
  "vscode": {
   "interpreter": {
    "hash": "b010794ecdab781c819b1d4b9c2b6f73309eb508e0daf641861518438ffe6e23"
   }
  }
 },
 "nbformat": 4,
 "nbformat_minor": 4
}
